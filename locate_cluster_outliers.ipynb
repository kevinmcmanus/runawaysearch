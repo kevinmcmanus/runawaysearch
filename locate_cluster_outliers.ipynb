{
 "cells": [
  {
   "cell_type": "code",
   "execution_count": null,
   "metadata": {},
   "outputs": [],
   "source": [
    "#import necessary packages and files\n",
    "import matplotlib.pyplot as plt\n",
    "from matplotlib.pyplot import cm\n",
    "import seaborn as sns\n",
    "\n",
    "%matplotlib inline\n",
    "\n",
    "from fieldstars import fieldstars as fs\n",
    "import astropy.coordinates as coord\n",
    "from astropy.table import QTable, Table, vstack\n",
    "import astropy.units as u\n",
    "from astropy.coordinates.sky_coordinate import SkyCoord\n",
    "from astropy.units import Quantity\n",
    "from astropy.visualization import quantity_support\n",
    "from astroquery.gaia import Gaia\n",
    "from astroquery.simbad import Simbad\n",
    "\n",
    "import pandas as pd\n",
    "import numpy as np\n",
    "import pickle\n",
    "import os"
   ]
  },
  {
   "cell_type": "code",
   "execution_count": null,
   "metadata": {},
   "outputs": [],
   "source": [
    "#set up SIMBAD query for reference of known cluster members (should we use the GAIA associated members from that paper instead? or both like Kevin did in PleiadesGMM?)\n",
    "#calculate cluster center from SIBAD/GAIA known reference stars\n"
   ]
  },
  {
   "cell_type": "code",
   "execution_count": null,
   "metadata": {},
   "outputs": [],
   "source": [
    "#do cone search of GAIA around cluster center (from fieldstars.py)"
   ]
  },
  {
   "cell_type": "code",
   "execution_count": null,
   "metadata": {},
   "outputs": [],
   "source": [
    "#CHECK 1 get proper motions of all new stars\n",
    "#extrapolate pms \"backwards\" (need to figure this part out still) (will be written in extrapolate_proper_motions.py)\n",
    "#if the extrapolated pm of a star is within a certain distance from the cluster center, keep it\n",
    "#else, throw out stars that are no where near the cluster center when extrapolated pm\n"
   ]
  },
  {
   "cell_type": "code",
   "execution_count": null,
   "metadata": {},
   "outputs": [],
   "source": [
    "#CHECK 2 calculate color index of new stars kept (not sure if magnitude needs to be calculated or if it is already in DR2) (will be written within get_color_index.py)\n",
    "#if color index of a star match the metric we decide, keep it (have to calculate what color is expected from known cluster members) (will be written within get_color_index.py)\n"
   ]
  },
  {
   "cell_type": "code",
   "execution_count": null,
   "metadata": {},
   "outputs": [],
   "source": [
    "#calculate radial velocities of stars that passed both Check 1 & 2 (this may be outside the scope of DR2)"
   ]
  },
  {
   "cell_type": "code",
   "execution_count": null,
   "metadata": {},
   "outputs": [],
   "source": []
  }
 ],
 "metadata": {
  "kernelspec": {
   "display_name": "Python 3",
   "language": "python",
   "name": "python3"
  },
  "language_info": {
   "codemirror_mode": {
    "name": "ipython",
    "version": 3
   },
   "file_extension": ".py",
   "mimetype": "text/x-python",
   "name": "python",
   "nbconvert_exporter": "python",
   "pygments_lexer": "ipython3",
   "version": "3.7.3"
  }
 },
 "nbformat": 4,
 "nbformat_minor": 2
}
