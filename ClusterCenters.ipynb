{
 "cells": [
  {
   "cell_type": "code",
   "execution_count": 1,
   "metadata": {},
   "outputs": [
    {
     "name": "stdout",
     "output_type": "stream",
     "text": [
      "Created TAP+ (v1.2.1) - Connection:\n",
      "\tHost: gea.esac.esa.int\n",
      "\tUse HTTPS: True\n",
      "\tPort: 443\n",
      "\tSSL Port: 443\n",
      "Created TAP+ (v1.2.1) - Connection:\n",
      "\tHost: geadata.esac.esa.int\n",
      "\tUse HTTPS: True\n",
      "\tPort: 443\n",
      "\tSSL Port: 443\n"
     ]
    }
   ],
   "source": [
    "import numpy as np\n",
    "import pandas as pd\n",
    "import matplotlib.pyplot as plt\n",
    "#matplotlib inline\n",
    "\n",
    "import sys\n",
    "sys.path.append('..')\n",
    "sys.path.append('./src')\n",
    "\n",
    "from src.data_queries import querySIMBAD, formatSIMBADtoGAIA, getGAIAKnownMembers, getClusterInfo\n",
    "from src.gaiastars import gaiastars as gs\n",
    "\n",
    "import astropy.units as u"
   ]
  },
  {
   "cell_type": "code",
   "execution_count": 2,
   "metadata": {},
   "outputs": [],
   "source": [
    "errorcolumns = [\n",
    "    'ra_error', 'dec_error', 'parallax_error', 'pmra_error', 'pmdec_error','radial_velocity_error',\n",
    "    'ra_dec_corr', 'ra_parallax_corr','ra_pmra_corr', 'ra_pmdec_corr',\n",
    "    'dec_parallax_corr', 'dec_pmra_corr', 'dec_pmdec_corr',\n",
    "    'parallax_pmra_corr', 'parallax_pmdec_corr',\n",
    "    'pmra_pmdec_corr'\n",
    "]\n",
    "#add table to query to get the ruwe parameter\n",
    "fixme = gs(name='fixme')\n",
    "fixme.add_table_columns(errorcolumns,schema='gaiadr2')"
   ]
  },
  {
   "cell_type": "code",
   "execution_count": 3,
   "metadata": {},
   "outputs": [
    {
     "name": "stdout",
     "output_type": "stream",
     "text": [
      "['Hyades' 'ComaBer' 'Pleiades' 'Praesepe' 'alphaPer' 'IC2391' 'IC2602'\n",
      " 'Blanco1' 'NGC2451']\n"
     ]
    }
   ],
   "source": [
    "known_cluster_members, cluster_names = getGAIAKnownMembers()\n",
    "print(cluster_names)"
   ]
  },
  {
   "cell_type": "code",
   "execution_count": 4,
   "metadata": {},
   "outputs": [
    {
     "name": "stdout",
     "output_type": "stream",
     "text": [
      "INFO: Query finished. [astroquery.utils.tap.core]\n",
      "INFO: Query finished. [astroquery.utils.tap.core]\n",
      "INFO: Query finished. [astroquery.utils.tap.core]\n",
      "INFO: Query finished. [astroquery.utils.tap.core]\n",
      "INFO: Query finished. [astroquery.utils.tap.core]\n",
      "INFO: Query finished. [astroquery.utils.tap.core]\n",
      "INFO: Query finished. [astroquery.utils.tap.core]\n",
      "INFO: Query finished. [astroquery.utils.tap.core]\n",
      "INFO: Query finished. [astroquery.utils.tap.core]\n"
     ]
    }
   ],
   "source": [
    "\n",
    "cluster_members={}\n",
    "#for cl in cluster_names:\n",
    "for cl in cluster_names:\n",
    "    known_members_dr2 = list(known_cluster_members.query('Cluster == @cl').index)\n",
    "    cluster_members[cl]  = gs(name = cl, description=f'{cl} sources from Table 1a records from Gaia archive')\n",
    "    cluster_members[cl].from_source_idlist(list(known_members_dr2),schema='gaiadr2', query_type='async')"
   ]
  },
  {
   "cell_type": "code",
   "execution_count": 5,
   "metadata": {},
   "outputs": [],
   "source": [
    "cluster_info = getClusterInfo()\n",
    "cluster_info.rename_column('RV','radial_velocity')\n",
    "cluster_info.rename_column('e_RV','radial_velocity_error')\n",
    "cluster_info.rename_column('plx','parallax')\n",
    "cluster_info.rename_column('e_plx','parallax_error')\n",
    "cluster_info.rename_column('e_pmra','pmra_error')\n",
    "cluster_info.rename_column('e_pmdec','pmdec_error')\n"
   ]
  },
  {
   "cell_type": "code",
   "execution_count": 6,
   "metadata": {},
   "outputs": [
    {
     "data": {
      "text/html": [
       "<i>Row index=6</i>\n",
       "<table id=\"table139790924682448\">\n",
       "<thead><tr><th>cluster</th><th>ra</th><th>dec</th><th>U</th><th>e_U</th><th>V</th><th>e_V</th><th>W</th><th>e_W</th><th>cUV</th><th>cUW</th><th>cVW</th><th>ra_conv</th><th>dec_conv</th><th>parallax</th><th>parallax_error</th><th>pmra</th><th>pmra_error</th><th>pmdec</th><th>pmdec_error</th><th>NMemb</th><th>uwsd</th><th>radial_velocity</th><th>radial_velocity_error</th><th>coords</th><th>DM</th><th>log_age</th><th>Fe_H</th><th>e_b_minus_v</th><th>NMembers</th><th>Z</th></tr></thead>\n",
       "<thead><tr><th></th><th></th><th></th><th></th><th></th><th></th><th></th><th></th><th></th><th></th><th></th><th></th><th></th><th></th><th></th><th></th><th></th><th></th><th></th><th></th><th></th><th></th><th></th><th></th><th>deg,deg,pc</th><th></th><th></th><th></th><th></th><th></th><th></th></tr></thead>\n",
       "<thead><tr><th>str8</th><th>float64</th><th>float64</th><th>float64</th><th>float64</th><th>float64</th><th>float64</th><th>float64</th><th>float64</th><th>float64</th><th>float64</th><th>float64</th><th>float64</th><th>float64</th><th>float64</th><th>float64</th><th>float64</th><th>float64</th><th>float64</th><th>float64</th><th>int64</th><th>float64</th><th>float64</th><th>float64</th><th>object</th><th>float64</th><th>float64</th><th>float64</th><th>float64</th><th>int64</th><th>float64</th></tr></thead>\n",
       "<tr><td>Pleiades</td><td>56.44</td><td>23.86</td><td>-1.311</td><td>0.07</td><td>21.39</td><td>0.105</td><td>-24.456999999999997</td><td>0.057</td><td>0.48</td><td>0.5</td><td>0.9</td><td>93.5183</td><td>-48.7831</td><td>7.364</td><td>0.005</td><td>19.997</td><td>0.127</td><td>-45.548</td><td>0.10099999999999999</td><td>1326</td><td>0.77</td><td>5.65</td><td>0.09</td><td>56.44,23.86,135.79576317218903</td><td>5.667000000000001</td><td>8.04</td><td>-0.01</td><td>0.045</td><td>1059</td><td>0.017</td></tr>\n",
       "</table>"
      ],
      "text/plain": [
       "<Row index=6>\n",
       "cluster     ra     dec      U      e_U      V      e_V            W            e_W     cUV     cUW     cVW   ra_conv dec_conv parallax parallax_error   pmra  pmra_error  pmdec      pmdec_error     NMemb   uwsd  radial_velocity radial_velocity_error             coords                     DM        log_age   Fe_H  e_b_minus_v NMembers    Z   \n",
       "                                                                                                                                                                                                                                                                   deg,deg,pc                                                                         \n",
       "  str8   float64 float64 float64 float64 float64 float64       float64       float64 float64 float64 float64 float64 float64  float64     float64     float64  float64   float64       float64       int64 float64     float64            float64                    object                  float64      float64 float64   float64    int64   float64\n",
       "-------- ------- ------- ------- ------- ------- ------- ------------------- ------- ------- ------- ------- ------- -------- -------- -------------- ------- ---------- ------- ------------------- ----- ------- --------------- --------------------- ------------------------------ ----------------- ------- ------- ----------- -------- -------\n",
       "Pleiades   56.44   23.86  -1.311    0.07   21.39   0.105 -24.456999999999997   0.057    0.48     0.5     0.9 93.5183 -48.7831    7.364          0.005  19.997      0.127 -45.548 0.10099999999999999  1326    0.77            5.65                  0.09 56.44,23.86,135.79576317218903 5.667000000000001    8.04   -0.01       0.045     1059   0.017"
      ]
     },
     "execution_count": 6,
     "metadata": {},
     "output_type": "execute_result"
    }
   ],
   "source": [
    "cluster_info.loc['Pleiades']"
   ]
  },
  {
   "cell_type": "code",
   "execution_count": 7,
   "metadata": {},
   "outputs": [
    {
     "name": "stdout",
     "output_type": "stream",
     "text": [
      "Cluster: Hyades, length of members list: 515, Members in cluster_info: 515\n",
      "Cluster: ComaBer, length of members list: 153, Members in cluster_info: 153\n",
      "Cluster: Pleiades, length of members list: 1326, Members in cluster_info: 1326\n",
      "Cluster: Praesepe, length of members list: 938, Members in cluster_info: 938\n",
      "Cluster: alphaPer, length of members list: 740, Members in cluster_info: 740\n",
      "Cluster: IC2391, length of members list: 325, Members in cluster_info: 325\n",
      "Cluster: IC2602, length of members list: 492, Members in cluster_info: 492\n",
      "Cluster: Blanco1, length of members list: 489, Members in cluster_info: 489\n",
      "Cluster: NGC2451, length of members list: 400, Members in cluster_info: 400\n"
     ]
    }
   ],
   "source": [
    "for cl in cluster_names:\n",
    "    nmemb = cluster_info.loc[cl]['NMemb']\n",
    "    print(f'Cluster: {cl}, length of members list: {len(cluster_members[cl])}, Members in cluster_info: {nmemb}')"
   ]
  },
  {
   "cell_type": "code",
   "execution_count": 8,
   "metadata": {},
   "outputs": [],
   "source": [
    "cluster_means = pd.DataFrame([cluster_members[cl].objs.mean() for cl in cluster_names], index=cluster_names)\n",
    "cluster_sds = pd.DataFrame([cluster_members[cl].objs.std(ddof=1) for cl in cluster_names], index=cluster_names)"
   ]
  },
  {
   "cell_type": "code",
   "execution_count": 9,
   "metadata": {},
   "outputs": [],
   "source": [
    " def plot_measure(ax, measure,sample=False):\n",
    "    N = cluster_info.loc[cluster_names]['NMemb'] if sample else 1\n",
    "    cmeans = cluster_means.loc[cluster_names][measure]/np.sqrt(N)\n",
    "    errs=cluster_info.loc[cluster_names][measure]- cmeans\n",
    "    rmse = np.sqrt((errs**2).mean())\n",
    "    eqline = np.linspace(cmeans.min(),cmeans.max(), 1000)\n",
    "    ax.plot(eqline, eqline, color='red', ls='-',label='Equal')\n",
    "    for cl in cluster_names:\n",
    "        ax.scatter(cluster_info.loc[cl][measure], cmeans[cl], label=cl)\n",
    "\n",
    "    ax.set_title(f'Measure: {measure}, Root Mean Squared Error: {rmse:.4f}')\n",
    "    ax.set_ylabel('Calculated')\n",
    "    ax.set_xlabel('From Table')\n",
    "    ax.legend()"
   ]
  },
  {
   "cell_type": "code",
   "execution_count": 10,
   "metadata": {},
   "outputs": [],
   "source": [
    "def eq_to_cart(ra, dec, plx):\n",
    "    rarad = np.radians(ra); decrad = np.radians(dec)\n",
    "    r = 1000.0/plx\n",
    "    \n",
    "    x = r*np.cos(rarad)*np.cos(decrad)\n",
    "    y = r*np.sin(rarad)*np.cos(decrad)\n",
    "    z = r*np.sin(decrad)\n",
    "    \n",
    "    return np.array([x,y,z])\n",
    "    \n",
    "def ang_separation(alpha1, delta1, alpha2, delta2):\n",
    "    arcsec_per_degree = 3600\n",
    "\n",
    "    delta1rad = np.radians(delta1)\n",
    "    alpha1rad = np.radians(alpha1)\n",
    "\n",
    "    delta2rad = np.radians(delta2)\n",
    "    alpha2rad = np.radians(alpha2)\n",
    "\n",
    "    cos_theta = np.sin(delta1rad)*np.sin(delta2rad)+np.cos(delta1rad)*np.cos(delta2rad)*np.cos(alpha1rad-alpha2rad)\n",
    "    thetarad = np.arccos(cos_theta)\n",
    "    theta = np.degrees(thetarad)\n",
    "\n",
    "    return theta*arcsec_per_degree"
   ]
  },
  {
   "cell_type": "code",
   "execution_count": 11,
   "metadata": {},
   "outputs": [],
   "source": [
    "from transforms import pm_to_dxyz"
   ]
  },
  {
   "cell_type": "code",
   "execution_count": 12,
   "metadata": {},
   "outputs": [
    {
     "data": {
      "text/plain": [
       "array([ 68.65357087, 103.48860333,  54.92982325])"
      ]
     },
     "execution_count": 12,
     "metadata": {},
     "output_type": "execute_result"
    }
   ],
   "source": [
    "eq_to_cart(cluster_info.loc['Pleiades']['ra'],cluster_info.loc['Pleiades']['dec'],cluster_info.loc['Pleiades']['parallax'])"
   ]
  },
  {
   "cell_type": "code",
   "execution_count": 13,
   "metadata": {},
   "outputs": [
    {
     "data": {
      "text/plain": [
       "<CartesianRepresentation (x, y, z) in pc\n",
       "    (68.65357087, 103.48860333, 54.92982325)\n",
       " (has differentials w.r.t.: 's')>"
      ]
     },
     "execution_count": 13,
     "metadata": {},
     "output_type": "execute_result"
    }
   ],
   "source": [
    "cluster_info.loc['Pleiades']['coords'].cartesian"
   ]
  },
  {
   "cell_type": "code",
   "execution_count": 14,
   "metadata": {},
   "outputs": [],
   "source": [
    "true_xyz = eq_to_cart(cluster_info.loc[cluster_names]['ra'],cluster_info.loc[cluster_names]['dec'],cluster_info.loc[cluster_names]['parallax'])\n",
    "calc_xyz = eq_to_cart(cluster_means.loc[cluster_names].ra, cluster_means.loc[cluster_names].dec, cluster_means.loc[cluster_names].parallax)\n",
    "delta_xyz = calc_xyz-true_xyz\n",
    "dist_seps = pd.Series(np.sqrt((delta_xyz**2).sum(axis=0)), index=cluster_names)\n",
    "ang_seps = ang_separation(cluster_info.loc[cluster_names]['ra'], cluster_info.loc[cluster_names]['dec'], cluster_means.loc[cluster_names].ra, cluster_means.loc[cluster_names].dec)\n"
   ]
  },
  {
   "cell_type": "code",
   "execution_count": 15,
   "metadata": {},
   "outputs": [],
   "source": [
    "true_spacev3d = np.array([pm_to_dxyz(cluster_info.loc[cl]['ra'],cluster_info.loc[cl]['dec'],\n",
    "                         1000/cluster_info.loc[cl]['parallax'],cluster_info.loc[cl]['pmra'],\n",
    "                         cluster_info.loc[cl]['pmdec'],cluster_info.loc[cl]['radial_velocity']) for cl in cluster_names])\n",
    "true_spacev3d_uvw = np.array([cluster_info.loc[cluster_names][x] for x in list('UVW')]).T\n",
    "true_spacev = np.sqrt((true_spacev3d**2).sum(axis=1))\n",
    "true_spacev_uvw = np.sqrt((true_spacev3d_uvw**2).sum(axis=1))\n"
   ]
  },
  {
   "cell_type": "code",
   "execution_count": 16,
   "metadata": {},
   "outputs": [
    {
     "data": {
      "text/plain": [
       "array([46.00599825,  6.12062806, 32.52189321, 48.89839819, 28.41509363,\n",
       "       28.84589111, 22.02438305, 22.06161125, 32.99405842])"
      ]
     },
     "execution_count": 16,
     "metadata": {},
     "output_type": "execute_result"
    }
   ],
   "source": [
    "calc_spacev3d = np.array([pm_to_dxyz(cl.ra, cl.dec, 1000/cl.parallax, cl.pmra, cl.pmdec, cl.radial_velocity)\\\n",
    "                          for cl in cluster_means.loc[cluster_names].itertuples()])\n",
    "\n",
    "calc_spacev = np.sqrt((calc_spacev3d**2).sum(axis=1))\n",
    "calc_spacev"
   ]
  },
  {
   "cell_type": "code",
   "execution_count": 17,
   "metadata": {},
   "outputs": [
    {
     "data": {
      "text/plain": [
       "<matplotlib.collections.PathCollection at 0x7f239c254810>"
      ]
     },
     "execution_count": 17,
     "metadata": {},
     "output_type": "execute_result"
    },
    {
     "data": {
      "image/png": "[encoded data removed]",
      "text/plain": [
       "<Figure size 432x288 with 1 Axes>"
      ]
     },
     "metadata": {
      "needs_background": "light"
     },
     "output_type": "display_data"
    }
   ],
   "source": [
    "plt.scatter(true_spacev_uvw, true_spacev)\n",
    "plt.scatter(true_spacev_uvw, calc_spacev)"
   ]
  },
  {
   "cell_type": "code",
   "execution_count": 18,
   "metadata": {},
   "outputs": [],
   "source": [
    "from astropy.table import Table\n"
   ]
  },
  {
   "cell_type": "code",
   "execution_count": 19,
   "metadata": {},
   "outputs": [],
   "source": [
    "descrepancies = Table([cluster_names, ang_seps, dist_seps],names=('Cluster','Ang.Sep.','Dist'))\n",
    "descrepancies['Ang.Sep.'].unit = u.arcsecond\n",
    "descrepancies['Ang.Sep.'].info.format = '.2f'\n",
    "descrepancies['Dist'].unit = u.pc\n",
    "descrepancies['Dist'].info.format = '.2f'\n",
    "\n",
    "descrepancies['SpaceVel%'] = 100.0*(np.abs(calc_spacev-true_spacev_uvw)/true_spacev_uvw)\n",
    "descrepancies['SpaceVel%'].info.format = '.2f'\n",
    "descrepancies['SpaceVel%'].unit = u.percent"
   ]
  },
  {
   "cell_type": "markdown",
   "metadata": {},
   "source": [
    "## Plots of Astrometrics"
   ]
  },
  {
   "cell_type": "code",
   "execution_count": 20,
   "metadata": {},
   "outputs": [
    {
     "data": {
      "image/png": "[encoded data removed]",
      "text/plain": [
       "<Figure size 1728x576 with 6 Axes>"
      ]
     },
     "metadata": {
      "needs_background": "light"
     },
     "output_type": "display_data"
    }
   ],
   "source": [
    "\n",
    "fig = plt.figure(figsize=(24,8),constrained_layout=True)\n",
    "axs = fig.subplots(2,3)\n",
    "for m, ax in zip(['ra', 'dec','parallax','pmra', 'pmdec','radial_velocity'], axs.flatten()):\n",
    "    plot_measure(ax, m)\n",
    "\n"
   ]
  },
  {
   "cell_type": "markdown",
   "metadata": {},
   "source": [
    "## Discrepancies in Separation, Distance, and Space Velocity"
   ]
  },
  {
   "cell_type": "code",
   "execution_count": 21,
   "metadata": {},
   "outputs": [
    {
     "name": "stdout",
     "output_type": "stream",
     "text": [
      "Cluster   Ang.Sep.  Dist  SpaceVel%\n",
      "           arcsec    pc       %    \n",
      "-------- --------- ------ ---------\n",
      "  Hyades   1167.41   0.35      0.90\n",
      " ComaBer   1645.09   0.71      0.74\n",
      "Pleiades    957.80   0.63      0.01\n",
      "Praesepe    460.22   0.42      0.44\n",
      "alphaPer   1054.61   0.90      0.18\n",
      "  IC2391    498.63   0.39      1.17\n",
      "  IC2602   1553.24   1.15      4.09\n",
      " Blanco1 177496.07 197.76      0.12\n",
      " NGC2451    666.87   0.64      0.32\n"
     ]
    }
   ],
   "source": [
    "print(descrepancies)"
   ]
  },
  {
   "cell_type": "code",
   "execution_count": 22,
   "metadata": {
    "jupyter": {
     "source_hidden": true
    }
   },
   "outputs": [],
   "source": [
    "def calculate_precision(measure):\n",
    "    NMemb = dict([(cl, np.isfinite(cluster_members[cl].objs[measure]).sum()) for cl in cluster_names])\n",
    "    df = pd.DataFrame([[\n",
    "                    cluster_means.loc[cl][measure],\n",
    "                    cluster_sds.loc[cl][measure], NMemb[cl],\n",
    "                  cluster_sds.loc[cl][measure]/np.sqrt(NMemb[cl]),\n",
    "                  cluster_info.loc[cl][measure+'_error']] for cl in cluster_names],\n",
    "                index=cluster_names, columns=['mean','sd','NMemb','Precision', 'Reported'])\n",
    "    return df"
   ]
  },
  {
   "cell_type": "code",
   "execution_count": 23,
   "metadata": {
    "jupyter": {
     "source_hidden": true
    }
   },
   "outputs": [
    {
     "data": {
      "text/html": [
       "<div>\n",
       "<style scoped>\n",
       "    .dataframe tbody tr th:only-of-type {\n",
       "        vertical-align: middle;\n",
       "    }\n",
       "\n",
       "    .dataframe tbody tr th {\n",
       "        vertical-align: top;\n",
       "    }\n",
       "\n",
       "    .dataframe thead th {\n",
       "        text-align: right;\n",
       "    }\n",
       "</style>\n",
       "<table border=\"1\" class=\"dataframe\">\n",
       "  <thead>\n",
       "    <tr style=\"text-align: right;\">\n",
       "      <th></th>\n",
       "      <th>mean</th>\n",
       "      <th>sd</th>\n",
       "      <th>NMemb</th>\n",
       "      <th>Precision</th>\n",
       "      <th>Reported</th>\n",
       "    </tr>\n",
       "  </thead>\n",
       "  <tbody>\n",
       "    <tr>\n",
       "      <th>Hyades</th>\n",
       "      <td>102.742181</td>\n",
       "      <td>24.912271</td>\n",
       "      <td>515</td>\n",
       "      <td>1.097766</td>\n",
       "      <td>0.171</td>\n",
       "    </tr>\n",
       "    <tr>\n",
       "      <th>ComaBer</th>\n",
       "      <td>-12.061348</td>\n",
       "      <td>0.770044</td>\n",
       "      <td>153</td>\n",
       "      <td>0.062254</td>\n",
       "      <td>0.048</td>\n",
       "    </tr>\n",
       "    <tr>\n",
       "      <th>Pleiades</th>\n",
       "      <td>19.957308</td>\n",
       "      <td>1.267896</td>\n",
       "      <td>1326</td>\n",
       "      <td>0.034819</td>\n",
       "      <td>0.127</td>\n",
       "    </tr>\n",
       "    <tr>\n",
       "      <th>Praesepe</th>\n",
       "      <td>-36.116239</td>\n",
       "      <td>1.563322</td>\n",
       "      <td>938</td>\n",
       "      <td>0.051044</td>\n",
       "      <td>0.110</td>\n",
       "    </tr>\n",
       "    <tr>\n",
       "      <th>alphaPer</th>\n",
       "      <td>22.860010</td>\n",
       "      <td>1.129809</td>\n",
       "      <td>740</td>\n",
       "      <td>0.041533</td>\n",
       "      <td>0.071</td>\n",
       "    </tr>\n",
       "    <tr>\n",
       "      <th>IC2391</th>\n",
       "      <td>-24.878739</td>\n",
       "      <td>1.366538</td>\n",
       "      <td>325</td>\n",
       "      <td>0.075802</td>\n",
       "      <td>0.080</td>\n",
       "    </tr>\n",
       "    <tr>\n",
       "      <th>IC2602</th>\n",
       "      <td>-17.691835</td>\n",
       "      <td>1.515203</td>\n",
       "      <td>492</td>\n",
       "      <td>0.068311</td>\n",
       "      <td>0.040</td>\n",
       "    </tr>\n",
       "    <tr>\n",
       "      <th>Blanco1</th>\n",
       "      <td>18.747896</td>\n",
       "      <td>0.518686</td>\n",
       "      <td>489</td>\n",
       "      <td>0.023456</td>\n",
       "      <td>0.017</td>\n",
       "    </tr>\n",
       "    <tr>\n",
       "      <th>NGC2451</th>\n",
       "      <td>-21.061662</td>\n",
       "      <td>1.005815</td>\n",
       "      <td>400</td>\n",
       "      <td>0.050291</td>\n",
       "      <td>0.065</td>\n",
       "    </tr>\n",
       "  </tbody>\n",
       "</table>\n",
       "</div>"
      ],
      "text/plain": [
       "                mean         sd  NMemb  Precision  Reported\n",
       "Hyades    102.742181  24.912271    515   1.097766     0.171\n",
       "ComaBer   -12.061348   0.770044    153   0.062254     0.048\n",
       "Pleiades   19.957308   1.267896   1326   0.034819     0.127\n",
       "Praesepe  -36.116239   1.563322    938   0.051044     0.110\n",
       "alphaPer   22.860010   1.129809    740   0.041533     0.071\n",
       "IC2391    -24.878739   1.366538    325   0.075802     0.080\n",
       "IC2602    -17.691835   1.515203    492   0.068311     0.040\n",
       "Blanco1    18.747896   0.518686    489   0.023456     0.017\n",
       "NGC2451   -21.061662   1.005815    400   0.050291     0.065"
      ]
     },
     "execution_count": 23,
     "metadata": {},
     "output_type": "execute_result"
    }
   ],
   "source": [
    "calculate_precision('pmra')"
   ]
  },
  {
   "cell_type": "code",
   "execution_count": 24,
   "metadata": {
    "jupyter": {
     "source_hidden": true
    }
   },
   "outputs": [
    {
     "data": {
      "text/html": [
       "<div>\n",
       "<style scoped>\n",
       "    .dataframe tbody tr th:only-of-type {\n",
       "        vertical-align: middle;\n",
       "    }\n",
       "\n",
       "    .dataframe tbody tr th {\n",
       "        vertical-align: top;\n",
       "    }\n",
       "\n",
       "    .dataframe thead th {\n",
       "        text-align: right;\n",
       "    }\n",
       "</style>\n",
       "<table border=\"1\" class=\"dataframe\">\n",
       "  <thead>\n",
       "    <tr style=\"text-align: right;\">\n",
       "      <th></th>\n",
       "      <th>mean</th>\n",
       "      <th>sd</th>\n",
       "      <th>NMemb</th>\n",
       "      <th>Precision</th>\n",
       "      <th>Reported</th>\n",
       "    </tr>\n",
       "  </thead>\n",
       "  <tbody>\n",
       "    <tr>\n",
       "      <th>Hyades</th>\n",
       "      <td>-27.098107</td>\n",
       "      <td>15.682757</td>\n",
       "      <td>515</td>\n",
       "      <td>0.691065</td>\n",
       "      <td>0.137</td>\n",
       "    </tr>\n",
       "    <tr>\n",
       "      <th>ComaBer</th>\n",
       "      <td>-8.916751</td>\n",
       "      <td>0.924510</td>\n",
       "      <td>153</td>\n",
       "      <td>0.074742</td>\n",
       "      <td>0.121</td>\n",
       "    </tr>\n",
       "    <tr>\n",
       "      <th>Pleiades</th>\n",
       "      <td>-45.513762</td>\n",
       "      <td>1.646605</td>\n",
       "      <td>1326</td>\n",
       "      <td>0.045219</td>\n",
       "      <td>0.101</td>\n",
       "    </tr>\n",
       "    <tr>\n",
       "      <th>Praesepe</th>\n",
       "      <td>-12.935581</td>\n",
       "      <td>1.134731</td>\n",
       "      <td>938</td>\n",
       "      <td>0.037050</td>\n",
       "      <td>0.066</td>\n",
       "    </tr>\n",
       "    <tr>\n",
       "      <th>alphaPer</th>\n",
       "      <td>-25.544878</td>\n",
       "      <td>1.132225</td>\n",
       "      <td>740</td>\n",
       "      <td>0.041621</td>\n",
       "      <td>0.095</td>\n",
       "    </tr>\n",
       "    <tr>\n",
       "      <th>IC2391</th>\n",
       "      <td>23.212817</td>\n",
       "      <td>1.201703</td>\n",
       "      <td>325</td>\n",
       "      <td>0.066659</td>\n",
       "      <td>0.110</td>\n",
       "    </tr>\n",
       "    <tr>\n",
       "      <th>IC2602</th>\n",
       "      <td>10.594724</td>\n",
       "      <td>1.726089</td>\n",
       "      <td>492</td>\n",
       "      <td>0.077818</td>\n",
       "      <td>0.098</td>\n",
       "    </tr>\n",
       "    <tr>\n",
       "      <th>Blanco1</th>\n",
       "      <td>2.653651</td>\n",
       "      <td>0.454713</td>\n",
       "      <td>489</td>\n",
       "      <td>0.020563</td>\n",
       "      <td>0.070</td>\n",
       "    </tr>\n",
       "    <tr>\n",
       "      <th>NGC2451</th>\n",
       "      <td>15.336960</td>\n",
       "      <td>0.854033</td>\n",
       "      <td>400</td>\n",
       "      <td>0.042702</td>\n",
       "      <td>0.093</td>\n",
       "    </tr>\n",
       "  </tbody>\n",
       "</table>\n",
       "</div>"
      ],
      "text/plain": [
       "               mean         sd  NMemb  Precision  Reported\n",
       "Hyades   -27.098107  15.682757    515   0.691065     0.137\n",
       "ComaBer   -8.916751   0.924510    153   0.074742     0.121\n",
       "Pleiades -45.513762   1.646605   1326   0.045219     0.101\n",
       "Praesepe -12.935581   1.134731    938   0.037050     0.066\n",
       "alphaPer -25.544878   1.132225    740   0.041621     0.095\n",
       "IC2391    23.212817   1.201703    325   0.066659     0.110\n",
       "IC2602    10.594724   1.726089    492   0.077818     0.098\n",
       "Blanco1    2.653651   0.454713    489   0.020563     0.070\n",
       "NGC2451   15.336960   0.854033    400   0.042702     0.093"
      ]
     },
     "execution_count": 24,
     "metadata": {},
     "output_type": "execute_result"
    }
   ],
   "source": [
    "calculate_precision('pmdec')"
   ]
  },
  {
   "cell_type": "code",
   "execution_count": 25,
   "metadata": {
    "jupyter": {
     "source_hidden": true
    }
   },
   "outputs": [],
   "source": [
    "def rms(x):\n",
    "    ss=(x**2).sum()\n",
    "    n=len(x)\n",
    "    return np.sqrt(ss/n)"
   ]
  },
  {
   "cell_type": "code",
   "execution_count": 26,
   "metadata": {
    "jupyter": {
     "source_hidden": true
    }
   },
   "outputs": [
    {
     "data": {
      "text/plain": [
       "0.3217773292084974"
      ]
     },
     "execution_count": 26,
     "metadata": {},
     "output_type": "execute_result"
    }
   ],
   "source": [
    "rms(cluster_members['Pleiades'].objs.pmra_error)"
   ]
  },
  {
   "cell_type": "code",
   "execution_count": 27,
   "metadata": {
    "jupyter": {
     "source_hidden": true
    }
   },
   "outputs": [
    {
     "data": {
      "text/html": [
       "<div>\n",
       "<style scoped>\n",
       "    .dataframe tbody tr th:only-of-type {\n",
       "        vertical-align: middle;\n",
       "    }\n",
       "\n",
       "    .dataframe tbody tr th {\n",
       "        vertical-align: top;\n",
       "    }\n",
       "\n",
       "    .dataframe thead th {\n",
       "        text-align: right;\n",
       "    }\n",
       "</style>\n",
       "<table border=\"1\" class=\"dataframe\">\n",
       "  <thead>\n",
       "    <tr style=\"text-align: right;\">\n",
       "      <th></th>\n",
       "      <th>mean</th>\n",
       "      <th>sd</th>\n",
       "      <th>NMemb</th>\n",
       "      <th>Precision</th>\n",
       "      <th>Reported</th>\n",
       "    </tr>\n",
       "  </thead>\n",
       "  <tbody>\n",
       "    <tr>\n",
       "      <th>Hyades</th>\n",
       "      <td>21.152856</td>\n",
       "      <td>2.438442</td>\n",
       "      <td>515</td>\n",
       "      <td>0.107451</td>\n",
       "      <td>0.065</td>\n",
       "    </tr>\n",
       "    <tr>\n",
       "      <th>ComaBer</th>\n",
       "      <td>11.617585</td>\n",
       "      <td>0.392339</td>\n",
       "      <td>153</td>\n",
       "      <td>0.031719</td>\n",
       "      <td>0.034</td>\n",
       "    </tr>\n",
       "    <tr>\n",
       "      <th>Pleiades</th>\n",
       "      <td>7.361906</td>\n",
       "      <td>0.283196</td>\n",
       "      <td>1326</td>\n",
       "      <td>0.007777</td>\n",
       "      <td>0.005</td>\n",
       "    </tr>\n",
       "    <tr>\n",
       "      <th>Praesepe</th>\n",
       "      <td>5.368827</td>\n",
       "      <td>0.174543</td>\n",
       "      <td>938</td>\n",
       "      <td>0.005699</td>\n",
       "      <td>0.003</td>\n",
       "    </tr>\n",
       "    <tr>\n",
       "      <th>alphaPer</th>\n",
       "      <td>5.719444</td>\n",
       "      <td>0.199096</td>\n",
       "      <td>740</td>\n",
       "      <td>0.007319</td>\n",
       "      <td>0.005</td>\n",
       "    </tr>\n",
       "    <tr>\n",
       "      <th>IC2391</th>\n",
       "      <td>6.591583</td>\n",
       "      <td>0.217786</td>\n",
       "      <td>325</td>\n",
       "      <td>0.012081</td>\n",
       "      <td>0.007</td>\n",
       "    </tr>\n",
       "    <tr>\n",
       "      <th>IC2602</th>\n",
       "      <td>6.570311</td>\n",
       "      <td>0.222816</td>\n",
       "      <td>492</td>\n",
       "      <td>0.010045</td>\n",
       "      <td>0.007</td>\n",
       "    </tr>\n",
       "    <tr>\n",
       "      <th>Blanco1</th>\n",
       "      <td>4.220506</td>\n",
       "      <td>0.124176</td>\n",
       "      <td>489</td>\n",
       "      <td>0.005615</td>\n",
       "      <td>0.003</td>\n",
       "    </tr>\n",
       "    <tr>\n",
       "      <th>NGC2451</th>\n",
       "      <td>5.159384</td>\n",
       "      <td>0.150336</td>\n",
       "      <td>400</td>\n",
       "      <td>0.007517</td>\n",
       "      <td>0.005</td>\n",
       "    </tr>\n",
       "  </tbody>\n",
       "</table>\n",
       "</div>"
      ],
      "text/plain": [
       "               mean        sd  NMemb  Precision  Reported\n",
       "Hyades    21.152856  2.438442    515   0.107451     0.065\n",
       "ComaBer   11.617585  0.392339    153   0.031719     0.034\n",
       "Pleiades   7.361906  0.283196   1326   0.007777     0.005\n",
       "Praesepe   5.368827  0.174543    938   0.005699     0.003\n",
       "alphaPer   5.719444  0.199096    740   0.007319     0.005\n",
       "IC2391     6.591583  0.217786    325   0.012081     0.007\n",
       "IC2602     6.570311  0.222816    492   0.010045     0.007\n",
       "Blanco1    4.220506  0.124176    489   0.005615     0.003\n",
       "NGC2451    5.159384  0.150336    400   0.007517     0.005"
      ]
     },
     "execution_count": 27,
     "metadata": {},
     "output_type": "execute_result"
    }
   ],
   "source": [
    "calculate_precision('parallax')"
   ]
  },
  {
   "cell_type": "code",
   "execution_count": 28,
   "metadata": {},
   "outputs": [
    {
     "data": {
      "text/html": [
       "<div>\n",
       "<style scoped>\n",
       "    .dataframe tbody tr th:only-of-type {\n",
       "        vertical-align: middle;\n",
       "    }\n",
       "\n",
       "    .dataframe tbody tr th {\n",
       "        vertical-align: top;\n",
       "    }\n",
       "\n",
       "    .dataframe thead th {\n",
       "        text-align: right;\n",
       "    }\n",
       "</style>\n",
       "<table border=\"1\" class=\"dataframe\">\n",
       "  <thead>\n",
       "    <tr style=\"text-align: right;\">\n",
       "      <th></th>\n",
       "      <th>mean</th>\n",
       "      <th>sd</th>\n",
       "      <th>NMemb</th>\n",
       "      <th>Precision</th>\n",
       "      <th>Reported</th>\n",
       "    </tr>\n",
       "  </thead>\n",
       "  <tbody>\n",
       "    <tr>\n",
       "      <th>Hyades</th>\n",
       "      <td>39.363919</td>\n",
       "      <td>3.139583</td>\n",
       "      <td>156</td>\n",
       "      <td>0.251368</td>\n",
       "      <td>0.06</td>\n",
       "    </tr>\n",
       "    <tr>\n",
       "      <th>ComaBer</th>\n",
       "      <td>0.049177</td>\n",
       "      <td>3.122300</td>\n",
       "      <td>51</td>\n",
       "      <td>0.437209</td>\n",
       "      <td>0.07</td>\n",
       "    </tr>\n",
       "    <tr>\n",
       "      <th>Pleiades</th>\n",
       "      <td>5.798103</td>\n",
       "      <td>4.853011</td>\n",
       "      <td>239</td>\n",
       "      <td>0.313915</td>\n",
       "      <td>0.09</td>\n",
       "    </tr>\n",
       "    <tr>\n",
       "      <th>Praesepe</th>\n",
       "      <td>35.265767</td>\n",
       "      <td>2.524555</td>\n",
       "      <td>182</td>\n",
       "      <td>0.187132</td>\n",
       "      <td>0.10</td>\n",
       "    </tr>\n",
       "    <tr>\n",
       "      <th>alphaPer</th>\n",
       "      <td>-0.386599</td>\n",
       "      <td>5.570043</td>\n",
       "      <td>99</td>\n",
       "      <td>0.559810</td>\n",
       "      <td>0.08</td>\n",
       "    </tr>\n",
       "    <tr>\n",
       "      <th>IC2391</th>\n",
       "      <td>15.273224</td>\n",
       "      <td>3.038396</td>\n",
       "      <td>48</td>\n",
       "      <td>0.438555</td>\n",
       "      <td>0.09</td>\n",
       "    </tr>\n",
       "    <tr>\n",
       "      <th>IC2602</th>\n",
       "      <td>16.239014</td>\n",
       "      <td>4.388653</td>\n",
       "      <td>52</td>\n",
       "      <td>0.608597</td>\n",
       "      <td>0.11</td>\n",
       "    </tr>\n",
       "    <tr>\n",
       "      <th>Blanco1</th>\n",
       "      <td>5.865767</td>\n",
       "      <td>3.099975</td>\n",
       "      <td>57</td>\n",
       "      <td>0.410602</td>\n",
       "      <td>0.10</td>\n",
       "    </tr>\n",
       "    <tr>\n",
       "      <th>NGC2451</th>\n",
       "      <td>22.705703</td>\n",
       "      <td>7.435397</td>\n",
       "      <td>43</td>\n",
       "      <td>1.133887</td>\n",
       "      <td>0.09</td>\n",
       "    </tr>\n",
       "  </tbody>\n",
       "</table>\n",
       "</div>"
      ],
      "text/plain": [
       "               mean        sd  NMemb  Precision  Reported\n",
       "Hyades    39.363919  3.139583    156   0.251368      0.06\n",
       "ComaBer    0.049177  3.122300     51   0.437209      0.07\n",
       "Pleiades   5.798103  4.853011    239   0.313915      0.09\n",
       "Praesepe  35.265767  2.524555    182   0.187132      0.10\n",
       "alphaPer  -0.386599  5.570043     99   0.559810      0.08\n",
       "IC2391    15.273224  3.038396     48   0.438555      0.09\n",
       "IC2602    16.239014  4.388653     52   0.608597      0.11\n",
       "Blanco1    5.865767  3.099975     57   0.410602      0.10\n",
       "NGC2451   22.705703  7.435397     43   1.133887      0.09"
      ]
     },
     "execution_count": 28,
     "metadata": {},
     "output_type": "execute_result"
    }
   ],
   "source": [
    "calculate_precision('radial_velocity')"
   ]
  },
  {
   "cell_type": "code",
   "execution_count": 29,
   "metadata": {},
   "outputs": [],
   "source": [
    "def plot_error(ax,measure):\n",
    "    df = calculate_precision(measure)\n",
    "    eqline = np.linspace(df.Reported.min(),df.Reported.max(), 1000)\n",
    "    ax.plot(eqline, eqline, color='red', ls='--', label='Equal')\n",
    "    ax.plot(eqline, 2.0*eqline, color='blue', ls='--', label='2x')\n",
    "    for cl in cluster_names:\n",
    "        ax.scatter(df.loc[cl].Reported, df.loc[cl].Precision, label=cl)\n",
    "    ax.legend()\n",
    "    ax.set_title(f'Measure: {measure} Error')\n",
    "    ax.set_ylabel('Calculated')\n",
    "    ax.set_xlabel('Reported')\n",
    "    "
   ]
  },
  {
   "cell_type": "markdown",
   "metadata": {},
   "source": [
    "## Uncertainty"
   ]
  },
  {
   "cell_type": "code",
   "execution_count": 30,
   "metadata": {},
   "outputs": [
    {
     "data": {
      "image/png": "[encoded data removed]",
      "text/plain": [
       "<Figure size 1728x432 with 4 Axes>"
      ]
     },
     "metadata": {
      "needs_background": "light"
     },
     "output_type": "display_data"
    }
   ],
   "source": [
    "fig = plt.figure(figsize=(24,6))\n",
    "axs = fig.subplots(1,4)\n",
    "for m, ax in zip(['parallax','pmra','pmdec','radial_velocity'], axs):\n",
    "    plot_error(ax, m)\n",
    "zz=fig.suptitle('$Calculated\\ as\\ \\sigma/\\sqrt{N}$', size=16)"
   ]
  },
  {
   "cell_type": "code",
   "execution_count": 31,
   "metadata": {},
   "outputs": [
    {
     "data": {
      "text/plain": [
       "0.06"
      ]
     },
     "execution_count": 31,
     "metadata": {},
     "output_type": "execute_result"
    }
   ],
   "source": [
    "cluster_info.loc['Hyades']['radial_velocity_error']"
   ]
  },
  {
   "cell_type": "code",
   "execution_count": 32,
   "metadata": {},
   "outputs": [
    {
     "data": {
      "text/plain": [
       "3.139583378861333"
      ]
     },
     "execution_count": 32,
     "metadata": {},
     "output_type": "execute_result"
    }
   ],
   "source": [
    "cluster_members['Hyades'].objs.radial_velocity.std(ddof=1)"
   ]
  },
  {
   "cell_type": "code",
   "execution_count": 33,
   "metadata": {},
   "outputs": [
    {
     "data": {
      "text/html": [
       "<div>\n",
       "<style scoped>\n",
       "    .dataframe tbody tr th:only-of-type {\n",
       "        vertical-align: middle;\n",
       "    }\n",
       "\n",
       "    .dataframe tbody tr th {\n",
       "        vertical-align: top;\n",
       "    }\n",
       "\n",
       "    .dataframe thead th {\n",
       "        text-align: right;\n",
       "    }\n",
       "</style>\n",
       "<table border=\"1\" class=\"dataframe\">\n",
       "  <thead>\n",
       "    <tr style=\"text-align: right;\">\n",
       "      <th></th>\n",
       "      <th>MeanRV</th>\n",
       "      <th>SigmaRV</th>\n",
       "      <th>Nobs</th>\n",
       "      <th>Precision</th>\n",
       "      <th>Reported</th>\n",
       "      <th>Ratio</th>\n",
       "      <th>MeanError</th>\n",
       "    </tr>\n",
       "  </thead>\n",
       "  <tbody>\n",
       "    <tr>\n",
       "      <th>Hyades</th>\n",
       "      <td>39.363919</td>\n",
       "      <td>3.139583</td>\n",
       "      <td>156</td>\n",
       "      <td>0.251368</td>\n",
       "      <td>0.06</td>\n",
       "      <td>4.189464</td>\n",
       "      <td>0.569454</td>\n",
       "    </tr>\n",
       "    <tr>\n",
       "      <th>ComaBer</th>\n",
       "      <td>0.049177</td>\n",
       "      <td>3.122300</td>\n",
       "      <td>51</td>\n",
       "      <td>0.437209</td>\n",
       "      <td>0.07</td>\n",
       "      <td>6.245849</td>\n",
       "      <td>1.285943</td>\n",
       "    </tr>\n",
       "    <tr>\n",
       "      <th>Pleiades</th>\n",
       "      <td>5.798103</td>\n",
       "      <td>4.853011</td>\n",
       "      <td>239</td>\n",
       "      <td>0.313915</td>\n",
       "      <td>0.09</td>\n",
       "      <td>3.487947</td>\n",
       "      <td>2.858925</td>\n",
       "    </tr>\n",
       "    <tr>\n",
       "      <th>Praesepe</th>\n",
       "      <td>35.265767</td>\n",
       "      <td>2.524555</td>\n",
       "      <td>182</td>\n",
       "      <td>0.187132</td>\n",
       "      <td>0.10</td>\n",
       "      <td>1.871324</td>\n",
       "      <td>1.683819</td>\n",
       "    </tr>\n",
       "    <tr>\n",
       "      <th>alphaPer</th>\n",
       "      <td>-0.386599</td>\n",
       "      <td>5.570043</td>\n",
       "      <td>99</td>\n",
       "      <td>0.559810</td>\n",
       "      <td>0.08</td>\n",
       "      <td>6.997630</td>\n",
       "      <td>3.905128</td>\n",
       "    </tr>\n",
       "    <tr>\n",
       "      <th>IC2391</th>\n",
       "      <td>15.273224</td>\n",
       "      <td>3.038396</td>\n",
       "      <td>48</td>\n",
       "      <td>0.438555</td>\n",
       "      <td>0.09</td>\n",
       "      <td>4.872830</td>\n",
       "      <td>3.825926</td>\n",
       "    </tr>\n",
       "    <tr>\n",
       "      <th>IC2602</th>\n",
       "      <td>16.239014</td>\n",
       "      <td>4.388653</td>\n",
       "      <td>52</td>\n",
       "      <td>0.608597</td>\n",
       "      <td>0.11</td>\n",
       "      <td>5.532697</td>\n",
       "      <td>4.036832</td>\n",
       "    </tr>\n",
       "    <tr>\n",
       "      <th>Blanco1</th>\n",
       "      <td>5.865767</td>\n",
       "      <td>3.099975</td>\n",
       "      <td>57</td>\n",
       "      <td>0.410602</td>\n",
       "      <td>0.10</td>\n",
       "      <td>4.106018</td>\n",
       "      <td>2.298944</td>\n",
       "    </tr>\n",
       "    <tr>\n",
       "      <th>NGC2451</th>\n",
       "      <td>22.705703</td>\n",
       "      <td>7.435397</td>\n",
       "      <td>43</td>\n",
       "      <td>1.133887</td>\n",
       "      <td>0.09</td>\n",
       "      <td>12.598750</td>\n",
       "      <td>3.383824</td>\n",
       "    </tr>\n",
       "  </tbody>\n",
       "</table>\n",
       "</div>"
      ],
      "text/plain": [
       "             MeanRV   SigmaRV  Nobs  Precision  Reported      Ratio  MeanError\n",
       "Hyades    39.363919  3.139583   156   0.251368      0.06   4.189464   0.569454\n",
       "ComaBer    0.049177  3.122300    51   0.437209      0.07   6.245849   1.285943\n",
       "Pleiades   5.798103  4.853011   239   0.313915      0.09   3.487947   2.858925\n",
       "Praesepe  35.265767  2.524555   182   0.187132      0.10   1.871324   1.683819\n",
       "alphaPer  -0.386599  5.570043    99   0.559810      0.08   6.997630   3.905128\n",
       "IC2391    15.273224  3.038396    48   0.438555      0.09   4.872830   3.825926\n",
       "IC2602    16.239014  4.388653    52   0.608597      0.11   5.532697   4.036832\n",
       "Blanco1    5.865767  3.099975    57   0.410602      0.10   4.106018   2.298944\n",
       "NGC2451   22.705703  7.435397    43   1.133887      0.09  12.598750   3.383824"
      ]
     },
     "execution_count": 33,
     "metadata": {},
     "output_type": "execute_result"
    }
   ],
   "source": [
    "rvdf = pd.DataFrame([[cluster_members[cl].objs.radial_velocity.mean(), cluster_members[cl].objs.radial_velocity.std(ddof=1),\n",
    "              np.isfinite(cluster_members[cl].objs.radial_velocity).sum()] for cl in cluster_names],\n",
    "              index=cluster_names, columns=['MeanRV','SigmaRV','Nobs'])\n",
    "rvdf['Precision'] = rvdf.SigmaRV/np.sqrt(rvdf.Nobs)\n",
    "rvdf['Reported'] = np.array([cluster_info.loc[cl]['radial_velocity_error'] for cl in cluster_names])\n",
    "rvdf['Ratio'] = rvdf.Precision/rvdf.Reported\n",
    "rvdf['MeanError'] = cluster_means.radial_velocity_error\n",
    "\n",
    "rvdf"
   ]
  },
  {
   "cell_type": "code",
   "execution_count": 34,
   "metadata": {},
   "outputs": [
    {
     "data": {
      "text/plain": [
       "<TableColumns names=('cluster','ra','dec','U','e_U','V','e_V','W','e_W','cUV','cUW','cVW','ra_conv','dec_conv','parallax','parallax_error','pmra','pmra_error','pmdec','pmdec_error','NMemb','uwsd','radial_velocity','radial_velocity_error','coords','DM','log_age','Fe_H','e_b_minus_v','NMembers','Z')>"
      ]
     },
     "execution_count": 34,
     "metadata": {},
     "output_type": "execute_result"
    }
   ],
   "source": [
    "cluster_info.columns"
   ]
  },
  {
   "cell_type": "code",
   "execution_count": 35,
   "metadata": {},
   "outputs": [
    {
     "data": {
      "text/plain": [
       "array([0.06, 0.07, 0.09, 0.1 , 0.08, 0.09, 0.11, 0.1 , 0.09])"
      ]
     },
     "execution_count": 35,
     "metadata": {},
     "output_type": "execute_result"
    }
   ],
   "source": [
    "np.array([cluster_info.loc[cl]['radial_velocity_error'] for cl in cluster_names])"
   ]
  },
  {
   "cell_type": "code",
   "execution_count": 36,
   "metadata": {},
   "outputs": [],
   "source": [
    "def weighted_mean(means, errors):\n",
    "    err_sq = errors**2\n",
    "    inv_err_sq_sum = (1/err_sq).sum()\n",
    "    \n",
    "    xbar = (means/err_sq).sum()/inv_err_sq_sum\n",
    "    \n",
    "    sigma = np.sqrt(1/inv_err_sq_sum)\n",
    "    \n",
    "    return {'weighted_mean': xbar, 'sigma': sigma}"
   ]
  },
  {
   "cell_type": "code",
   "execution_count": 37,
   "metadata": {},
   "outputs": [
    {
     "data": {
      "text/plain": [
       "{'weighted_mean': 20.10952252501146, 'sigma': 0.0038532992832822108}"
      ]
     },
     "execution_count": 37,
     "metadata": {},
     "output_type": "execute_result"
    }
   ],
   "source": [
    "weighted_mean(cluster_members['Pleiades'].objs.pmra, cluster_members['Pleiades'].objs.pmra_error)"
   ]
  },
  {
   "cell_type": "code",
   "execution_count": 38,
   "metadata": {},
   "outputs": [
    {
     "data": {
      "text/html": [
       "<i>Row index=6</i>\n",
       "<table id=\"table139790897255568\">\n",
       "<thead><tr><th>pmra</th><th>pmra_error</th><th>NMemb</th></tr></thead>\n",
       "<thead><tr><th>float64</th><th>float64</th><th>int64</th></tr></thead>\n",
       "<tr><td>19.997</td><td>0.127</td><td>1326</td></tr>\n",
       "</table>"
      ],
      "text/plain": [
       "<Row index=6>\n",
       "  pmra  pmra_error NMemb\n",
       "float64  float64   int64\n",
       "------- ---------- -----\n",
       " 19.997      0.127  1326"
      ]
     },
     "execution_count": 38,
     "metadata": {},
     "output_type": "execute_result"
    }
   ],
   "source": [
    "cluster_info.loc['Pleiades'][['pmra','pmra_error','NMemb']]"
   ]
  },
  {
   "cell_type": "code",
   "execution_count": 39,
   "metadata": {},
   "outputs": [],
   "source": [
    "df = cluster_members['Pleiades'].objs.copy()\n",
    "rv_stars = np.isfinite(df.radial_velocity)\n",
    "c_ok = (df.phot_bp_mean_mag - df.phot_rp_mean_mag) >0.4"
   ]
  },
  {
   "cell_type": "code",
   "execution_count": 40,
   "metadata": {},
   "outputs": [
    {
     "data": {
      "text/plain": [
       "237"
      ]
     },
     "execution_count": 40,
     "metadata": {},
     "output_type": "execute_result"
    }
   ],
   "source": [
    "np.logical_and(rv_stars, c_ok).sum()"
   ]
  },
  {
   "cell_type": "markdown",
   "metadata": {},
   "source": [
    "## Least Squares Space Motion\n",
    "\n",
    "See (https://www.aanda.org/articles/aa/full_html/2017/05/aa30552-17/aa30552-17.html) equation 3."
   ]
  },
  {
   "cell_type": "code",
   "execution_count": 43,
   "metadata": {},
   "outputs": [
    {
     "data": {
      "text/html": [
       "<i>Row index=2</i>\n",
       "<table id=\"table139790866928592\">\n",
       "<thead><tr><th>U</th><th>V</th><th>W</th></tr></thead>\n",
       "<thead><tr><th>float64</th><th>float64</th><th>float64</th></tr></thead>\n",
       "<tr><td>-6.059</td><td>45.691</td><td>5.544</td></tr>\n",
       "</table>"
      ],
      "text/plain": [
       "<Row index=2>\n",
       "   U       V       W   \n",
       "float64 float64 float64\n",
       "------- ------- -------\n",
       " -6.059  45.691   5.544"
      ]
     },
     "execution_count": 43,
     "metadata": {},
     "output_type": "execute_result"
    }
   ],
   "source": [
    "cluster_info.loc['Hyades'][['U','V','W']]"
   ]
  },
  {
   "cell_type": "code",
   "execution_count": 45,
   "metadata": {},
   "outputs": [
    {
     "data": {
      "text/latex": [
       "$9.7779222 \\times 10^{8} \\; \\mathrm{\\frac{km}{s}}$"
      ],
      "text/plain": [
       "<Quantity 9.77792222e+08 km / s>"
      ]
     },
     "execution_count": 45,
     "metadata": {},
     "output_type": "execute_result"
    }
   ],
   "source": [
    "(1*u.kpc/u.year).to(u.km/u.second)"
   ]
  },
  {
   "cell_type": "code",
   "execution_count": 50,
   "metadata": {},
   "outputs": [
    {
     "data": {
      "text/latex": [
       "$4.7404705 \\; \\mathrm{\\frac{km}{s}}$"
      ],
      "text/plain": [
       "<Quantity 4.74047046 km / s>"
      ]
     },
     "execution_count": 50,
     "metadata": {},
     "output_type": "execute_result"
    }
   ],
   "source": [
    "((1*u.mas).to(u.radian)*1*u.kpc/u.year/u.radian).to(u.km/u.second)"
   ]
  },
  {
   "cell_type": "code",
   "execution_count": 51,
   "metadata": {},
   "outputs": [
    {
     "data": {
      "text/plain": [
       "4.740470463496208"
      ]
     },
     "execution_count": 51,
     "metadata": {},
     "output_type": "execute_result"
    }
   ],
   "source": [
    "4.740470463496208"
   ]
  },
  {
   "cell_type": "code",
   "execution_count": 103,
   "metadata": {},
   "outputs": [],
   "source": [
    "from scipy.optimize import minimize\n",
    "\n",
    "def sum_of_squares(d_xyz, tang_v, A):\n",
    "    space_v = d_xyz.reshape(-1,1)\n",
    "    tang_v_hat = A.dot(space_v)\n",
    "    errors_squared = (tang_v-tang_v_hat)**2\n",
    "    return errors_squared.sum()\n",
    "\n",
    "def ls_pm(objs):\n",
    "    k = 4.740470463496208 #1 mas/year at 1kpc to km/s\n",
    "    \n",
    "    #tangental velocities for the stars (stars x {pmra, pmdec} x 1) in km/s\n",
    "    tang_v = np.array([k*objs.pmra/objs.parallax, k*objs.pmdec/objs.parallax]).T.reshape(-1,2,1)\n",
    "    \n",
    "    alpha = np.radians(objs.ra); delta = np.radians(objs.dec)\n",
    "    n = len(objs)\n",
    "    \n",
    "    #projection matrix A\n",
    "    A = np.array([-np.sin(alpha), np.cos(alpha), np.zeros(n),\n",
    "                 -np.cos(alpha)*np.sin(delta), -np.sin(alpha)*np.sin(delta), np.cos(delta)]).T.reshape(-1,2,3)\n",
    "    \n",
    "    \n",
    "    init_guess = np.array([0.0,0.0, 0.0]) # to  be improved later\n",
    "    \n",
    "    result = minimize(sum_of_squares,init_guess, args=(tang_v, A))\n",
    "    \n",
    "    return result"
   ]
  },
  {
   "cell_type": "code",
   "execution_count": 111,
   "metadata": {},
   "outputs": [
    {
     "data": {
      "text/plain": [
       "      fun: 643.685753159432\n",
       " hess_inv: array([[0.08655083, 0.10857117, 0.15911507],\n",
       "       [0.10857117, 0.13794238, 0.20116854],\n",
       "       [0.15911507, 0.20116854, 0.29549596]])\n",
       "      jac: array([-7.62939453e-06,  7.62939453e-06,  7.62939453e-06])\n",
       "  message: 'Optimization terminated successfully.'\n",
       "     nfev: 70\n",
       "      nit: 8\n",
       "     njev: 14\n",
       "   status: 0\n",
       "  success: True\n",
       "        x: array([ -5.07412772,  24.16182668, -14.14396763])"
      ]
     },
     "execution_count": 111,
     "metadata": {},
     "output_type": "execute_result"
    }
   ],
   "source": [
    "result = ls_pm(cluster_members['alphaPer'].objs)\n",
    "result"
   ]
  },
  {
   "cell_type": "code",
   "execution_count": 112,
   "metadata": {},
   "outputs": [
    {
     "data": {
      "text/html": [
       "<i>Row index=8</i>\n",
       "<table id=\"table139790898297040\">\n",
       "<thead><tr><th>U</th><th>V</th><th>W</th></tr></thead>\n",
       "<thead><tr><th>float64</th><th>float64</th><th>float64</th></tr></thead>\n",
       "<tr><td>-5.11</td><td>24.183000000000003</td><td>-14.122</td></tr>\n",
       "</table>"
      ],
      "text/plain": [
       "<Row index=8>\n",
       "   U            V             W   \n",
       "float64      float64       float64\n",
       "------- ------------------ -------\n",
       "  -5.11 24.183000000000003 -14.122"
      ]
     },
     "execution_count": 112,
     "metadata": {},
     "output_type": "execute_result"
    }
   ],
   "source": [
    "cluster_info.loc['alphaPer'][['U','V','W']]"
   ]
  },
  {
   "cell_type": "code",
   "execution_count": 85,
   "metadata": {},
   "outputs": [],
   "source": [
    "space_v = np.array([*cluster_info.loc['Hyades'][['U','V','W']].as_void()]).reshape(-1,1)"
   ]
  },
  {
   "cell_type": "code",
   "execution_count": 86,
   "metadata": {},
   "outputs": [
    {
     "data": {
      "text/plain": [
       "array([[-6.059],\n",
       "       [45.691],\n",
       "       [ 5.544]])"
      ]
     },
     "execution_count": 86,
     "metadata": {},
     "output_type": "execute_result"
    }
   ],
   "source": [
    "space_v"
   ]
  },
  {
   "cell_type": "code",
   "execution_count": 87,
   "metadata": {},
   "outputs": [
    {
     "data": {
      "text/plain": [
       "array([[[24.88613189],\n",
       "        [-9.22896128]],\n",
       "\n",
       "       [[27.96260908],\n",
       "        [-6.17332709]],\n",
       "\n",
       "       [[28.21569552],\n",
       "        [-7.52515875]],\n",
       "\n",
       "       ...,\n",
       "\n",
       "       [[20.15203051],\n",
       "        [-5.71492623]],\n",
       "\n",
       "       [[20.32464916],\n",
       "        [-5.3882314 ]],\n",
       "\n",
       "       [[19.95601763],\n",
       "        [-5.31745907]]])"
      ]
     },
     "execution_count": 87,
     "metadata": {},
     "output_type": "execute_result"
    }
   ],
   "source": [
    "A.dot(space_v)"
   ]
  },
  {
   "cell_type": "code",
   "execution_count": 90,
   "metadata": {},
   "outputs": [
    {
     "data": {
      "text/plain": [
       "array([[[ 0.151464  ],\n",
       "        [-0.41880387]],\n",
       "\n",
       "       [[-0.45902157],\n",
       "        [-0.17431726]],\n",
       "\n",
       "       [[ 0.01344657],\n",
       "        [ 0.14061303]],\n",
       "\n",
       "       ...,\n",
       "\n",
       "       [[-0.01272849],\n",
       "        [ 0.02319132]],\n",
       "\n",
       "       [[ 1.18228601],\n",
       "        [-0.0837999 ]],\n",
       "\n",
       "       [[ 0.17303157],\n",
       "        [ 0.18791088]]])"
      ]
     },
     "execution_count": 90,
     "metadata": {},
     "output_type": "execute_result"
    }
   ],
   "source": [
    "A.dot(space_v)-tang_v.T.reshape(-1,2,1)"
   ]
  },
  {
   "cell_type": "code",
   "execution_count": 92,
   "metadata": {},
   "outputs": [],
   "source": [
    "tv = tang_v.T.reshape(-1,2,1)"
   ]
  },
  {
   "cell_type": "code",
   "execution_count": 98,
   "metadata": {},
   "outputs": [
    {
     "data": {
      "text/plain": [
       "array([22.83947745, -6.15883263,  0.        ])"
      ]
     },
     "execution_count": 98,
     "metadata": {},
     "output_type": "execute_result"
    }
   ],
   "source": [
    "np.array([*tv.mean(axis=0).flatten(),0])"
   ]
  },
  {
   "cell_type": "code",
   "execution_count": 95,
   "metadata": {},
   "outputs": [
    {
     "data": {
      "text/plain": [
       "array([[[24.73466789],\n",
       "        [-8.81015741]],\n",
       "\n",
       "       [[28.42163065],\n",
       "        [-5.99900983]],\n",
       "\n",
       "       [[28.20224896],\n",
       "        [-7.66577178]],\n",
       "\n",
       "       ...,\n",
       "\n",
       "       [[20.16475899],\n",
       "        [-5.73811755]],\n",
       "\n",
       "       [[19.14236315],\n",
       "        [-5.3044315 ]],\n",
       "\n",
       "       [[19.78298606],\n",
       "        [-5.50536996]]])"
      ]
     },
     "execution_count": 95,
     "metadata": {},
     "output_type": "execute_result"
    }
   ],
   "source": [
    "tv"
   ]
  },
  {
   "cell_type": "code",
   "execution_count": null,
   "metadata": {},
   "outputs": [],
   "source": []
  }
 ],
 "metadata": {
  "kernelspec": {
   "display_name": "astro",
   "language": "python",
   "name": "astro"
  },
  "language_info": {
   "codemirror_mode": {
    "name": "ipython",
    "version": 3
   },
   "file_extension": ".py",
   "mimetype": "text/x-python",
   "name": "python",
   "nbconvert_exporter": "python",
   "pygments_lexer": "ipython3",
   "version": "3.7.7"
  }
 },
 "nbformat": 4,
 "nbformat_minor": 4
}
