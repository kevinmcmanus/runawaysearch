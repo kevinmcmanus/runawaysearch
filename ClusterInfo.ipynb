{
 "cells": [
  {
   "cell_type": "code",
   "execution_count": 1,
   "metadata": {},
   "outputs": [
    {
     "name": "stdout",
     "output_type": "stream",
     "text": [
      "Created TAP+ (v1.2.1) - Connection:\n",
      "\tHost: gea.esac.esa.int\n",
      "\tUse HTTPS: True\n",
      "\tPort: 443\n",
      "\tSSL Port: 443\n",
      "Created TAP+ (v1.2.1) - Connection:\n",
      "\tHost: geadata.esac.esa.int\n",
      "\tUse HTTPS: True\n",
      "\tPort: 443\n",
      "\tSSL Port: 443\n"
     ]
    }
   ],
   "source": [
    "import numpy as np\n",
    "import pandas as pd\n",
    "import matplotlib.pyplot as plt\n",
    "#matplotlib inline\n",
    "\n",
    "from matplotlib.ticker import FormatStrFormatter\n",
    "from mpl_toolkits.axes_grid1 import make_axes_locatable\n",
    "\n",
    "import sys\n",
    "sys.path.append('./src')\n",
    "\n",
    "from data_queries import  getClusterInfo, getGAIAKnownMembers, querySIMBAD, formatSIMBADtoGAIA\n",
    "from gaiastars import gaiastars as gs\n",
    "\n",
    "import astropy.units as u"
   ]
  },
  {
   "cell_type": "code",
   "execution_count": 2,
   "metadata": {},
   "outputs": [
    {
     "name": "stderr",
     "output_type": "stream",
     "text": [
      "WARNING: MergeConflictWarning: Cannot merge meta key 'description' types <class 'str'> and <class 'str'>, choosing description='Simbad script executed on 2020.05.30CEST14:59:09' [astropy.utils.metadata]\n",
      "WARNING: MergeConflictWarning: Cannot merge meta key 'description' types <class 'str'> and <class 'str'>, choosing description='Simbad script executed on 2020.05.30CEST14:59:06' [astropy.utils.metadata]\n",
      "WARNING: MergeConflictWarning: Cannot merge meta key 'description' types <class 'str'> and <class 'str'>, choosing description='Simbad script executed on 2020.05.30CEST14:59:07' [astropy.utils.metadata]\n"
     ]
    }
   ],
   "source": [
    "#construct a dict mapping cluster name in Table1a to its name in Simabad\n",
    "name_mapper = {'Hyades': 'Hyades',\n",
    "               'Coma Berenices Cluster':'ComaBer',\n",
    "               'Pleiades':'Pleiades',\n",
    "               'Praesepe': 'Praesepe',\n",
    "               'alpha Per':'alphaPer',\n",
    "               'IC 2391': 'IC2391',\n",
    "               'IC 2602': 'IC2602',\n",
    "               'Blanco 1': 'Blanco1',\n",
    "               'NGC 2451A': 'NGC2451'}\n",
    "cluster_info_old = querySIMBAD(name_mapper, formatGaia=True)"
   ]
  },
  {
   "cell_type": "code",
   "execution_count": 3,
   "metadata": {},
   "outputs": [],
   "source": [
    "#construct a dict mapping cluster name in Table1a to its name in Simabad\n",
    "cluster_info = getClusterInfo()"
   ]
  },
  {
   "cell_type": "code",
   "execution_count": 4,
   "metadata": {},
   "outputs": [
    {
     "data": {
      "text/html": [
       "<i>Table length=9</i>\n",
       "<table id=\"table139684024119632\" class=\"table-striped table-bordered table-condensed\">\n",
       "<thead><tr><th>cluster</th><th>Z</th><th>DM</th></tr></thead>\n",
       "<thead><tr><th>str8</th><th>float64</th><th>float64</th></tr></thead>\n",
       "<tr><td>Blanco1</td><td>0.017</td><td>6.876</td></tr>\n",
       "<tr><td>ComaBer</td><td>0.017</td><td>4.669</td></tr>\n",
       "<tr><td>Hyades</td><td>0.02</td><td>3.389</td></tr>\n",
       "<tr><td>IC2391</td><td>0.017</td><td>5.9079999999999995</td></tr>\n",
       "<tr><td>IC2602</td><td>0.017</td><td>5.914</td></tr>\n",
       "<tr><td>NGC2451</td><td>0.017</td><td>6.433</td></tr>\n",
       "<tr><td>Pleiades</td><td>0.017</td><td>5.667000000000001</td></tr>\n",
       "<tr><td>Praesepe</td><td>0.02</td><td>6.35</td></tr>\n",
       "<tr><td>alphaPer</td><td>0.02</td><td>6.2139999999999995</td></tr>\n",
       "</table>"
      ],
      "text/plain": [
       "<Table length=9>\n",
       "cluster     Z            DM        \n",
       "  str8   float64      float64      \n",
       "-------- ------- ------------------\n",
       " Blanco1   0.017              6.876\n",
       " ComaBer   0.017              4.669\n",
       "  Hyades    0.02              3.389\n",
       "  IC2391   0.017 5.9079999999999995\n",
       "  IC2602   0.017              5.914\n",
       " NGC2451   0.017              6.433\n",
       "Pleiades   0.017  5.667000000000001\n",
       "Praesepe    0.02               6.35\n",
       "alphaPer    0.02 6.2139999999999995"
      ]
     },
     "execution_count": 4,
     "metadata": {},
     "output_type": "execute_result"
    }
   ],
   "source": [
    "cluster_info[['cluster','Z','DM']]"
   ]
  },
  {
   "cell_type": "code",
   "execution_count": 5,
   "metadata": {},
   "outputs": [],
   "source": [
    "from tabulate import tabulate"
   ]
  },
  {
   "cell_type": "code",
   "execution_count": 6,
   "metadata": {},
   "outputs": [],
   "source": [
    "def coord_comp(old, new):\n",
    "    old_pm_ra_cosdec = old.pm_ra_cosdec if hasattr(old,'pm_ra_cosdec') else old.pm_ra*np.cos(old.dec)\n",
    "    new_pm_ra_cosdec = new.pm_ra_cosdec if hasattr(new,'pm_ra_cosdec') else new.pm_ra*np.cos(new.dec)\n",
    "    \n",
    "    tbl = [\n",
    "        ['ra', old.ra.value, new.ra.value, (new.ra/old.ra-1)*100],\n",
    "        ['dec', old.dec.value, new.dec.value, (new.dec/old.dec-1)*100],\n",
    "        ['dist', old.distance.value, new.distance.value, (new.distance/old.distance-1)*100],\n",
    "        ['pm_ra_cosdec', old_pm_ra_cosdec.value, new_pm_ra_cosdec.value, (new_pm_ra_cosdec/old_pm_ra_cosdec-1)*100],\n",
    "        ['pmdec', old.pm_dec.value, new.pm_dec.value, (new.pm_dec/old.pm_dec-1)*100],\n",
    "    ]\n",
    "    \n",
    "    return tabulate(tbl, headers=['Variable', 'Old', 'New', '%diff'],floatfmt=(\".2f\", \".2f\",\".2f\",\".2f\"))\n"
   ]
  },
  {
   "cell_type": "code",
   "execution_count": 7,
   "metadata": {},
   "outputs": [
    {
     "name": "stdout",
     "output_type": "stream",
     "text": [
      "--------- Hyades ------------\n",
      "Variable         Old     New    %diff\n",
      "------------  ------  ------  -------\n",
      "ra             66.73   67.98     1.88\n",
      "dec            15.87   17.01     7.21\n",
      "dist           47.50   47.50    -0.00\n",
      "pm_ra_cosdec  104.92  101.00    -3.73\n",
      "pmdec         -28.00  -28.49     1.75\n",
      "\n",
      "--------- ComaBer ------------\n",
      "Variable         Old     New    %diff\n",
      "------------  ------  ------  -------\n",
      "ra            186.27  185.98    -0.16\n",
      "dec            26.10   26.09    -0.04\n",
      "dist           85.91   85.91     0.00\n",
      "pm_ra_cosdec  -12.11  -12.11     0.00\n",
      "pmdec          -9.00   -9.00    -0.00\n",
      "\n",
      "--------- Pleiades ------------\n",
      "Variable         Old     New    %diff\n",
      "------------  ------  ------  -------\n",
      "ra             56.75   56.44    -0.55\n",
      "dec            24.12   23.86    -1.06\n",
      "dist          135.80  135.80    -0.00\n",
      "pm_ra_cosdec   20.00   20.00     0.00\n",
      "pmdec         -45.55  -45.55     0.00\n",
      "\n",
      "--------- Praesepe ------------\n",
      "Variable         Old     New    %diff\n",
      "------------  ------  ------  -------\n",
      "ra            130.10  130.08    -0.02\n",
      "dec            19.67   19.68     0.07\n",
      "dist          186.19  186.19    -0.00\n",
      "pm_ra_cosdec  -36.05  -36.05     0.00\n",
      "pmdec         -12.92  -12.92     0.00\n",
      "\n",
      "--------- alphaPer ------------\n",
      "Variable         Old     New    %diff\n",
      "------------  ------  ------  -------\n",
      "ra             51.08   52.06     1.92\n",
      "dec            49.86   49.06    -1.61\n",
      "dist          155.28  174.89    12.63\n",
      "pm_ra_cosdec   23.75   22.93    -3.46\n",
      "pmdec         -26.23  -25.56    -2.57\n",
      "\n",
      "--------- IC2391 ------------\n",
      "Variable         Old     New    %diff\n",
      "------------  ------  ------  -------\n",
      "ra            130.13  130.29     0.12\n",
      "dec           -53.03  -52.99    -0.08\n",
      "dist          151.58  151.58    -0.00\n",
      "pm_ra_cosdec  -24.93  -24.93     0.00\n",
      "pmdec          23.26   23.26     0.00\n",
      "\n",
      "--------- IC2602 ------------\n",
      "Variable         Old     New    %diff\n",
      "------------  ------  ------  -------\n",
      "ra            160.74  161.22     0.30\n",
      "dec           -64.40  -63.89    -0.79\n",
      "dist          152.18  152.18    -0.00\n",
      "pm_ra_cosdec  -17.78  -17.78     0.00\n",
      "pmdec          10.66   10.65    -0.00\n",
      "\n",
      "--------- Blanco1 ------------\n",
      "Variable         Old     New    %diff\n",
      "------------  ------  ------  -------\n",
      "ra              1.03    0.72   -30.05\n",
      "dec           -29.83  -30.09     0.86\n",
      "dist          237.19  237.19    -0.00\n",
      "pm_ra_cosdec   18.72   18.72     0.00\n",
      "pmdec           2.65    2.65    -0.00\n",
      "\n",
      "--------- NGC2451 ------------\n",
      "Variable         Old     New    %diff\n",
      "------------  ------  ------  -------\n",
      "ra            115.80  116.01     0.18\n",
      "dec           -38.40  -38.41     0.03\n",
      "dist          193.61  193.69     0.04\n",
      "pm_ra_cosdec  -21.12  -21.06    -0.25\n",
      "pmdec          15.33   15.38     0.33\n",
      "\n"
     ]
    }
   ],
   "source": [
    "for cl in name_mapper:\n",
    "    print(f\"--------- {name_mapper[cl]} ------------\")\n",
    "    print(coord_comp(cluster_info_old.loc[name_mapper[cl]]['coords'], cluster_info.loc[name_mapper[cl]]['coords']))\n",
    "    print()"
   ]
  },
  {
   "cell_type": "code",
   "execution_count": null,
   "metadata": {},
   "outputs": [],
   "source": []
  }
 ],
 "metadata": {
  "kernelspec": {
   "display_name": "astro",
   "language": "python",
   "name": "astro"
  },
  "language_info": {
   "codemirror_mode": {
    "name": "ipython",
    "version": 3
   },
   "file_extension": ".py",
   "mimetype": "text/x-python",
   "name": "python",
   "nbconvert_exporter": "python",
   "pygments_lexer": "ipython3",
   "version": "3.7.7"
  }
 },
 "nbformat": 4,
 "nbformat_minor": 4
}
