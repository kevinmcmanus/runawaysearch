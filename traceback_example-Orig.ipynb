{
 "cells": [
  {
   "cell_type": "code",
   "execution_count": 2,
   "metadata": {},
   "outputs": [],
   "source": [
    "import astropy\n",
    "from astropy import units\n",
    "from astropy.coordinates import SkyCoord\n",
    "import numpy\n",
    "from matplotlib import pyplot"
   ]
  },
  {
   "cell_type": "markdown",
   "metadata": {},
   "source": [
    "First get coordinates from Ae aur and Mu Col. Using data from Gaia Dr2 "
   ]
  },
  {
   "cell_type": "code",
   "execution_count": 3,
   "metadata": {},
   "outputs": [
    {
     "name": "stdout",
     "output_type": "stream",
     "text": [
      "<SkyCoord (Galactic): (l, b, distance) in (deg, deg, pc)\n",
      "    [(172.08115261,  -2.25914075, 446.42857143),\n",
      "     (237.28627192, -27.10208942, 396.82539683)]\n",
      " (pm_l_cosb, pm_b, radial_velocity) in (mas / yr, mas / yr, km / s)\n",
      "    [(-37.91870614, 21.50918984,  57.5),\n",
      "     ( 21.97672422, -3.35546347, 109. )]>\n"
     ]
    }
   ],
   "source": [
    "#lonlat = [\"5h16m18.15s +34d18m44.0s\", \" 5h45m59.89s -32d18m44.0s\"]\n",
    "ra = [79.07559745673318,86.49957923452477 ]*units.deg\n",
    "dec = [34.312505337886705,-32.30652949616978 ]*units.deg\n",
    "pmra = [ -4.4396,2.9881]#units.mas/units.yr \n",
    "pmdec = [43.36777,-22.02968]#*units.mas/units.yr\n",
    "parallax = [2.24,2.52]\n",
    "radial_velocity = [57.5,109.0]\n",
    "coords = SkyCoord(#lonlat,unit=(units.hourangle,units.deg)                 \n",
    "                ra = ra, dec=dec\n",
    "                ,pm_ra_cosdec = pmra* units.mas/units.yr, pm_dec = pmdec* units.mas/units.yr                   \n",
    "                ,distance = numpy.clip(1000.0/numpy.array(parallax),0,1E5 )*units.parsec \n",
    "                ,radial_velocity=radial_velocity*units.km/units.s                       \n",
    "                ,obstime=\"J1991.25\")\n",
    "coords = coords.galactic\n",
    "print(coords)"
   ]
  },
  {
   "cell_type": "markdown",
   "metadata": {},
   "source": [
    "Following function corrects for solar peculiar motion. It just substract the projected solar proper motion in the given star.\n",
    "The equation for correcting the radial velocity is also there but not used."
   ]
  },
  {
   "cell_type": "markdown",
   "metadata": {},
   "source": []
  },
  {
   "cell_type": "code",
   "execution_count": 4,
   "metadata": {},
   "outputs": [],
   "source": [
    "def correct_gpm(l,b,pmlstar,pmb,distance):\n",
    "    u_s,v_s,w_s=[11.1,12.24,7.25] * units.km/units.s #Schronich+2010\n",
    "    cos = numpy.cos\n",
    "    sin = numpy.sin\n",
    "    \n",
    "    vrad_solm = ( -u_s*cos(l)*cos(b) - v_s*sin(l)*cos(b) - w_s*cos(b) )         \n",
    "    pml_solm  = ( u_s*sin(l)-v_s*cos(l) )/cos(b)*units.rad/distance                 \n",
    "    pmb_solm  = ( u_s*cos(l)*sin(b) + v_s*sin(l)*sin(b) - w_s*cos(b) )*units.rad/distance\n",
    "\n",
    "    \n",
    "    pml_c = pmlstar/cos(b) - pml_solm                              \n",
    "    pmb_c = pmb - pmb_solm\n",
    "            \n",
    "    return pml_c,pmb_c\n",
    "    #return pmlstar/numpy.cos(b), pmb"
   ]
  },
  {
   "cell_type": "markdown",
   "metadata": {},
   "source": [
    "Below I show how I use above functions to calculate trajectories.\n",
    "First defining a function to compute the full trajectory on the celestial sphere, and also associate a time for \n",
    "each point assuming the proper motion do not change with time. \n",
    "\n",
    "This trajectory would give a complete circle around the celestial sphere. But of course we only use a fraction of that trajectory.\n",
    "\n",
    "Then, the resulting traceback times are not correct, since proper motions change with time because of the projection on the celestial sphere. These times are used just as reference, only a 3D traceback gives the right traceback time."
   ]
  },
  {
   "cell_type": "code",
   "execution_count": 5,
   "metadata": {},
   "outputs": [],
   "source": [
    "def great_circles_trajectory(l,b,pmlc,pmbc,N=100,with_time=False,\n",
    "                             limits=None,start_from_star=True):\n",
    "    \"\"\" Computes the complete trajectory over the surface of the celestial sphere in straigth line \n",
    "    neeeds coordinates and pm : l,b, and propermotions pml,pmb                  \n",
    "    N : the number of points to sample                                          \n",
    "    proper motions should be corrected by solar motion    \n",
    "                                                                                \n",
    "    \"\"\"                                                                         \n",
    "                                                          \n",
    "    array_like = hasattr(l.value,\"__len__\")                                 \n",
    "    if limits is not None:                                                      \n",
    "        limits = limits.to_value(units.degree)                                      \n",
    "    else:                                                                       \n",
    "        limits = [0,360]                                                        \n",
    "                                                                                \n",
    "    if array_like:                                                              \n",
    "        ### reshaping for array arithmetic                                      \n",
    "        ### variables capital letters have shapes (len(l),N)          \n",
    "        ### Then each row contains the trajectory of the corresponding particle\n",
    "        Lsample = numpy.array([ numpy.linspace(limits[0],limits[1],N) ]*len(l)) * units.deg\n",
    "                                                                                                                                      \n",
    "        L  = numpy.array([l.value]*N).transpose() * l.unit                      \n",
    "        B  = numpy.array([b.value]*N).transpose() * b.unit                      \n",
    "        PML  = numpy.array([pmlc.value]*N).transpose() * pmlc.unit                 \n",
    "        PMB  = numpy.array([pmbc.value]*N).transpose() * pmbc.unit              \n",
    "        toflip = pmlc > 0  # inverse trajectory of stars with positive propermotion (we are looking back)\n",
    "        if start_from_star :                                                    \n",
    "            Lsample = Lsample + L # The starting point of the trajectory should be the position of the star\n",
    "        Lsample[toflip] = Lsample[toflip,::-1] #do the inversion on selected particles\n",
    "                                                                                                        \n",
    "        axis = 1\n",
    "    else:                                                                       \n",
    "        Lsample = (numpy.linspace(limits[0],limits[1],N) * units.deg)               \n",
    "        if start_from_star:                                                     \n",
    "            Lsample+=l                                                          \n",
    "        if (pmlc > 0 ):                                                         \n",
    "            Lsample = Lsample[::-1]                                             \n",
    "        L,B = l,b                                                               \n",
    "        PML,PMB  = pmlc,pmbc\n",
    "        \n",
    "        axis = 0                                                                \n",
    "                                                                                \n",
    "    Lsample = numpy.remainder( Lsample.to_value(units.deg),360) * units.deg #convert values above 360 to periodic\n",
    "    \n",
    "    ## Lsample will follow the (past) trajectory starting from the location of each star\n",
    "    ## flip is necessary for the stars with positive proper motions so the past trajectory goes in the opossite direction\n",
    "    ## This is important for later when associating a time to each point in the trajectory\n",
    "    NUM1 = PML*numpy.cos(B)*numpy.sin(B)*numpy.cos(Lsample-L)                         \n",
    "    NUM2 = PMB*numpy.sin(Lsample-L)                                                   \n",
    "    DEN  = PML*(numpy.cos(B) )**2                                               \n",
    "                                                \n",
    "                                                                                \n",
    "    TGBSAMPLE = (NUM1+NUM2)/DEN                                                 \n",
    "    Bsample = numpy.arctan(TGBSAMPLE).to(units.deg)                                 \n",
    "    if not with_time:                                                           \n",
    "        return Lsample, Bsample                                             \n",
    "    else:                                                                       \n",
    "        #assosiate a time for each point in trajectory                                                             \n",
    "        pm = numpy.sqrt(PML**2 + (PMB)**2)                                  \n",
    "        #pm = numpy.sqrt( (PML*cos(Bsample) )**2 + (PMB)**2)                \n",
    "        L2 = numpy.roll(Lsample,1,axis=axis)                                \n",
    "        B2 = numpy.roll(Bsample,1,axis=axis)                                \n",
    "        THETA = great_circle_distance(Lsample,Bsample,L2,B2)                \n",
    "        #THETA = great_circle_distance(Lsample,Bsample,L,B)                 \n",
    "        THETA = numpy.nancumsum(THETA,axis=axis)                            \n",
    "        Tsample = (THETA/pm).to(units.year)                                     \n",
    "        return Lsample,Bsample,Tsample #Tsample have units\n",
    "            "
   ]
  },
  {
   "cell_type": "markdown",
   "metadata": {},
   "source": [
    "Following function is just the great circle distance between 2 points.\n"
   ]
  },
  {
   "cell_type": "code",
   "execution_count": 7,
   "metadata": {},
   "outputs": [],
   "source": [
    "def great_circle_distance(l1,b1,l0,b0):                                         \n",
    "    \" returns great circle distance between two points\"                         \n",
    "    term1   = numpy.sin(b0)*numpy.sin(b1)                                                   \n",
    "    term2   = numpy.cos(b0)*numpy.cos(b1)*numpy.cos(l1-l0)                                        \n",
    "    return numpy.arccos( term1 + term2 )\n"
   ]
  },
  {
   "cell_type": "code",
   "execution_count": null,
   "metadata": {},
   "outputs": [],
   "source": []
  },
  {
   "cell_type": "markdown",
   "metadata": {},
   "source": [
    "Here is the example on how to use above functions for the trajectory of AeAur and MuCol."
   ]
  },
  {
   "cell_type": "code",
   "execution_count": 9,
   "metadata": {},
   "outputs": [
    {
     "data": {
      "image/png": "[encoded data removed]",
      "text/plain": [
       "<Figure size 432x288 with 1 Axes>"
      ]
     },
     "metadata": {
      "needs_background": "light"
     },
     "output_type": "display_data"
    }
   ],
   "source": [
    "l,b = coords.l,coords.b \n",
    "#Corrected trajectory\n",
    "pmlc,pmbc = correct_gpm(coords.l,coords.b,coords.pm_l_cosb,coords.pm_b,distance=coords.distance)\n",
    "lsample,bsample,tsample = great_circles_trajectory(l,b,pmlc,pmbc,N=10000,with_time=True,\n",
    "                             limits=None,start_from_star=True)\n",
    "#uncorrected trajectory\n",
    "lunc,bunc,tunc = great_circles_trajectory(l,b,coords.pm_l_cosb/numpy.cos(coords.b),\n",
    "                                          coords.pm_b,N=10000,with_time=True,\n",
    "                                          limits=None,start_from_star=True)\n",
    "\n",
    "tback = 3.1*units.Myr  \n",
    "\n",
    "pyplot.plot(coords.l,coords.b,\"*k\")\n",
    "for l,b,t in zip(lsample,bsample,tsample):\n",
    "    mask = t < tback \n",
    "    pyplot.plot(l[mask],b[mask])\n",
    "\n",
    "\n",
    "    \n",
    "for l,b,t in zip(lunc,bunc,tunc):\n",
    "    mask = t < tback \n",
    "    pyplot.plot(l[mask],b[mask],ls=\"dashed\")\n"
   ]
  },
  {
   "cell_type": "code",
   "execution_count": null,
   "metadata": {},
   "outputs": [],
   "source": []
  }
 ],
 "metadata": {
  "kernelspec": {
   "display_name": "Python 3",
   "language": "python",
   "name": "python3"
  },
  "language_info": {
   "codemirror_mode": {
    "name": "ipython",
    "version": 3
   },
   "file_extension": ".py",
   "mimetype": "text/x-python",
   "name": "python",
   "nbconvert_exporter": "python",
   "pygments_lexer": "ipython3",
   "version": "3.7.4"
  }
 },
 "nbformat": 4,
 "nbformat_minor": 4
}
