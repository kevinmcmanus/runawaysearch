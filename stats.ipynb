{
 "cells": [
  {
   "cell_type": "markdown",
   "metadata": {},
   "source": [
    "## Problem 1.5"
   ]
  },
  {
   "cell_type": "code",
   "execution_count": 113,
   "metadata": {},
   "outputs": [],
   "source": [
    "import matplotlib.pyplot as plt\n",
    "import numpy as np\n",
    "from scipy.stats import chi2\n",
    "grades = np.array([73,91,72,81,82,46,89,75,62,58,\n",
    "                  73,46,64,61,50,89,91,82,71,76,\n",
    "                  69,70,82,90,63,70,94,44,100,88,\n",
    "                  56,94,51,79,63,87,54,100,72,81])"
   ]
  },
  {
   "cell_type": "code",
   "execution_count": null,
   "metadata": {},
   "outputs": [],
   "source": [
    "def gauss(x, mu, sigma):\n",
    "    exponent = -0.5*((x-mu)/sigma)**2\n",
    "    const = 1./(sigma*np.sqrt(2.0*np.pi))\n",
    "    \n",
    "    return const*np.exp(exponent)"
   ]
  },
  {
   "cell_type": "code",
   "execution_count": 2,
   "metadata": {},
   "outputs": [
    {
     "data": {
      "text/plain": [
       "73.475"
      ]
     },
     "execution_count": 2,
     "metadata": {},
     "output_type": "execute_result"
    }
   ],
   "source": [
    "grades.mean()"
   ]
  },
  {
   "cell_type": "code",
   "execution_count": 3,
   "metadata": {},
   "outputs": [
    {
     "data": {
      "text/plain": [
       "73.0"
      ]
     },
     "execution_count": 3,
     "metadata": {},
     "output_type": "execute_result"
    }
   ],
   "source": [
    "np.median(grades)"
   ]
  },
  {
   "cell_type": "code",
   "execution_count": 4,
   "metadata": {},
   "outputs": [],
   "source": [
    "import pandas as pd"
   ]
  },
  {
   "cell_type": "code",
   "execution_count": 74,
   "metadata": {},
   "outputs": [
    {
     "data": {
      "text/plain": [
       "40      3\n",
       "50      5\n",
       "60      6\n",
       "70     10\n",
       "80      9\n",
       "90      5\n",
       "100     2\n",
       "dtype: int64"
      ]
     },
     "execution_count": 74,
     "metadata": {},
     "output_type": "execute_result"
    }
   ],
   "source": [
    "grades_binned = (grades//10)*10\n",
    "grades_binned_value_counts = pd.Series(grades_binned).value_counts().sort_index()\n",
    "grades_binned_value_counts"
   ]
  },
  {
   "cell_type": "code",
   "execution_count": 75,
   "metadata": {},
   "outputs": [
    {
     "data": {
      "text/plain": [
       "<matplotlib.axes._subplots.AxesSubplot at 0x7f0b18793fd0>"
      ]
     },
     "execution_count": 75,
     "metadata": {},
     "output_type": "execute_result"
    },
    {
     "data": {
      "image/png": "[encoded data removed]",
      "text/plain": [
       "<Figure size 432x288 with 1 Axes>"
      ]
     },
     "metadata": {
      "needs_background": "light"
     },
     "output_type": "display_data"
    }
   ],
   "source": [
    "grades_binned_value_counts.plot.bar()"
   ]
  },
  {
   "cell_type": "code",
   "execution_count": 88,
   "metadata": {},
   "outputs": [
    {
     "data": {
      "text/plain": [
       "(array([ 3.,  5.,  6., 10.,  9.,  5.,  2.]),\n",
       " array([ 40,  50,  60,  70,  80,  90, 100, 110]),\n",
       " <a list of 7 Patch objects>)"
      ]
     },
     "execution_count": 88,
     "metadata": {},
     "output_type": "execute_result"
    },
    {
     "data": {
      "image/png": "[encoded data removed]",
      "text/plain": [
       "<Figure size 432x288 with 1 Axes>"
      ]
     },
     "metadata": {
      "needs_background": "light"
     },
     "output_type": "display_data"
    }
   ],
   "source": [
    "plt.hist(grades,bins=[40,50,60,70,80,90,100,110], rwidth=0.5)"
   ]
  },
  {
   "cell_type": "markdown",
   "metadata": {},
   "source": [
    "### Do the Grades follow a Normal Distribution?"
   ]
  },
  {
   "cell_type": "code",
   "execution_count": 105,
   "metadata": {},
   "outputs": [
    {
     "data": {
      "text/plain": [
       "array([ 45.,  55.,  65.,  75.,  85.,  95., 105.])"
      ]
     },
     "execution_count": 105,
     "metadata": {},
     "output_type": "execute_result"
    }
   ],
   "source": [
    "grades_mean = grades.mean()\n",
    "grades_sd = grades.std(ddof=1)\n",
    "bin_width=10;\n",
    "bins_lower = np.array([40,50,60,70,80,90,100,110])\n",
    "bins_mid = bins_lower[:-1]+(bin_width/2)\n",
    "bins_mid"
   ]
  },
  {
   "cell_type": "code",
   "execution_count": 106,
   "metadata": {},
   "outputs": [],
   "source": [
    " bin_counts = np.histogram(grades, bins_lower)[0]"
   ]
  },
  {
   "cell_type": "code",
   "execution_count": 109,
   "metadata": {},
   "outputs": [
    {
     "data": {
      "text/plain": [
       "array([ 1.91034576,  5.06255697,  8.85780865, 10.2324844 ,  7.80430645,\n",
       "        3.92994039,  1.3065801 ])"
      ]
     },
     "execution_count": 109,
     "metadata": {},
     "output_type": "execute_result"
    }
   ],
   "source": [
    "# calculate expected value in each bin\n",
    "N = len(grades)\n",
    "#probability at each bin midpoint\n",
    "p_bin_mid = gauss(bins_mid, grades_mean, grades_sd)\n",
    "#expected value is the probability * binwidth * number of grades\n",
    "bin_exp = p_bin_mid*bin_width*N\n",
    "bin_exp"
   ]
  },
  {
   "cell_type": "code",
   "execution_count": 110,
   "metadata": {},
   "outputs": [
    {
     "data": {
      "text/plain": [
       "<matplotlib.legend.Legend at 0x7f0b17d1e850>"
      ]
     },
     "execution_count": 110,
     "metadata": {},
     "output_type": "execute_result"
    },
    {
     "data": {
      "image/png": "[encoded data removed]",
      "text/plain": [
       "<Figure size 432x288 with 1 Axes>"
      ]
     },
     "metadata": {
      "needs_background": "light"
     },
     "output_type": "display_data"
    }
   ],
   "source": [
    "plt.hist(grades,bins=bins_lower, rwidth=0.5, label='Observed')\n",
    "plt.plot(bins_mid, bin_exp, color='red',label='Expected', marker='*', ms=10, ls='None')\n",
    "plt.legend()"
   ]
  },
  {
   "cell_type": "code",
   "execution_count": 120,
   "metadata": {},
   "outputs": [
    {
     "name": "stdout",
     "output_type": "stream",
     "text": [
      "Null Hypothesis: Grades came from N(73.475, 15.52) \n",
      "Alternative Hypothesis: Grades came from some other population\n",
      "\n",
      "Chi-sq value: 2.392168185589538, Critical value (alpha: 0.05, dof: 4): 9.487729036781154\n",
      "Insufficient evidence to reject Null Hypothesis\n"
     ]
    }
   ],
   "source": [
    "#Calculate Chi-Square stat\n",
    "chi_val = ((bin_counts-bin_exp)**2/bin_exp).sum()\n",
    "#degrees of freedom is number of bins - 1 - number of params estimated (in this case x_bar and s)\n",
    "# degrees of freedom in this case 7-1-2 = 4\n",
    "dof = 7-1-2\n",
    "alpha=0.05\n",
    "#critical value (alpha=0.05, dof=4)\n",
    "crit_val = chi2.ppf(1-alpha, dof)\n",
    "\n",
    "print(f'Null Hypothesis: Grades came from N({grades_mean}, {grades_sd:.2f}) ')\n",
    "print('Alternative Hypothesis: Grades came from some other population')\n",
    "print()\n",
    "print(f'Chi-sq value: {chi_val}, Critical value (alpha: {alpha}, dof: {dof}): {crit_val}')\n",
    "if chi_val <= crit_val:\n",
    "    print('Insufficient evidence to reject Null Hypothesis')\n",
    "else:\n",
    "    print('Evidence sufficient to reject Null Hypothesis')"
   ]
  },
  {
   "cell_type": "code",
   "execution_count": 112,
   "metadata": {},
   "outputs": [
    {
     "data": {
      "text/plain": [
       "2.392168185589538"
      ]
     },
     "execution_count": 112,
     "metadata": {},
     "output_type": "execute_result"
    }
   ],
   "source": [
    "chi_val"
   ]
  },
  {
   "cell_type": "code",
   "execution_count": 116,
   "metadata": {},
   "outputs": [
    {
     "data": {
      "text/plain": [
       "9.487729036781154"
      ]
     },
     "execution_count": 116,
     "metadata": {},
     "output_type": "execute_result"
    }
   ],
   "source": []
  },
  {
   "cell_type": "markdown",
   "metadata": {},
   "source": [
    "## Problem 4.1"
   ]
  },
  {
   "cell_type": "code",
   "execution_count": 9,
   "metadata": {},
   "outputs": [],
   "source": [
    "dice2= np.array([3,7,3,7,12,8,9,7,5,7,\n",
    "                12,8,6,6,7, 6,7,8,9,8,\n",
    "                5,10,8,8,8])\n"
   ]
  },
  {
   "cell_type": "code",
   "execution_count": 10,
   "metadata": {},
   "outputs": [
    {
     "data": {
      "text/plain": [
       "7.36"
      ]
     },
     "execution_count": 10,
     "metadata": {},
     "output_type": "execute_result"
    }
   ],
   "source": [
    "dice2.mean()"
   ]
  },
  {
   "cell_type": "code",
   "execution_count": 11,
   "metadata": {},
   "outputs": [
    {
     "data": {
      "text/plain": [
       "2.177154105707724"
      ]
     },
     "execution_count": 11,
     "metadata": {},
     "output_type": "execute_result"
    }
   ],
   "source": [
    "dice2.std(ddof=1)"
   ]
  },
  {
   "cell_type": "code",
   "execution_count": 12,
   "metadata": {},
   "outputs": [
    {
     "data": {
      "text/plain": [
       "0.43543082114154485"
      ]
     },
     "execution_count": 12,
     "metadata": {},
     "output_type": "execute_result"
    }
   ],
   "source": [
    "dice2.std(ddof=1)/np.sqrt(len(dice2))"
   ]
  },
  {
   "cell_type": "markdown",
   "metadata": {},
   "source": [
    "## Problem 4.7"
   ]
  },
  {
   "cell_type": "code",
   "execution_count": 13,
   "metadata": {},
   "outputs": [
    {
     "name": "stdout",
     "output_type": "stream",
     "text": [
      "Mean Total Count: 123.2, sigma: 9.4, sigma_mu: 3.0 \n",
      "Mean background: 11.60, Uncertainty: 1.5\n",
      "Corrected Mean: 111.6, plus/minus 3.3\n"
     ]
    }
   ],
   "source": [
    "grays = np.array([125, 130, 105, 126, 128,119,137,131,115,116])\n",
    "background = 58; background_dt = 5\n",
    "\n",
    "#mean background and its uncertainty:\n",
    "background_mu = background/background_dt\n",
    "background_sigma = np.sqrt(background)/background_dt\n",
    "\n",
    "corrected_counts = grays - background_mu\n",
    "\n",
    "print(f'Mean Total Count: {grays.mean()}, sigma: {grays.std(ddof=1):.1f}, sigma_mu: {grays.std(ddof=1)/np.sqrt(len(grays)):.1f} ')\n",
    "print(f'Mean background: {background_mu:.2f}, Uncertainty: {background_sigma:.1f}')\n",
    "print(f'Corrected Mean: {corrected_counts.mean():.1f}, plus/minus {np.sqrt(corrected_counts.sum())/len(corrected_counts):.1f}')"
   ]
  },
  {
   "cell_type": "code",
   "execution_count": 14,
   "metadata": {},
   "outputs": [
    {
     "data": {
      "text/plain": [
       "3.3406586176980135"
      ]
     },
     "execution_count": 14,
     "metadata": {},
     "output_type": "execute_result"
    }
   ],
   "source": [
    "np.sqrt(corrected_counts.sum())/len(corrected_counts)"
   ]
  },
  {
   "cell_type": "markdown",
   "metadata": {},
   "source": [
    "## Problem 4.9"
   ]
  },
  {
   "cell_type": "code",
   "execution_count": 15,
   "metadata": {},
   "outputs": [
    {
     "data": {
      "text/html": [
       "<div>\n",
       "<style scoped>\n",
       "    .dataframe tbody tr th:only-of-type {\n",
       "        vertical-align: middle;\n",
       "    }\n",
       "\n",
       "    .dataframe tbody tr th {\n",
       "        vertical-align: top;\n",
       "    }\n",
       "\n",
       "    .dataframe thead th {\n",
       "        text-align: right;\n",
       "    }\n",
       "</style>\n",
       "<table border=\"1\" class=\"dataframe\">\n",
       "  <thead>\n",
       "    <tr style=\"text-align: right;\">\n",
       "      <th></th>\n",
       "      <th>Tau</th>\n",
       "      <th>Sigma_tau</th>\n",
       "    </tr>\n",
       "  </thead>\n",
       "  <tbody>\n",
       "    <tr>\n",
       "      <th>0</th>\n",
       "      <td>34.3</td>\n",
       "      <td>1.6</td>\n",
       "    </tr>\n",
       "    <tr>\n",
       "      <th>1</th>\n",
       "      <td>32.2</td>\n",
       "      <td>1.2</td>\n",
       "    </tr>\n",
       "    <tr>\n",
       "      <th>2</th>\n",
       "      <td>35.4</td>\n",
       "      <td>1.5</td>\n",
       "    </tr>\n",
       "    <tr>\n",
       "      <th>3</th>\n",
       "      <td>33.5</td>\n",
       "      <td>1.4</td>\n",
       "    </tr>\n",
       "    <tr>\n",
       "      <th>4</th>\n",
       "      <td>34.7</td>\n",
       "      <td>1.6</td>\n",
       "    </tr>\n",
       "    <tr>\n",
       "      <th>5</th>\n",
       "      <td>33.5</td>\n",
       "      <td>1.5</td>\n",
       "    </tr>\n",
       "    <tr>\n",
       "      <th>6</th>\n",
       "      <td>27.9</td>\n",
       "      <td>1.9</td>\n",
       "    </tr>\n",
       "    <tr>\n",
       "      <th>7</th>\n",
       "      <td>32.0</td>\n",
       "      <td>1.2</td>\n",
       "    </tr>\n",
       "    <tr>\n",
       "      <th>8</th>\n",
       "      <td>32.4</td>\n",
       "      <td>1.4</td>\n",
       "    </tr>\n",
       "    <tr>\n",
       "      <th>9</th>\n",
       "      <td>31.0</td>\n",
       "      <td>1.8</td>\n",
       "    </tr>\n",
       "    <tr>\n",
       "      <th>10</th>\n",
       "      <td>19.8</td>\n",
       "      <td>1.3</td>\n",
       "    </tr>\n",
       "  </tbody>\n",
       "</table>\n",
       "</div>"
      ],
      "text/plain": [
       "     Tau  Sigma_tau\n",
       "0   34.3        1.6\n",
       "1   32.2        1.2\n",
       "2   35.4        1.5\n",
       "3   33.5        1.4\n",
       "4   34.7        1.6\n",
       "5   33.5        1.5\n",
       "6   27.9        1.9\n",
       "7   32.0        1.2\n",
       "8   32.4        1.4\n",
       "9   31.0        1.8\n",
       "10  19.8        1.3"
      ]
     },
     "execution_count": 15,
     "metadata": {},
     "output_type": "execute_result"
    }
   ],
   "source": [
    "mean_life = pd.DataFrame([(34.3, 1.6),\n",
    "(32.2, 1.2),\n",
    "(35.4, 1.5),\n",
    "(33.5, 1.4),\n",
    "(34.7, 1.6),\n",
    "(33.5, 1.5),\n",
    "(27.9, 1.9),\n",
    "(32.0, 1.2),\n",
    "(32.4, 1.4),\n",
    "(31.0, 1.8),\n",
    "(19.8, 1.3) ], columns=['Tau', 'Sigma_tau'])\n",
    "mean_life"
   ]
  },
  {
   "cell_type": "code",
   "execution_count": 16,
   "metadata": {},
   "outputs": [],
   "source": [
    "def weighted_mean(means, errors):\n",
    "    err_sq = errors**2\n",
    "    inv_err_sq_sum = (1/err_sq).sum()\n",
    "    \n",
    "    xbar = (means/err_sq).sum()/inv_err_sq_sum\n",
    "    \n",
    "    sigma = np.sqrt(1/inv_err_sq_sum)\n",
    "    \n",
    "    return {'weighted_mean': xbar, 'sigma': sigma}\n",
    "    \n",
    "    "
   ]
  },
  {
   "cell_type": "code",
   "execution_count": 17,
   "metadata": {},
   "outputs": [
    {
     "data": {
      "text/plain": [
       "{'weighted_mean': 31.34862842377927, 'sigma': 0.4361533192321092}"
      ]
     },
     "execution_count": 17,
     "metadata": {},
     "output_type": "execute_result"
    }
   ],
   "source": [
    "weighted_mean(mean_life.Tau, mean_life.Sigma_tau)"
   ]
  },
  {
   "cell_type": "code",
   "execution_count": 18,
   "metadata": {},
   "outputs": [
    {
     "data": {
      "text/plain": [
       "31.518181818181816"
      ]
     },
     "execution_count": 18,
     "metadata": {},
     "output_type": "execute_result"
    }
   ],
   "source": [
    "mean_life.Tau.mean()"
   ]
  },
  {
   "cell_type": "code",
   "execution_count": 19,
   "metadata": {},
   "outputs": [
    {
     "data": {
      "text/plain": [
       "4.39245220391029"
      ]
     },
     "execution_count": 19,
     "metadata": {},
     "output_type": "execute_result"
    }
   ],
   "source": [
    "mean_life.Tau.std(ddof=1)"
   ]
  },
  {
   "cell_type": "code",
   "execution_count": 20,
   "metadata": {},
   "outputs": [
    {
     "data": {
      "text/plain": [
       "1.3243741699945528"
      ]
     },
     "execution_count": 20,
     "metadata": {},
     "output_type": "execute_result"
    }
   ],
   "source": [
    "mean_life.Tau.std(ddof=1)/np.sqrt(len(mean_life))"
   ]
  },
  {
   "cell_type": "code",
   "execution_count": 21,
   "metadata": {},
   "outputs": [
    {
     "data": {
      "text/plain": [
       "31.518181818181816"
      ]
     },
     "execution_count": 21,
     "metadata": {},
     "output_type": "execute_result"
    }
   ],
   "source": [
    "mean_life.Tau.sum()/(len(mean_life))"
   ]
  },
  {
   "cell_type": "code",
   "execution_count": 22,
   "metadata": {},
   "outputs": [],
   "source": [
    "exp1 = np.full(40,1.022)\n",
    "s1 = np.full(40, 0.01)\n",
    "exp2 = np.full(10, 1.018)\n",
    "s2 = np.full(10,0.004)"
   ]
  },
  {
   "cell_type": "code",
   "execution_count": 23,
   "metadata": {},
   "outputs": [],
   "source": [
    "all_exp = np.concatenate([exp1, exp2])\n",
    "all_s = np.concatenate([s1,s2])"
   ]
  },
  {
   "cell_type": "code",
   "execution_count": 24,
   "metadata": {},
   "outputs": [
    {
     "data": {
      "text/plain": [
       "array([0.01 , 0.01 , 0.01 , 0.01 , 0.01 , 0.01 , 0.01 , 0.01 , 0.01 ,\n",
       "       0.01 , 0.01 , 0.01 , 0.01 , 0.01 , 0.01 , 0.01 , 0.01 , 0.01 ,\n",
       "       0.01 , 0.01 , 0.01 , 0.01 , 0.01 , 0.01 , 0.01 , 0.01 , 0.01 ,\n",
       "       0.01 , 0.01 , 0.01 , 0.01 , 0.01 , 0.01 , 0.01 , 0.01 , 0.01 ,\n",
       "       0.01 , 0.01 , 0.01 , 0.01 , 0.004, 0.004, 0.004, 0.004, 0.004,\n",
       "       0.004, 0.004, 0.004, 0.004, 0.004])"
      ]
     },
     "execution_count": 24,
     "metadata": {},
     "output_type": "execute_result"
    }
   ],
   "source": [
    "all_s"
   ]
  },
  {
   "cell_type": "code",
   "execution_count": 25,
   "metadata": {},
   "outputs": [
    {
     "data": {
      "text/plain": [
       "{'weighted_mean': 1.0195609756097561, 'sigma': 0.0009877295966495897}"
      ]
     },
     "execution_count": 25,
     "metadata": {},
     "output_type": "execute_result"
    }
   ],
   "source": [
    "weighted_mean(all_exp, all_s)"
   ]
  },
  {
   "cell_type": "code",
   "execution_count": 26,
   "metadata": {},
   "outputs": [],
   "source": [
    "from scipy.optimize import minimize_scalar\n",
    "def mle(mu_hat, x):\n",
    "    return ((x - mu_hat)**2).sum()"
   ]
  },
  {
   "cell_type": "code",
   "execution_count": 27,
   "metadata": {},
   "outputs": [
    {
     "data": {
      "text/plain": [
       "     fun: 192.93636363636364\n",
       "    nfev: 10\n",
       "     nit: 4\n",
       " success: True\n",
       "       x: 31.51818181818129"
      ]
     },
     "execution_count": 27,
     "metadata": {},
     "output_type": "execute_result"
    }
   ],
   "source": [
    "minimize_scalar(mle, bounds=(30.0, 35.0), args=(mean_life.Tau))\n"
   ]
  },
  {
   "cell_type": "code",
   "execution_count": 28,
   "metadata": {},
   "outputs": [
    {
     "data": {
      "text/plain": [
       "31.518181818181816"
      ]
     },
     "execution_count": 28,
     "metadata": {},
     "output_type": "execute_result"
    }
   ],
   "source": [
    "mean_life.Tau.mean()"
   ]
  },
  {
   "cell_type": "markdown",
   "metadata": {},
   "source": [
    "## Problem 4.13"
   ]
  },
  {
   "cell_type": "code",
   "execution_count": 29,
   "metadata": {},
   "outputs": [],
   "source": [
    "from scipy.stats import chi2\n",
    "def gauss(x, mu, sigma):\n",
    "    exponent = -0.5*((x-mu)/sigma)**2\n",
    "    const = 1./(sigma*np.sqrt(2.0*np.pi))\n",
    "    \n",
    "    return const*np.exp(exponent)\n",
    "    "
   ]
  },
  {
   "cell_type": "code",
   "execution_count": 30,
   "metadata": {},
   "outputs": [],
   "source": [
    "xx=np.linspace(10,30,10000)\n",
    "yy=gauss(xx, 20, 3)"
   ]
  },
  {
   "cell_type": "code",
   "execution_count": 31,
   "metadata": {},
   "outputs": [
    {
     "data": {
      "text/plain": [
       "[<matplotlib.lines.Line2D at 0x7f0b18f6cb90>]"
      ]
     },
     "execution_count": 31,
     "metadata": {},
     "output_type": "execute_result"
    },
    {
     "data": {
      "image/png": "[encoded data removed]",
      "text/plain": [
       "<Figure size 432x288 with 1 Axes>"
      ]
     },
     "metadata": {
      "needs_background": "light"
     },
     "output_type": "display_data"
    }
   ],
   "source": [
    "plt.plot(xx,yy)"
   ]
  },
  {
   "cell_type": "code",
   "execution_count": 32,
   "metadata": {},
   "outputs": [],
   "source": [
    "mu=26.0;sigma=5.0\n",
    "\n",
    "bin_counts = np.array([4,8,11,20,26,31,29,22,26,13,5,2,3])\n",
    "\n",
    "\n",
    "N = bin_counts.sum() # total number of observations\n",
    "bin_width = 2\n",
    "bin_bounds = np.arange(14,14+bin_width*len(bin_counts),bin_width)\n",
    "bin_mids=bin_bounds+(bin_width/2.0)\n",
    "#mu = (bin_counts*bin_mids).sum()/bin_counts.sum()\n",
    "\n",
    "count_hat = N*gauss(bin_mids, mu, sigma)*bin_width\n",
    "#normalize:\n",
    "#count_hat = count_hat*N/count_hat.sum()\n",
    "sigma_hat = np.sqrt(count_hat)\n",
    "sigma_obs = np.sqrt(bin_counts)\n",
    "#xx = np.linspace(bin_bounds.min(),bin_bounds.max(),10000)\n",
    "#g = gauss(xx, 26.0, 5.0)"
   ]
  },
  {
   "cell_type": "code",
   "execution_count": 33,
   "metadata": {},
   "outputs": [
    {
     "data": {
      "text/plain": [
       "(26.0, 26.1)"
      ]
     },
     "execution_count": 33,
     "metadata": {},
     "output_type": "execute_result"
    }
   ],
   "source": [
    "mu, (bin_counts*bin_mids).sum()/bin_counts.sum()"
   ]
  },
  {
   "cell_type": "code",
   "execution_count": 34,
   "metadata": {},
   "outputs": [
    {
     "data": {
      "text/plain": [
       "<matplotlib.legend.Legend at 0x7f0b19b29bd0>"
      ]
     },
     "execution_count": 34,
     "metadata": {},
     "output_type": "execute_result"
    },
    {
     "data": {
      "image/png": "[encoded data removed]",
      "text/plain": [
       "<Figure size 432x288 with 1 Axes>"
      ]
     },
     "metadata": {
      "needs_background": "light"
     },
     "output_type": "display_data"
    }
   ],
   "source": [
    "plt.bar(bin_mids, bin_counts, label='observed', alpha=0.5)\n",
    "plt.bar(bin_mids, count_hat, label='predicted', color='red', alpha=0.5)\n",
    "\n",
    "plt.legend()\n"
   ]
  },
  {
   "cell_type": "code",
   "execution_count": 35,
   "metadata": {},
   "outputs": [
    {
     "name": "stdout",
     "output_type": "stream",
     "text": [
      "Chi Square: 8.282463696269634, dof: 12\n"
     ]
    }
   ],
   "source": [
    "#chi_sq =(((bin_counts-count_hat)**2)/(sigma_hat**2+sigma_obs**2)).sum()\n",
    "#chi_sq = ((bin_counts-count_hat)**2/sigma_obs**2).sum()\n",
    "chi_sq = (((count_hat-bin_counts)/sigma_hat)**2).sum()\n",
    "print(f'Chi Square: {chi_sq}, dof: {len(bin_mids)-1}')"
   ]
  },
  {
   "cell_type": "code",
   "execution_count": 36,
   "metadata": {},
   "outputs": [
    {
     "data": {
      "text/html": [
       "<div>\n",
       "<style scoped>\n",
       "    .dataframe tbody tr th:only-of-type {\n",
       "        vertical-align: middle;\n",
       "    }\n",
       "\n",
       "    .dataframe tbody tr th {\n",
       "        vertical-align: top;\n",
       "    }\n",
       "\n",
       "    .dataframe thead th {\n",
       "        text-align: right;\n",
       "    }\n",
       "</style>\n",
       "<table border=\"1\" class=\"dataframe\">\n",
       "  <thead>\n",
       "    <tr style=\"text-align: right;\">\n",
       "      <th></th>\n",
       "      <th>Bin-Low</th>\n",
       "      <th>Bin-Mid</th>\n",
       "      <th>Bin_Width</th>\n",
       "      <th>ObsFreq</th>\n",
       "      <th>y_i</th>\n",
       "      <th>sigma_y_i</th>\n",
       "      <th>std_dev</th>\n",
       "    </tr>\n",
       "  </thead>\n",
       "  <tbody>\n",
       "    <tr>\n",
       "      <th>0</th>\n",
       "      <td>14</td>\n",
       "      <td>15.0</td>\n",
       "      <td>2</td>\n",
       "      <td>4</td>\n",
       "      <td>2.837967</td>\n",
       "      <td>1.684627</td>\n",
       "      <td>0.689786</td>\n",
       "    </tr>\n",
       "    <tr>\n",
       "      <th>1</th>\n",
       "      <td>16</td>\n",
       "      <td>17.0</td>\n",
       "      <td>2</td>\n",
       "      <td>8</td>\n",
       "      <td>6.316013</td>\n",
       "      <td>2.513168</td>\n",
       "      <td>0.670066</td>\n",
       "    </tr>\n",
       "    <tr>\n",
       "      <th>2</th>\n",
       "      <td>18</td>\n",
       "      <td>19.0</td>\n",
       "      <td>2</td>\n",
       "      <td>11</td>\n",
       "      <td>11.978197</td>\n",
       "      <td>3.460953</td>\n",
       "      <td>-0.282638</td>\n",
       "    </tr>\n",
       "    <tr>\n",
       "      <th>3</th>\n",
       "      <td>20</td>\n",
       "      <td>21.0</td>\n",
       "      <td>2</td>\n",
       "      <td>20</td>\n",
       "      <td>19.357658</td>\n",
       "      <td>4.399734</td>\n",
       "      <td>0.145996</td>\n",
       "    </tr>\n",
       "    <tr>\n",
       "      <th>4</th>\n",
       "      <td>22</td>\n",
       "      <td>23.0</td>\n",
       "      <td>2</td>\n",
       "      <td>26</td>\n",
       "      <td>26.657968</td>\n",
       "      <td>5.163136</td>\n",
       "      <td>-0.127436</td>\n",
       "    </tr>\n",
       "    <tr>\n",
       "      <th>5</th>\n",
       "      <td>24</td>\n",
       "      <td>25.0</td>\n",
       "      <td>2</td>\n",
       "      <td>31</td>\n",
       "      <td>31.283416</td>\n",
       "      <td>5.593158</td>\n",
       "      <td>-0.050672</td>\n",
       "    </tr>\n",
       "    <tr>\n",
       "      <th>6</th>\n",
       "      <td>26</td>\n",
       "      <td>27.0</td>\n",
       "      <td>2</td>\n",
       "      <td>29</td>\n",
       "      <td>31.283416</td>\n",
       "      <td>5.593158</td>\n",
       "      <td>-0.408252</td>\n",
       "    </tr>\n",
       "    <tr>\n",
       "      <th>7</th>\n",
       "      <td>28</td>\n",
       "      <td>29.0</td>\n",
       "      <td>2</td>\n",
       "      <td>22</td>\n",
       "      <td>26.657968</td>\n",
       "      <td>5.163136</td>\n",
       "      <td>-0.902159</td>\n",
       "    </tr>\n",
       "    <tr>\n",
       "      <th>8</th>\n",
       "      <td>30</td>\n",
       "      <td>31.0</td>\n",
       "      <td>2</td>\n",
       "      <td>26</td>\n",
       "      <td>19.357658</td>\n",
       "      <td>4.399734</td>\n",
       "      <td>1.509715</td>\n",
       "    </tr>\n",
       "    <tr>\n",
       "      <th>9</th>\n",
       "      <td>32</td>\n",
       "      <td>33.0</td>\n",
       "      <td>2</td>\n",
       "      <td>13</td>\n",
       "      <td>11.978197</td>\n",
       "      <td>3.460953</td>\n",
       "      <td>0.295237</td>\n",
       "    </tr>\n",
       "    <tr>\n",
       "      <th>10</th>\n",
       "      <td>34</td>\n",
       "      <td>35.0</td>\n",
       "      <td>2</td>\n",
       "      <td>5</td>\n",
       "      <td>6.316013</td>\n",
       "      <td>2.513168</td>\n",
       "      <td>-0.523647</td>\n",
       "    </tr>\n",
       "    <tr>\n",
       "      <th>11</th>\n",
       "      <td>36</td>\n",
       "      <td>37.0</td>\n",
       "      <td>2</td>\n",
       "      <td>2</td>\n",
       "      <td>2.837967</td>\n",
       "      <td>1.684627</td>\n",
       "      <td>-0.497420</td>\n",
       "    </tr>\n",
       "    <tr>\n",
       "      <th>12</th>\n",
       "      <td>38</td>\n",
       "      <td>39.0</td>\n",
       "      <td>2</td>\n",
       "      <td>3</td>\n",
       "      <td>1.086638</td>\n",
       "      <td>1.042419</td>\n",
       "      <td>1.835502</td>\n",
       "    </tr>\n",
       "  </tbody>\n",
       "</table>\n",
       "</div>"
      ],
      "text/plain": [
       "    Bin-Low  Bin-Mid  Bin_Width  ObsFreq        y_i  sigma_y_i   std_dev\n",
       "0        14     15.0          2        4   2.837967   1.684627  0.689786\n",
       "1        16     17.0          2        8   6.316013   2.513168  0.670066\n",
       "2        18     19.0          2       11  11.978197   3.460953 -0.282638\n",
       "3        20     21.0          2       20  19.357658   4.399734  0.145996\n",
       "4        22     23.0          2       26  26.657968   5.163136 -0.127436\n",
       "5        24     25.0          2       31  31.283416   5.593158 -0.050672\n",
       "6        26     27.0          2       29  31.283416   5.593158 -0.408252\n",
       "7        28     29.0          2       22  26.657968   5.163136 -0.902159\n",
       "8        30     31.0          2       26  19.357658   4.399734  1.509715\n",
       "9        32     33.0          2       13  11.978197   3.460953  0.295237\n",
       "10       34     35.0          2        5   6.316013   2.513168 -0.523647\n",
       "11       36     37.0          2        2   2.837967   1.684627 -0.497420\n",
       "12       38     39.0          2        3   1.086638   1.042419  1.835502"
      ]
     },
     "execution_count": 36,
     "metadata": {},
     "output_type": "execute_result"
    }
   ],
   "source": [
    "tbl413 = pd.DataFrame({'Bin-Low':bin_bounds, 'Bin-Mid':bin_mids, 'Bin_Width':bin_width, 'ObsFreq':bin_counts,\n",
    "             'y_i':count_hat, 'sigma_y_i':sigma_hat,\n",
    "             'std_dev': (bin_counts-count_hat)/sigma_hat})\n",
    "tbl413"
   ]
  },
  {
   "cell_type": "markdown",
   "metadata": {},
   "source": [
    "following methodology of example 4.1, calculate mean from sample data"
   ]
  },
  {
   "cell_type": "code",
   "execution_count": 37,
   "metadata": {},
   "outputs": [
    {
     "name": "stdout",
     "output_type": "stream",
     "text": [
      "Sample mean: 26.1, Given population stddev: 5.0, Sample stddev: 5.06\n"
     ]
    },
    {
     "data": {
      "text/html": [
       "<div>\n",
       "<style scoped>\n",
       "    .dataframe tbody tr th:only-of-type {\n",
       "        vertical-align: middle;\n",
       "    }\n",
       "\n",
       "    .dataframe tbody tr th {\n",
       "        vertical-align: top;\n",
       "    }\n",
       "\n",
       "    .dataframe thead th {\n",
       "        text-align: right;\n",
       "    }\n",
       "</style>\n",
       "<table border=\"1\" class=\"dataframe\">\n",
       "  <thead>\n",
       "    <tr style=\"text-align: right;\">\n",
       "      <th></th>\n",
       "      <th>Bin-Low</th>\n",
       "      <th>Bin-Mid</th>\n",
       "      <th>Bin_Width</th>\n",
       "      <th>ObsFreq</th>\n",
       "      <th>y_i</th>\n",
       "      <th>sigma_y_i</th>\n",
       "      <th>std_dev</th>\n",
       "      <th>y_i_sample</th>\n",
       "      <th>sigma_y_i_sample</th>\n",
       "      <th>std_dev_sample</th>\n",
       "    </tr>\n",
       "  </thead>\n",
       "  <tbody>\n",
       "    <tr>\n",
       "      <th>0</th>\n",
       "      <td>14</td>\n",
       "      <td>15.0</td>\n",
       "      <td>2</td>\n",
       "      <td>4</td>\n",
       "      <td>2.837967</td>\n",
       "      <td>1.684627</td>\n",
       "      <td>0.689786</td>\n",
       "      <td>2.850869</td>\n",
       "      <td>1.688452</td>\n",
       "      <td>0.680583</td>\n",
       "    </tr>\n",
       "    <tr>\n",
       "      <th>1</th>\n",
       "      <td>16</td>\n",
       "      <td>17.0</td>\n",
       "      <td>2</td>\n",
       "      <td>8</td>\n",
       "      <td>6.316013</td>\n",
       "      <td>2.513168</td>\n",
       "      <td>0.670066</td>\n",
       "      <td>6.268336</td>\n",
       "      <td>2.503665</td>\n",
       "      <td>0.691652</td>\n",
       "    </tr>\n",
       "    <tr>\n",
       "      <th>2</th>\n",
       "      <td>18</td>\n",
       "      <td>19.0</td>\n",
       "      <td>2</td>\n",
       "      <td>11</td>\n",
       "      <td>11.978197</td>\n",
       "      <td>3.460953</td>\n",
       "      <td>-0.282638</td>\n",
       "      <td>11.791522</td>\n",
       "      <td>3.433879</td>\n",
       "      <td>-0.230504</td>\n",
       "    </tr>\n",
       "    <tr>\n",
       "      <th>3</th>\n",
       "      <td>20</td>\n",
       "      <td>21.0</td>\n",
       "      <td>2</td>\n",
       "      <td>20</td>\n",
       "      <td>19.357658</td>\n",
       "      <td>4.399734</td>\n",
       "      <td>0.145996</td>\n",
       "      <td>18.977108</td>\n",
       "      <td>4.356272</td>\n",
       "      <td>0.234809</td>\n",
       "    </tr>\n",
       "    <tr>\n",
       "      <th>4</th>\n",
       "      <td>22</td>\n",
       "      <td>23.0</td>\n",
       "      <td>2</td>\n",
       "      <td>26</td>\n",
       "      <td>26.657968</td>\n",
       "      <td>5.163136</td>\n",
       "      <td>-0.127436</td>\n",
       "      <td>26.129600</td>\n",
       "      <td>5.111712</td>\n",
       "      <td>-0.025353</td>\n",
       "    </tr>\n",
       "    <tr>\n",
       "      <th>5</th>\n",
       "      <td>24</td>\n",
       "      <td>25.0</td>\n",
       "      <td>2</td>\n",
       "      <td>31</td>\n",
       "      <td>31.283416</td>\n",
       "      <td>5.593158</td>\n",
       "      <td>-0.050672</td>\n",
       "      <td>30.780669</td>\n",
       "      <td>5.548033</td>\n",
       "      <td>0.039533</td>\n",
       "    </tr>\n",
       "    <tr>\n",
       "      <th>6</th>\n",
       "      <td>26</td>\n",
       "      <td>27.0</td>\n",
       "      <td>2</td>\n",
       "      <td>29</td>\n",
       "      <td>31.283416</td>\n",
       "      <td>5.593158</td>\n",
       "      <td>-0.408252</td>\n",
       "      <td>31.021724</td>\n",
       "      <td>5.569715</td>\n",
       "      <td>-0.362985</td>\n",
       "    </tr>\n",
       "    <tr>\n",
       "      <th>7</th>\n",
       "      <td>28</td>\n",
       "      <td>29.0</td>\n",
       "      <td>2</td>\n",
       "      <td>22</td>\n",
       "      <td>26.657968</td>\n",
       "      <td>5.163136</td>\n",
       "      <td>-0.902159</td>\n",
       "      <td>26.748311</td>\n",
       "      <td>5.171877</td>\n",
       "      <td>-0.918102</td>\n",
       "    </tr>\n",
       "    <tr>\n",
       "      <th>8</th>\n",
       "      <td>30</td>\n",
       "      <td>31.0</td>\n",
       "      <td>2</td>\n",
       "      <td>26</td>\n",
       "      <td>19.357658</td>\n",
       "      <td>4.399734</td>\n",
       "      <td>1.509715</td>\n",
       "      <td>19.731922</td>\n",
       "      <td>4.442063</td>\n",
       "      <td>1.411074</td>\n",
       "    </tr>\n",
       "    <tr>\n",
       "      <th>9</th>\n",
       "      <td>32</td>\n",
       "      <td>33.0</td>\n",
       "      <td>2</td>\n",
       "      <td>13</td>\n",
       "      <td>11.978197</td>\n",
       "      <td>3.460953</td>\n",
       "      <td>0.295237</td>\n",
       "      <td>12.453315</td>\n",
       "      <td>3.528925</td>\n",
       "      <td>0.154916</td>\n",
       "    </tr>\n",
       "    <tr>\n",
       "      <th>10</th>\n",
       "      <td>34</td>\n",
       "      <td>35.0</td>\n",
       "      <td>2</td>\n",
       "      <td>5</td>\n",
       "      <td>6.316013</td>\n",
       "      <td>2.513168</td>\n",
       "      <td>-0.523647</td>\n",
       "      <td>6.724239</td>\n",
       "      <td>2.593114</td>\n",
       "      <td>-0.664930</td>\n",
       "    </tr>\n",
       "    <tr>\n",
       "      <th>11</th>\n",
       "      <td>36</td>\n",
       "      <td>37.0</td>\n",
       "      <td>2</td>\n",
       "      <td>2</td>\n",
       "      <td>2.837967</td>\n",
       "      <td>1.684627</td>\n",
       "      <td>-0.497420</td>\n",
       "      <td>3.106303</td>\n",
       "      <td>1.762471</td>\n",
       "      <td>-0.627700</td>\n",
       "    </tr>\n",
       "    <tr>\n",
       "      <th>12</th>\n",
       "      <td>38</td>\n",
       "      <td>39.0</td>\n",
       "      <td>2</td>\n",
       "      <td>3</td>\n",
       "      <td>1.086638</td>\n",
       "      <td>1.042419</td>\n",
       "      <td>1.835502</td>\n",
       "      <td>1.227686</td>\n",
       "      <td>1.108010</td>\n",
       "      <td>1.599548</td>\n",
       "    </tr>\n",
       "  </tbody>\n",
       "</table>\n",
       "</div>"
      ],
      "text/plain": [
       "    Bin-Low  Bin-Mid  Bin_Width  ObsFreq        y_i  sigma_y_i   std_dev  \\\n",
       "0        14     15.0          2        4   2.837967   1.684627  0.689786   \n",
       "1        16     17.0          2        8   6.316013   2.513168  0.670066   \n",
       "2        18     19.0          2       11  11.978197   3.460953 -0.282638   \n",
       "3        20     21.0          2       20  19.357658   4.399734  0.145996   \n",
       "4        22     23.0          2       26  26.657968   5.163136 -0.127436   \n",
       "5        24     25.0          2       31  31.283416   5.593158 -0.050672   \n",
       "6        26     27.0          2       29  31.283416   5.593158 -0.408252   \n",
       "7        28     29.0          2       22  26.657968   5.163136 -0.902159   \n",
       "8        30     31.0          2       26  19.357658   4.399734  1.509715   \n",
       "9        32     33.0          2       13  11.978197   3.460953  0.295237   \n",
       "10       34     35.0          2        5   6.316013   2.513168 -0.523647   \n",
       "11       36     37.0          2        2   2.837967   1.684627 -0.497420   \n",
       "12       38     39.0          2        3   1.086638   1.042419  1.835502   \n",
       "\n",
       "    y_i_sample  sigma_y_i_sample  std_dev_sample  \n",
       "0     2.850869          1.688452        0.680583  \n",
       "1     6.268336          2.503665        0.691652  \n",
       "2    11.791522          3.433879       -0.230504  \n",
       "3    18.977108          4.356272        0.234809  \n",
       "4    26.129600          5.111712       -0.025353  \n",
       "5    30.780669          5.548033        0.039533  \n",
       "6    31.021724          5.569715       -0.362985  \n",
       "7    26.748311          5.171877       -0.918102  \n",
       "8    19.731922          4.442063        1.411074  \n",
       "9    12.453315          3.528925        0.154916  \n",
       "10    6.724239          2.593114       -0.664930  \n",
       "11    3.106303          1.762471       -0.627700  \n",
       "12    1.227686          1.108010        1.599548  "
      ]
     },
     "execution_count": 37,
     "metadata": {},
     "output_type": "execute_result"
    }
   ],
   "source": [
    "sample_mean = (bin_counts*bin_mids).sum()/bin_counts.sum()\n",
    "sample_sd = np.sqrt((bin_counts*((bin_mids-sample_mean)**2)).sum()/(bin_counts.sum()-1))\n",
    "print(f'Sample mean: {sample_mean}, Given population stddev: {sigma}, Sample stddev: {sample_sd:.2f}')\n",
    "tbl413['y_i_sample']= N*gauss(bin_mids, sample_mean, sample_sd)*bin_width\n",
    "tbl413['sigma_y_i_sample'] = np.sqrt(tbl413.y_i_sample)\n",
    "tbl413['std_dev_sample'] = (tbl413.ObsFreq - tbl413.y_i_sample )/tbl413.sigma_y_i_sample\n",
    "tbl413"
   ]
  },
  {
   "cell_type": "code",
   "execution_count": 38,
   "metadata": {},
   "outputs": [
    {
     "name": "stdout",
     "output_type": "stream",
     "text": [
      "Known Mu: Chi Square: 8.28 with 12 degrees of freedom\n",
      "Sample Mu: Chi Square: 7.44 with 10 degrees of freedom\n"
     ]
    }
   ],
   "source": [
    "print(f'Known Mu: Chi Square: {(tbl413.std_dev**2).sum():.2f} with {len(tbl413.ObsFreq)-1} degrees of freedom')\n",
    "print(f'Sample Mu: Chi Square: {(tbl413.std_dev_sample**2).sum():.2f} with {len(tbl413.ObsFreq)-3} degrees of freedom')"
   ]
  },
  {
   "cell_type": "markdown",
   "metadata": {},
   "source": [
    "The Known Mu case is what the problem appears to be asking for. However the value above (8.28) differs considerably with the answer given in the Appendix of 14.7.  The methodology above is consistent with Table 4.2/Example 4.1 which produce the correct results. Not sure what's wrong above."
   ]
  },
  {
   "cell_type": "code",
   "execution_count": 39,
   "metadata": {},
   "outputs": [
    {
     "data": {
      "text/plain": [
       "197.94907564577795"
      ]
     },
     "execution_count": 39,
     "metadata": {},
     "output_type": "execute_result"
    }
   ],
   "source": [
    "tbl413.y_i.sum()"
   ]
  },
  {
   "cell_type": "code",
   "execution_count": 40,
   "metadata": {},
   "outputs": [
    {
     "data": {
      "text/plain": [
       "197.94907564577795"
      ]
     },
     "execution_count": 40,
     "metadata": {},
     "output_type": "execute_result"
    }
   ],
   "source": [
    "\n",
    "count_hat.sum()"
   ]
  },
  {
   "cell_type": "code",
   "execution_count": 41,
   "metadata": {},
   "outputs": [],
   "source": [
    "from scipy.stats import norm"
   ]
  },
  {
   "cell_type": "code",
   "execution_count": 42,
   "metadata": {},
   "outputs": [],
   "source": [
    "xx = np.linspace(-3,3, 10000)\n",
    "g1 = gauss(xx, 0,1)\n",
    "g2 = norm().pdf(xx)"
   ]
  },
  {
   "cell_type": "code",
   "execution_count": 43,
   "metadata": {},
   "outputs": [
    {
     "data": {
      "text/plain": [
       "<matplotlib.legend.Legend at 0x7f0b18e45e90>"
      ]
     },
     "execution_count": 43,
     "metadata": {},
     "output_type": "execute_result"
    },
    {
     "data": {
      "image/png": "[encoded data removed]",
      "text/plain": [
       "<Figure size 432x288 with 1 Axes>"
      ]
     },
     "metadata": {
      "needs_background": "light"
     },
     "output_type": "display_data"
    }
   ],
   "source": [
    "plt.plot(xx,g1, label='mine')\n",
    "plt.plot(xx,g2, label='theirs')\n",
    "plt.legend()"
   ]
  },
  {
   "cell_type": "code",
   "execution_count": 44,
   "metadata": {},
   "outputs": [
    {
     "data": {
      "text/plain": [
       "True"
      ]
     },
     "execution_count": 44,
     "metadata": {},
     "output_type": "execute_result"
    }
   ],
   "source": [
    "np.allclose(g1,g2)"
   ]
  },
  {
   "cell_type": "code",
   "execution_count": 45,
   "metadata": {},
   "outputs": [],
   "source": [
    "g3 = gauss(bin_mids, mu, sigma)\n",
    "g4 = norm(loc=mu, scale=sigma).pdf(bin_mids)"
   ]
  },
  {
   "cell_type": "code",
   "execution_count": 46,
   "metadata": {},
   "outputs": [
    {
     "data": {
      "text/plain": [
       "<matplotlib.legend.Legend at 0x7f0b18dc8cd0>"
      ]
     },
     "execution_count": 46,
     "metadata": {},
     "output_type": "execute_result"
    },
    {
     "data": {
      "image/png": "[encoded data removed]",
      "text/plain": [
       "<Figure size 432x288 with 1 Axes>"
      ]
     },
     "metadata": {
      "needs_background": "light"
     },
     "output_type": "display_data"
    }
   ],
   "source": [
    "plt.plot(bin_mids,g3, label='mine')\n",
    "plt.plot(bin_mids,g4, label='theirs')\n",
    "plt.legend()"
   ]
  },
  {
   "cell_type": "code",
   "execution_count": 47,
   "metadata": {},
   "outputs": [
    {
     "data": {
      "text/plain": [
       "True"
      ]
     },
     "execution_count": 47,
     "metadata": {},
     "output_type": "execute_result"
    }
   ],
   "source": [
    "np.allclose(g3,g4)"
   ]
  },
  {
   "cell_type": "code",
   "execution_count": 48,
   "metadata": {},
   "outputs": [
    {
     "data": {
      "text/plain": [
       "0.49487268911444493"
      ]
     },
     "execution_count": 48,
     "metadata": {},
     "output_type": "execute_result"
    }
   ],
   "source": [
    "g3.sum()"
   ]
  },
  {
   "cell_type": "code",
   "execution_count": 49,
   "metadata": {},
   "outputs": [
    {
     "data": {
      "text/plain": [
       "<matplotlib.legend.Legend at 0x7f0b18d4ea90>"
      ]
     },
     "execution_count": 49,
     "metadata": {},
     "output_type": "execute_result"
    },
    {
     "data": {
      "image/png": "[encoded data removed]",
      "text/plain": [
       "<Figure size 432x288 with 1 Axes>"
      ]
     },
     "metadata": {
      "needs_background": "light"
     },
     "output_type": "display_data"
    }
   ],
   "source": [
    "plt.bar(bin_mids, bin_counts, label='observed')\n",
    "plt.plot(bin_mids,N*g3/g3.sum(), label='Theortical', color='red')\n",
    "plt.legend()"
   ]
  },
  {
   "cell_type": "code",
   "execution_count": 50,
   "metadata": {},
   "outputs": [
    {
     "name": "stdout",
     "output_type": "stream",
     "text": [
      "Chi Square: 3.4512384718183915\n"
     ]
    }
   ],
   "source": [
    "N = bin_counts.sum() # number of observations\n",
    "mu = 26.0; sigma = 5.0\n",
    "count_raw = gauss(bin_mids, mu, sigma)\n",
    "count_hat = N*(count_raw/count_raw.sum()) # normalize for the values we have\n",
    "chi_sq = (((bin_counts-count_hat)**2)/(sigma**2)).sum()\n",
    "print(f'Chi Square: {chi_sq}')"
   ]
  },
  {
   "cell_type": "code",
   "execution_count": 51,
   "metadata": {},
   "outputs": [
    {
     "data": {
      "text/plain": [
       "199.99999999999994"
      ]
     },
     "execution_count": 51,
     "metadata": {},
     "output_type": "execute_result"
    }
   ],
   "source": [
    "count_hat.sum()"
   ]
  },
  {
   "cell_type": "markdown",
   "metadata": {},
   "source": [
    "## Example 4.1/Table 4.2"
   ]
  },
  {
   "cell_type": "code",
   "execution_count": 52,
   "metadata": {},
   "outputs": [],
   "source": [
    "#table 4.2\n",
    "N42=50\n",
    "t, bin_width = np.linspace(0.595, 0.695,11, endpoint=True, retstep=True)\n",
    "bin_counts= np.array([2,2,11,6,12,8, 4,3,1,1,0])\n",
    "assert len(t)==len(bin_counts)"
   ]
  },
  {
   "cell_type": "code",
   "execution_count": 53,
   "metadata": {},
   "outputs": [
    {
     "data": {
      "text/plain": [
       "array([0.88686482, 2.35122693, 4.85465137, 7.80634833, 9.77606735,\n",
       "       9.53469539, 7.24228882, 4.2842148 , 1.97375396, 0.70817594,\n",
       "       0.19788629])"
      ]
     },
     "execution_count": 53,
     "metadata": {},
     "output_type": "execute_result"
    }
   ],
   "source": [
    "#calculate probability at each bin's mid point\n",
    "mu_true = 0.639; sigma_true = 0.020\n",
    "y_true_mid = gauss(t, mu_true, sigma_true)\n",
    "\n",
    "#need to multiply by the bin width to get the expected count in the bin\n",
    "#   time total number of observations\n",
    "y_j = y_true_mid*bin_width * N42\n",
    "y_j"
   ]
  },
  {
   "cell_type": "code",
   "execution_count": 54,
   "metadata": {},
   "outputs": [],
   "source": [
    "tbl42 = pd.DataFrame({'Time':t,\n",
    "              'h_j':bin_counts,'y_j':y_j, 'sigma_y_j':np.sqrt(y_j), 'y_j_minus_h_j_over_sigma_j':(y_j-bin_counts)/np.sqrt(y_j)})\n"
   ]
  },
  {
   "cell_type": "code",
   "execution_count": 55,
   "metadata": {},
   "outputs": [
    {
     "data": {
      "text/html": [
       "<div>\n",
       "<style scoped>\n",
       "    .dataframe tbody tr th:only-of-type {\n",
       "        vertical-align: middle;\n",
       "    }\n",
       "\n",
       "    .dataframe tbody tr th {\n",
       "        vertical-align: top;\n",
       "    }\n",
       "\n",
       "    .dataframe thead th {\n",
       "        text-align: right;\n",
       "    }\n",
       "</style>\n",
       "<table border=\"1\" class=\"dataframe\">\n",
       "  <thead>\n",
       "    <tr style=\"text-align: right;\">\n",
       "      <th></th>\n",
       "      <th>Time</th>\n",
       "      <th>h_j</th>\n",
       "      <th>y_j</th>\n",
       "      <th>sigma_y_j</th>\n",
       "      <th>y_j_minus_h_j_over_sigma_j</th>\n",
       "      <th>y_sample_j</th>\n",
       "      <th>y_sample_sigma_j</th>\n",
       "      <th>std_dev</th>\n",
       "    </tr>\n",
       "  </thead>\n",
       "  <tbody>\n",
       "    <tr>\n",
       "      <th>0</th>\n",
       "      <td>0.595</td>\n",
       "      <td>2</td>\n",
       "      <td>0.886865</td>\n",
       "      <td>0.941735</td>\n",
       "      <td>-1.182005</td>\n",
       "      <td>1.349774</td>\n",
       "      <td>1.161798</td>\n",
       "      <td>-0.559672</td>\n",
       "    </tr>\n",
       "    <tr>\n",
       "      <th>1</th>\n",
       "      <td>0.605</td>\n",
       "      <td>2</td>\n",
       "      <td>2.351227</td>\n",
       "      <td>1.533371</td>\n",
       "      <td>0.229055</td>\n",
       "      <td>3.237940</td>\n",
       "      <td>1.799428</td>\n",
       "      <td>0.687963</td>\n",
       "    </tr>\n",
       "    <tr>\n",
       "      <th>2</th>\n",
       "      <td>0.615</td>\n",
       "      <td>11</td>\n",
       "      <td>4.854651</td>\n",
       "      <td>2.203327</td>\n",
       "      <td>-2.789122</td>\n",
       "      <td>6.049268</td>\n",
       "      <td>2.459526</td>\n",
       "      <td>-2.012880</td>\n",
       "    </tr>\n",
       "    <tr>\n",
       "      <th>3</th>\n",
       "      <td>0.625</td>\n",
       "      <td>6</td>\n",
       "      <td>7.806348</td>\n",
       "      <td>2.793984</td>\n",
       "      <td>0.646513</td>\n",
       "      <td>8.801633</td>\n",
       "      <td>2.966755</td>\n",
       "      <td>0.944343</td>\n",
       "    </tr>\n",
       "    <tr>\n",
       "      <th>4</th>\n",
       "      <td>0.635</td>\n",
       "      <td>12</td>\n",
       "      <td>9.776067</td>\n",
       "      <td>3.126670</td>\n",
       "      <td>-0.711278</td>\n",
       "      <td>9.973557</td>\n",
       "      <td>3.158094</td>\n",
       "      <td>-0.641666</td>\n",
       "    </tr>\n",
       "    <tr>\n",
       "      <th>5</th>\n",
       "      <td>0.645</td>\n",
       "      <td>8</td>\n",
       "      <td>9.534695</td>\n",
       "      <td>3.087830</td>\n",
       "      <td>0.497014</td>\n",
       "      <td>8.801633</td>\n",
       "      <td>2.966755</td>\n",
       "      <td>0.270205</td>\n",
       "    </tr>\n",
       "    <tr>\n",
       "      <th>6</th>\n",
       "      <td>0.655</td>\n",
       "      <td>4</td>\n",
       "      <td>7.242289</td>\n",
       "      <td>2.691150</td>\n",
       "      <td>1.204797</td>\n",
       "      <td>6.049268</td>\n",
       "      <td>2.459526</td>\n",
       "      <td>0.833196</td>\n",
       "    </tr>\n",
       "    <tr>\n",
       "      <th>7</th>\n",
       "      <td>0.665</td>\n",
       "      <td>3</td>\n",
       "      <td>4.284215</td>\n",
       "      <td>2.069834</td>\n",
       "      <td>0.620443</td>\n",
       "      <td>3.237940</td>\n",
       "      <td>1.799428</td>\n",
       "      <td>0.132231</td>\n",
       "    </tr>\n",
       "    <tr>\n",
       "      <th>8</th>\n",
       "      <td>0.675</td>\n",
       "      <td>1</td>\n",
       "      <td>1.973754</td>\n",
       "      <td>1.404904</td>\n",
       "      <td>0.693111</td>\n",
       "      <td>1.349774</td>\n",
       "      <td>1.161798</td>\n",
       "      <td>0.301063</td>\n",
       "    </tr>\n",
       "    <tr>\n",
       "      <th>9</th>\n",
       "      <td>0.685</td>\n",
       "      <td>1</td>\n",
       "      <td>0.708176</td>\n",
       "      <td>0.841532</td>\n",
       "      <td>-0.346777</td>\n",
       "      <td>0.438208</td>\n",
       "      <td>0.661972</td>\n",
       "      <td>-0.848664</td>\n",
       "    </tr>\n",
       "    <tr>\n",
       "      <th>10</th>\n",
       "      <td>0.695</td>\n",
       "      <td>0</td>\n",
       "      <td>0.197886</td>\n",
       "      <td>0.444844</td>\n",
       "      <td>0.444844</td>\n",
       "      <td>0.110796</td>\n",
       "      <td>0.332861</td>\n",
       "      <td>0.332861</td>\n",
       "    </tr>\n",
       "  </tbody>\n",
       "</table>\n",
       "</div>"
      ],
      "text/plain": [
       "     Time  h_j       y_j  sigma_y_j  y_j_minus_h_j_over_sigma_j  y_sample_j  \\\n",
       "0   0.595    2  0.886865   0.941735                   -1.182005    1.349774   \n",
       "1   0.605    2  2.351227   1.533371                    0.229055    3.237940   \n",
       "2   0.615   11  4.854651   2.203327                   -2.789122    6.049268   \n",
       "3   0.625    6  7.806348   2.793984                    0.646513    8.801633   \n",
       "4   0.635   12  9.776067   3.126670                   -0.711278    9.973557   \n",
       "5   0.645    8  9.534695   3.087830                    0.497014    8.801633   \n",
       "6   0.655    4  7.242289   2.691150                    1.204797    6.049268   \n",
       "7   0.665    3  4.284215   2.069834                    0.620443    3.237940   \n",
       "8   0.675    1  1.973754   1.404904                    0.693111    1.349774   \n",
       "9   0.685    1  0.708176   0.841532                   -0.346777    0.438208   \n",
       "10  0.695    0  0.197886   0.444844                    0.444844    0.110796   \n",
       "\n",
       "    y_sample_sigma_j   std_dev  \n",
       "0           1.161798 -0.559672  \n",
       "1           1.799428  0.687963  \n",
       "2           2.459526 -2.012880  \n",
       "3           2.966755  0.944343  \n",
       "4           3.158094 -0.641666  \n",
       "5           2.966755  0.270205  \n",
       "6           2.459526  0.833196  \n",
       "7           1.799428  0.132231  \n",
       "8           1.161798  0.301063  \n",
       "9           0.661972 -0.848664  \n",
       "10          0.332861  0.332861  "
      ]
     },
     "execution_count": 55,
     "metadata": {},
     "output_type": "execute_result"
    }
   ],
   "source": [
    "#sample distribution:\n",
    "t_bar = 0.635 # from example 4.1 (note disagrees with weighted mean of observations)\n",
    "sigma_s = 0.02\n",
    "y_sample_mid = gauss(t, t_bar, sigma_s)\n",
    "\n",
    "#need to multiply by the bin width to get the expected count in the bin\n",
    "#   time total number of observations\n",
    "y_sample_j = y_sample_mid*bin_width * N42\n",
    "tbl42['y_sample_j'] = y_sample_j\n",
    "tbl42['y_sample_sigma_j'] = np.sqrt(y_sample_j)\n",
    "tbl42['std_dev'] = (y_sample_j-bin_counts)/np.sqrt(y_sample_j)\n",
    "tbl42"
   ]
  },
  {
   "cell_type": "markdown",
   "metadata": {},
   "source": [
    "Table above agrees with Table 4.2 in the book."
   ]
  },
  {
   "cell_type": "code",
   "execution_count": 56,
   "metadata": {},
   "outputs": [
    {
     "name": "stdout",
     "output_type": "stream",
     "text": [
      "Theory: Chi Val: 13.03, Probability >: 0.22\n",
      "Sample: Chi Val: 7.85, Probability >: 0.45\n"
     ]
    }
   ],
   "source": [
    "chi_val_theory = (tbl42.y_j_minus_h_j_over_sigma_j**2).sum()\n",
    "prob_theory = chi2.cdf(chi_val_theory, 10)\n",
    "chi_val_sample = (tbl42.std_dev**2).sum()\n",
    "prob_sample = chi2.cdf(chi_val_sample, 8)\n",
    "print(f'Theory: Chi Val: {chi_val_theory:.2f}, Probability >: {1-prob_theory:.2f}')\n",
    "print(f'Sample: Chi Val: {chi_val_sample:.2f}, Probability >: {1-prob_sample:.2f}')"
   ]
  },
  {
   "cell_type": "markdown",
   "metadata": {},
   "source": [
    "These agree with the values given in the book."
   ]
  },
  {
   "cell_type": "code",
   "execution_count": null,
   "metadata": {},
   "outputs": [],
   "source": []
  }
 ],
 "metadata": {
  "kernelspec": {
   "display_name": "astro",
   "language": "python",
   "name": "astro"
  },
  "language_info": {
   "codemirror_mode": {
    "name": "ipython",
    "version": 3
   },
   "file_extension": ".py",
   "mimetype": "text/x-python",
   "name": "python",
   "nbconvert_exporter": "python",
   "pygments_lexer": "ipython3",
   "version": "3.7.7"
  }
 },
 "nbformat": 4,
 "nbformat_minor": 4
}
