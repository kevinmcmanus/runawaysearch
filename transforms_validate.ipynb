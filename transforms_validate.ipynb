{
 "cells": [
  {
   "cell_type": "markdown",
   "metadata": {},
   "source": [
    "# Validation of Coordinate Transformations"
   ]
  },
  {
   "cell_type": "code",
   "execution_count": 1,
   "metadata": {},
   "outputs": [
    {
     "name": "stdout",
     "output_type": "stream",
     "text": [
      "Created TAP+ (v1.2.1) - Connection:\n",
      "\tHost: gea.esac.esa.int\n",
      "\tUse HTTPS: True\n",
      "\tPort: 443\n",
      "\tSSL Port: 443\n",
      "Created TAP+ (v1.2.1) - Connection:\n",
      "\tHost: geadata.esac.esa.int\n",
      "\tUse HTTPS: True\n",
      "\tPort: 443\n",
      "\tSSL Port: 443\n"
     ]
    }
   ],
   "source": [
    "import numpy as np\n",
    "import pandas as pd\n",
    "import matplotlib.pyplot as plt\n",
    "#matplotlib inline\n",
    "\n",
    "from matplotlib.ticker import FormatStrFormatter\n",
    "from mpl_toolkits.axes_grid1 import make_axes_locatable\n",
    "\n",
    "import sys\n",
    "sys.path.append('./src')\n",
    "\n",
    "from data_queries import  getClusterInfo, getGAIAKnownMembers\n",
    "from gaiastars import gaiastars as gs\n",
    "\n",
    "import astropy.units as u\n",
    "from astropy.coordinates import SkyCoord, Angle"
   ]
  },
  {
   "cell_type": "markdown",
   "metadata": {},
   "source": [
    "## Cone Search Parameters"
   ]
  },
  {
   "cell_type": "code",
   "execution_count": 2,
   "metadata": {},
   "outputs": [
    {
     "data": {
      "text/plain": [
       "(3.3333333333333335, 10.0)"
      ]
     },
     "execution_count": 2,
     "metadata": {},
     "output_type": "execute_result"
    }
   ],
   "source": [
    "cone_search_center=(77.0, -8.0); search_radius=7.5 #degree\n",
    "#Kun et al (2001) distance: 210 pc +/- 20pc\n",
    "#keep distance between 100 and 300 pc\n",
    "dist_constraint=(100,300) #pc\n",
    "plx_hi = 1000.0/dist_constraint[0]\n",
    "plx_lo = 1000.0/dist_constraint[1]\n",
    "(plx_lo, plx_hi)"
   ]
  },
  {
   "cell_type": "code",
   "execution_count": 3,
   "metadata": {},
   "outputs": [
    {
     "name": "stdout",
     "output_type": "stream",
     "text": [
      "INFO: Query finished. [astroquery.utils.tap.core]\n"
     ]
    },
    {
     "data": {
      "text/plain": [
       "16218"
      ]
     },
     "execution_count": 3,
     "metadata": {},
     "output_type": "execute_result"
    }
   ],
   "source": [
    "search_results=gs(name=\"conesearch near witch head nebula\")\n",
    "search_results.conesearch(cone_search_center[0]*u.degree, cone_search_center[1]*u.degree,search_radius*u.degree, parallax=(plx_lo, plx_hi))\n",
    "len(search_results)"
   ]
  },
  {
   "cell_type": "markdown",
   "metadata": {},
   "source": [
    "## Just Results with Radial Velocity (for now)"
   ]
  },
  {
   "cell_type": "code",
   "execution_count": 4,
   "metadata": {},
   "outputs": [
    {
     "name": "stdout",
     "output_type": "stream",
     "text": [
      "Search Results with RV: 3042, total stars: 16218\n"
     ]
    }
   ],
   "source": [
    "print(f\"Search Results with RV: {np.isfinite(search_results.objs.radial_velocity).sum()}, total stars: {len(search_results)}\")\n",
    "\n",
    "search_results.objs['hasRV'] = np.isfinite(search_results.objs.radial_velocity)\n",
    "\n",
    "search_results_rv = search_results.query('hasRV')"
   ]
  },
  {
   "cell_type": "code",
   "execution_count": 5,
   "metadata": {},
   "outputs": [
    {
     "data": {
      "text/plain": [
       "<matplotlib.legend.Legend at 0x7faa09e66a50>"
      ]
     },
     "execution_count": 5,
     "metadata": {},
     "output_type": "execute_result"
    },
    {
     "data": {
      "image/png": "[encoded data removed]",
      "text/plain": [
       "<Figure size 432x432 with 1 Axes>"
      ]
     },
     "metadata": {
      "needs_background": "light"
     },
     "output_type": "display_data"
    }
   ],
   "source": [
    "rv_mean = search_results_rv.objs.radial_velocity.mean()\n",
    "rv_sd = search_results_rv.objs.radial_velocity.std()\n",
    "fig = plt.figure(figsize=(6,6))\n",
    "ax=fig.add_subplot()\n",
    "ax.hist(search_results_rv.objs.radial_velocity, bins=50)\n",
    "ax.axvline(rv_mean, lw=2, label=f'Mean: {rv_mean:.2f} km/s', color='red')\n",
    "ax.axvline(rv_mean-rv_sd, ls=':', label=f'Std. Dev: {rv_sd:.2f} km/s', color='red')\n",
    "ax.axvline(rv_mean+rv_sd, ls=':', color='red')\n",
    "ax.legend()"
   ]
  },
  {
   "cell_type": "code",
   "execution_count": 6,
   "metadata": {},
   "outputs": [],
   "source": [
    "from transforms import pm_to_dxyz, dxyz_to_pm, spherical_to_cartesian, cartesian_to_spherical"
   ]
  },
  {
   "cell_type": "markdown",
   "metadata": {},
   "source": [
    "## Spherical to Cartesian"
   ]
  },
  {
   "cell_type": "code",
   "execution_count": 7,
   "metadata": {},
   "outputs": [
    {
     "data": {
      "text/plain": [
       "True"
      ]
     },
     "execution_count": 7,
     "metadata": {},
     "output_type": "execute_result"
    }
   ],
   "source": [
    "objs = search_results_rv.objs\n",
    "calc_xyz = spherical_to_cartesian(objs.ra, objs.dec, objs.r_est)\n",
    "coords = search_results_rv.get_coords()\n",
    "ap_xyz = coords.cartesian.xyz.value\n",
    "np.allclose(calc_xyz, ap_xyz)"
   ]
  },
  {
   "cell_type": "markdown",
   "metadata": {},
   "source": [
    "## Cartesian to Spherical"
   ]
  },
  {
   "cell_type": "code",
   "execution_count": 8,
   "metadata": {},
   "outputs": [
    {
     "name": "stdout",
     "output_type": "stream",
     "text": [
      "All close RA: True \n",
      "All close Dec: True \n",
      "All close Distance: True \n"
     ]
    }
   ],
   "source": [
    "objs = search_results_rv.objs\n",
    "calc_spherical = cartesian_to_spherical(calc_xyz)\n",
    "print('All close RA: {} '.format(np.allclose(calc_spherical['alpha'],objs.ra)))\n",
    "print('All close Dec: {} '.format(np.allclose(calc_spherical['delta'],objs.dec)))\n",
    "print('All close Distance: {} '.format(np.allclose(calc_spherical['distance'],objs.r_est)))"
   ]
  },
  {
   "cell_type": "markdown",
   "metadata": {},
   "source": [
    "## PM to D_XYZ\n",
    "__Use Cases__\n",
    "1.  Arguments all same length; compute d_xyz for each; return 3xlen(RA), (one col for each element)\n",
    "2.  All except RV scalar, RV vector: compute d_xyz for each RV, return 3xlen(RV) (one col for each rv)\n",
    "3.  All scalar: compute one d_xyz return column vector"
   ]
  },
  {
   "cell_type": "code",
   "execution_count": 13,
   "metadata": {},
   "outputs": [],
   "source": [
    "degree_per_mas = 2.7777777777777776e-07\n",
    "seconds_per_year = 31557600.0\n",
    "pc_per_km = 3.240779289469756e-14\n",
    "\n",
    "def pm_to_dxyz(ra_arg, dec_arg, distance_arg,\n",
    "               pm_ra_cosdec_arg, pm_dec_arg, radial_velocity_arg):\n",
    "    \"\"\"\n",
    "    computes d_xyz from ra, dec,d distance, pmra_cosdec and pm_dec, given a sample of radial velocity\n",
    "    Arguemnts:\n",
    "        ra, dec: ra and dec in degrees;\n",
    "        distance: distance to object in pc;\n",
    "        pm_ra_cosdec, pm_dec: proper motions in mas/year\n",
    "        radial_velocity: in km/s, possibly a vector of these\n",
    "    Returns np.array(3,) if radial velocity is scalar , np.array(3, len(radial_velocity)) of d_x, d_y and d_z  \n",
    "    \"\"\"\n",
    "    \n",
    "    \n",
    "    #fix up the arguments\n",
    "    radial_velocity = radial_velocity_arg if hasattr(radial_velocity_arg,\"__len__\") \\\n",
    "           else np.arary([radial_velocity_arg])\n",
    "    n =  len(radial_velocity)\n",
    "    \n",
    "    ra   = ra_arg if hasattr(ra_arg,\"__len__\") else np.full(n, ra_arg)\n",
    "    dec  = dec_arg if hasattr(dec_arg,\"__len__\") else np.full(n, dec_arg)\n",
    "    distance = distance_arg if hasattr(distance_arg,\"__len__\") else np.full(n, distance_arg)\n",
    "    pm_ra_cosdec = pm_ra_cosdec_arg if hasattr(pm_ra_cosdec_arg,\"__len__\") else np.full(n, pm_ra_cosdec_arg)\n",
    "    pm_dec = pm_dec_arg if hasattr(pm_dec_arg,\"__len__\") else np.full(n, pm_dec_arg)\n",
    "    \n",
    "    print(f'ra.shape: {ra.shape}')\n",
    "    print(f'dec.shape: {dec.shape}')    \n",
    "    print(f'distance.shape: {distance.shape}')\n",
    "    print(f'pm_ra_cosdec.shape: {pm_ra_cosdec.shape}')\n",
    "    print(f'pm_dec.shape: {pm_dec.shape}')\n",
    "    print(f'radial_velocity.shape: {radial_velocity.shape}')\n",
    "    \n",
    "    assert np.all(np.array([len(ra), len(dec), len(distance), len(pm_ra_cosdec),\n",
    "                            len(pm_dec), len(radial_velocity)]) == n)\n",
    "    \n",
    "    return\n",
    "\n",
    "    #get some radians\n",
    "    rarad = np.radians(ra);\n",
    "    decrad = np.radians(dec)\n",
    "    pmrarad = np.radians(pm_ra_cosdec*degree_per_mas) # radians per year\n",
    "    pmdecrad = np.radians(pm_dec*degree_per_mas) # radians per year\n",
    "\n",
    "    v_ra = (pmrarad*distance/pc_per_km)/seconds_per_year # km/second\n",
    "    v_dec = (pmdecrad*distance/pc_per_km)/seconds_per_year #km/second\n",
    "    \n",
    "    #form the transform matrix\n",
    "    sin_alpha = np.sin(rarad); cos_alpha = np.cos(rarad)\n",
    "    sin_delta = np.sin(decrad); cos_delta=np.cos(decrad)\n",
    "\n",
    "    dm = np.array([\n",
    "                   cos_delta*cos_alpha, -sin_alpha,   -sin_delta*cos_alpha,\n",
    "                   cos_delta*sin_alpha,  cos_alpha,   -sin_alpha*sin_delta,\n",
    "                   sin_delta,            np.zeros(n),            cos_delta\n",
    "                ]).T.reshape(-1, 3, 3)\n",
    "\n",
    "    if hasattr(radial_velocity,\"__len__\"):\n",
    "        n = len(radial_velocity)\n",
    "        eq_v = np.array([radial_velocity, v_ra, v_dec])\n",
    "    else:\n",
    "        eq_v = np.array([radial_velocity, v_ra, v_dec])\n",
    "\n",
    "    d_xyz = np.array([dm[i].dot(eq_v[:,i]) for i in range(n)]).T\n",
    "    \n",
    "    return d_xyz"
   ]
  },
  {
   "cell_type": "code",
   "execution_count": 14,
   "metadata": {},
   "outputs": [
    {
     "name": "stdout",
     "output_type": "stream",
     "text": [
      "ra.shape: (3042,)\n",
      "dec.shape: (3042,)\n",
      "distance.shape: (3042,)\n",
      "pm_ra_cosdec.shape: (3042,)\n",
      "pm_dec.shape: (3042,)\n",
      "radial_velocity.shape: (3042,)\n"
     ]
    },
    {
     "ename": "TypeError",
     "evalue": "ufunc 'isfinite' not supported for the input types, and the inputs could not be safely coerced to any supported types according to the casting rule ''safe''",
     "output_type": "error",
     "traceback": [
      "\u001b[0;31m---------------------------------------------------------------------------\u001b[0m",
      "\u001b[0;31mTypeError\u001b[0m                                 Traceback (most recent call last)",
      "\u001b[0;32m<ipython-input-14-e87a8b3cb000>\u001b[0m in \u001b[0;36m<module>\u001b[0;34m\u001b[0m\n\u001b[1;32m      3\u001b[0m \u001b[0mcoords\u001b[0m \u001b[0;34m=\u001b[0m \u001b[0msearch_results_rv\u001b[0m\u001b[0;34m.\u001b[0m\u001b[0mget_coords\u001b[0m\u001b[0;34m(\u001b[0m\u001b[0mrecalc\u001b[0m\u001b[0;34m=\u001b[0m\u001b[0;32mTrue\u001b[0m\u001b[0;34m,\u001b[0m \u001b[0mdefault_rv\u001b[0m\u001b[0;34m=\u001b[0m\u001b[0;32mTrue\u001b[0m\u001b[0;34m)\u001b[0m\u001b[0;34m\u001b[0m\u001b[0;34m\u001b[0m\u001b[0m\n\u001b[1;32m      4\u001b[0m \u001b[0map_d_xyz\u001b[0m \u001b[0;34m=\u001b[0m \u001b[0mcoords\u001b[0m\u001b[0;34m.\u001b[0m\u001b[0mvelocity\u001b[0m\u001b[0;34m.\u001b[0m\u001b[0md_xyz\u001b[0m\u001b[0;34m.\u001b[0m\u001b[0mvalue\u001b[0m\u001b[0;34m\u001b[0m\u001b[0;34m\u001b[0m\u001b[0m\n\u001b[0;32m----> 5\u001b[0;31m \u001b[0mnp\u001b[0m\u001b[0;34m.\u001b[0m\u001b[0mallclose\u001b[0m\u001b[0;34m(\u001b[0m\u001b[0map_d_xyz\u001b[0m\u001b[0;34m,\u001b[0m \u001b[0mcalc_d_xyz\u001b[0m\u001b[0;34m)\u001b[0m\u001b[0;34m\u001b[0m\u001b[0;34m\u001b[0m\u001b[0m\n\u001b[0m",
      "\u001b[0;32m<__array_function__ internals>\u001b[0m in \u001b[0;36mallclose\u001b[0;34m(*args, **kwargs)\u001b[0m\n",
      "\u001b[0;32m~/anaconda3/envs/astro/lib/python3.7/site-packages/numpy/core/numeric.py\u001b[0m in \u001b[0;36mallclose\u001b[0;34m(a, b, rtol, atol, equal_nan)\u001b[0m\n\u001b[1;32m   2157\u001b[0m \u001b[0;34m\u001b[0m\u001b[0m\n\u001b[1;32m   2158\u001b[0m     \"\"\"\n\u001b[0;32m-> 2159\u001b[0;31m     \u001b[0mres\u001b[0m \u001b[0;34m=\u001b[0m \u001b[0mall\u001b[0m\u001b[0;34m(\u001b[0m\u001b[0misclose\u001b[0m\u001b[0;34m(\u001b[0m\u001b[0ma\u001b[0m\u001b[0;34m,\u001b[0m \u001b[0mb\u001b[0m\u001b[0;34m,\u001b[0m \u001b[0mrtol\u001b[0m\u001b[0;34m=\u001b[0m\u001b[0mrtol\u001b[0m\u001b[0;34m,\u001b[0m \u001b[0matol\u001b[0m\u001b[0;34m=\u001b[0m\u001b[0matol\u001b[0m\u001b[0;34m,\u001b[0m \u001b[0mequal_nan\u001b[0m\u001b[0;34m=\u001b[0m\u001b[0mequal_nan\u001b[0m\u001b[0;34m)\u001b[0m\u001b[0;34m)\u001b[0m\u001b[0;34m\u001b[0m\u001b[0;34m\u001b[0m\u001b[0m\n\u001b[0m\u001b[1;32m   2160\u001b[0m     \u001b[0;32mreturn\u001b[0m \u001b[0mbool\u001b[0m\u001b[0;34m(\u001b[0m\u001b[0mres\u001b[0m\u001b[0;34m)\u001b[0m\u001b[0;34m\u001b[0m\u001b[0;34m\u001b[0m\u001b[0m\n\u001b[1;32m   2161\u001b[0m \u001b[0;34m\u001b[0m\u001b[0m\n",
      "\u001b[0;32m<__array_function__ internals>\u001b[0m in \u001b[0;36misclose\u001b[0;34m(*args, **kwargs)\u001b[0m\n",
      "\u001b[0;32m~/anaconda3/envs/astro/lib/python3.7/site-packages/numpy/core/numeric.py\u001b[0m in \u001b[0;36misclose\u001b[0;34m(a, b, rtol, atol, equal_nan)\u001b[0m\n\u001b[1;32m   2256\u001b[0m \u001b[0;34m\u001b[0m\u001b[0m\n\u001b[1;32m   2257\u001b[0m     \u001b[0mxfin\u001b[0m \u001b[0;34m=\u001b[0m \u001b[0misfinite\u001b[0m\u001b[0;34m(\u001b[0m\u001b[0mx\u001b[0m\u001b[0;34m)\u001b[0m\u001b[0;34m\u001b[0m\u001b[0;34m\u001b[0m\u001b[0m\n\u001b[0;32m-> 2258\u001b[0;31m     \u001b[0myfin\u001b[0m \u001b[0;34m=\u001b[0m \u001b[0misfinite\u001b[0m\u001b[0;34m(\u001b[0m\u001b[0my\u001b[0m\u001b[0;34m)\u001b[0m\u001b[0;34m\u001b[0m\u001b[0;34m\u001b[0m\u001b[0m\n\u001b[0m\u001b[1;32m   2259\u001b[0m     \u001b[0;32mif\u001b[0m \u001b[0mall\u001b[0m\u001b[0;34m(\u001b[0m\u001b[0mxfin\u001b[0m\u001b[0;34m)\u001b[0m \u001b[0;32mand\u001b[0m \u001b[0mall\u001b[0m\u001b[0;34m(\u001b[0m\u001b[0myfin\u001b[0m\u001b[0;34m)\u001b[0m\u001b[0;34m:\u001b[0m\u001b[0;34m\u001b[0m\u001b[0;34m\u001b[0m\u001b[0m\n\u001b[1;32m   2260\u001b[0m         \u001b[0;32mreturn\u001b[0m \u001b[0mwithin_tol\u001b[0m\u001b[0;34m(\u001b[0m\u001b[0mx\u001b[0m\u001b[0;34m,\u001b[0m \u001b[0my\u001b[0m\u001b[0;34m,\u001b[0m \u001b[0matol\u001b[0m\u001b[0;34m,\u001b[0m \u001b[0mrtol\u001b[0m\u001b[0;34m)\u001b[0m\u001b[0;34m\u001b[0m\u001b[0;34m\u001b[0m\u001b[0m\n",
      "\u001b[0;31mTypeError\u001b[0m: ufunc 'isfinite' not supported for the input types, and the inputs could not be safely coerced to any supported types according to the casting rule ''safe''"
     ]
    }
   ],
   "source": [
    "objs = search_results_rv.objs\n",
    "calc_d_xyz = pm_to_dxyz(objs.ra, objs.dec, objs.r_est, objs.pmra, objs.pmdec, objs.radial_velocity)\n",
    "coords = search_results_rv.get_coords(recalc=True, default_rv=True)\n",
    "ap_d_xyz = coords.velocity.d_xyz.value\n",
    "np.allclose(ap_d_xyz, calc_d_xyz)"
   ]
  },
  {
   "cell_type": "markdown",
   "metadata": {},
   "source": [
    "## D_XYZ to PM"
   ]
  },
  {
   "cell_type": "code",
   "execution_count": 11,
   "metadata": {},
   "outputs": [
    {
     "ename": "NameError",
     "evalue": "name 'u' is not defined",
     "output_type": "error",
     "traceback": [
      "\u001b[0;31m---------------------------------------------------------------------------\u001b[0m",
      "\u001b[0;31mNameError\u001b[0m                                 Traceback (most recent call last)",
      "\u001b[0;32m<ipython-input-11-42a9196cd016>\u001b[0m in \u001b[0;36m<module>\u001b[0;34m\u001b[0m\n\u001b[1;32m      2\u001b[0m \u001b[0mcalc_xyz\u001b[0m \u001b[0;34m=\u001b[0m \u001b[0mspherical_to_cartesian\u001b[0m\u001b[0;34m(\u001b[0m\u001b[0mobjs\u001b[0m\u001b[0;34m.\u001b[0m\u001b[0mra\u001b[0m\u001b[0;34m,\u001b[0m \u001b[0mobjs\u001b[0m\u001b[0;34m.\u001b[0m\u001b[0mdec\u001b[0m\u001b[0;34m,\u001b[0m \u001b[0mobjs\u001b[0m\u001b[0;34m.\u001b[0m\u001b[0mr_est\u001b[0m\u001b[0;34m)\u001b[0m\u001b[0;34m\u001b[0m\u001b[0;34m\u001b[0m\u001b[0m\n\u001b[1;32m      3\u001b[0m \u001b[0mcalc_d_xyz\u001b[0m \u001b[0;34m=\u001b[0m \u001b[0mpm_to_dxyz\u001b[0m\u001b[0;34m(\u001b[0m\u001b[0mobjs\u001b[0m\u001b[0;34m.\u001b[0m\u001b[0mra\u001b[0m\u001b[0;34m,\u001b[0m \u001b[0mobjs\u001b[0m\u001b[0;34m.\u001b[0m\u001b[0mdec\u001b[0m\u001b[0;34m,\u001b[0m \u001b[0mobjs\u001b[0m\u001b[0;34m.\u001b[0m\u001b[0mr_est\u001b[0m\u001b[0;34m,\u001b[0m \u001b[0mobjs\u001b[0m\u001b[0;34m.\u001b[0m\u001b[0mpmra\u001b[0m\u001b[0;34m,\u001b[0m \u001b[0mobjs\u001b[0m\u001b[0;34m.\u001b[0m\u001b[0mpmdec\u001b[0m\u001b[0;34m,\u001b[0m \u001b[0mobjs\u001b[0m\u001b[0;34m.\u001b[0m\u001b[0mradial_velocity\u001b[0m\u001b[0;34m)\u001b[0m\u001b[0;34m\u001b[0m\u001b[0;34m\u001b[0m\u001b[0m\n\u001b[0;32m----> 4\u001b[0;31m \u001b[0mcalc_pm\u001b[0m \u001b[0;34m=\u001b[0m \u001b[0mdxyz_to_pm\u001b[0m\u001b[0;34m(\u001b[0m\u001b[0mcalc_xyz\u001b[0m\u001b[0;34m,\u001b[0m \u001b[0mcalc_d_xyz\u001b[0m\u001b[0;34m)\u001b[0m\u001b[0;34m\u001b[0m\u001b[0;34m\u001b[0m\u001b[0m\n\u001b[0m",
      "\u001b[0;32m~/repos/runawaysearch/src/transforms.py\u001b[0m in \u001b[0;36mdxyz_to_pm\u001b[0;34m(xyz, d_xyz)\u001b[0m\n\u001b[1;32m    120\u001b[0m \u001b[0;34m\u001b[0m\u001b[0m\n\u001b[1;32m    121\u001b[0m     \u001b[0;31m#convert to mas/year for proper motions\u001b[0m\u001b[0;34m\u001b[0m\u001b[0;34m\u001b[0m\u001b[0;34m\u001b[0m\u001b[0m\n\u001b[0;32m--> 122\u001b[0;31m     d_spherical = {'radial_velocity': d_spherical_kms[0]*u.km/u.second,\n\u001b[0m\u001b[1;32m    123\u001b[0m                    \u001b[0;34m'pm_ra_cosdec'\u001b[0m\u001b[0;34m:\u001b[0m  \u001b[0;34m(\u001b[0m\u001b[0;34m(\u001b[0m\u001b[0md_spherical_kms\u001b[0m\u001b[0;34m[\u001b[0m\u001b[0;36m1\u001b[0m\u001b[0;34m]\u001b[0m\u001b[0;34m/\u001b[0m\u001b[0mdistance\u001b[0m\u001b[0;34m)\u001b[0m\u001b[0;34m*\u001b[0m\u001b[0mu\u001b[0m\u001b[0;34m.\u001b[0m\u001b[0mradian\u001b[0m\u001b[0;34m/\u001b[0m\u001b[0mu\u001b[0m\u001b[0;34m.\u001b[0m\u001b[0msecond\u001b[0m\u001b[0;34m)\u001b[0m\u001b[0;34m.\u001b[0m\u001b[0mto\u001b[0m\u001b[0;34m(\u001b[0m\u001b[0mu\u001b[0m\u001b[0;34m.\u001b[0m\u001b[0mmas\u001b[0m\u001b[0;34m/\u001b[0m\u001b[0mu\u001b[0m\u001b[0;34m.\u001b[0m\u001b[0myear\u001b[0m\u001b[0;34m)\u001b[0m\u001b[0;34m,\u001b[0m\u001b[0;34m\u001b[0m\u001b[0;34m\u001b[0m\u001b[0m\n\u001b[1;32m    124\u001b[0m                    'pm_dec': ((d_spherical_kms[2]/distance)*u.radian/u.second).to(u.mas/u.year)}\n",
      "\u001b[0;31mNameError\u001b[0m: name 'u' is not defined"
     ]
    }
   ],
   "source": [
    "objs = search_results_rv.objs\n",
    "calc_xyz = spherical_to_cartesian(objs.ra, objs.dec, objs.r_est)\n",
    "calc_d_xyz = pm_to_dxyz(objs.ra, objs.dec, objs.r_est, objs.pmra, objs.pmdec, objs.radial_velocity)\n",
    "calc_pm = dxyz_to_pm(calc_xyz, calc_d_xyz)\n"
   ]
  },
  {
   "cell_type": "code",
   "execution_count": null,
   "metadata": {},
   "outputs": [],
   "source": [
    "calc_d_xyz.shape, calc_xyz.shape, calc_pm['pm_ra_cosdec'].shape"
   ]
  },
  {
   "cell_type": "code",
   "execution_count": null,
   "metadata": {},
   "outputs": [],
   "source": [
    "degree_per_mas = 2.7777777777777776e-07\n",
    "seconds_per_year = 31557600.0\n",
    "pc_per_km = 3.240779289469756e-14\n",
    "mas_per_radian = (1000*60*60)/(2*np.pi)\n",
    "\n",
    "def dxyz_to_pm(xyz, d_xyz):\n",
    "    \n",
    "    N = xyz.shape[1] # number of stars\n",
    "    \n",
    "    #get the spherical coords from xyz:\n",
    "    spherical = cartesian_to_spherical(xyz)\n",
    "    \n",
    "    alpha = np.deg2rad(spherical['alpha'])\n",
    "    delta = np.deg2rad(spherical['delta'])\n",
    "    distance = spherical['distance']/pc_per_km\n",
    "    \n",
    "\n",
    "    #sines and cosines needed for transform matrix\n",
    "    sin_alpha = np.sin(alpha); cos_alpha = np.cos(alpha)\n",
    "    sin_delta = np.sin(delta); cos_delta = np.cos(delta)\n",
    "    \n",
    "    #form the derivative transformation matrix    \n",
    "    #dm_x is 9xN in which each column (star) is the star's 3x3 transform matrix in row-major form.\n",
    "    dm_x = np.array([cos_delta*cos_alpha, -sin_alpha,   -sin_delta*cos_alpha,\n",
    "                  cos_delta*sin_alpha,   cos_alpha,   -sin_alpha*sin_delta,\n",
    "                  sin_delta,             np.zeros(N),  cos_delta])\n",
    "    \n",
    "    print(f'dm_x.shape: {dm_x.shape}')\n",
    "\n",
    "    #rearrange dm_x to be Nx3x3, i.e. stars on the high order axis\n",
    "    dm_t = dm_x.transpose().reshape(-1, 3, 3)\n",
    "    assert dm_t.shape == (N, 3, 3)\n",
    "    \n",
    "    # need the invers of the transform matrix\n",
    "    # invert them all in one go; linalg.inv operates on the two lowest order dims\n",
    "    dm_i = np.linalg.inv(dm_t)\n",
    "    assert dm_i.shape == (N, 3, 3)\n",
    "\n",
    "    #get the velocities in km/s:\n",
    "    #for each star, pre-multiply its velocity vector (as column matrix) by its inverted transform matrix.\n",
    "    #result for each star is 3x1 col vector; resulting matrix across all stars is Nx3x1\n",
    "    d_spherical_kms = np.array([dm_i[i].dot(d_xyz[:,i].reshape(3,1)) for i in range(N)])\n",
    "    assert d_spherical_kms.shape == (N, 3, 1)\n",
    "    \n",
    "    d_spherical_kms = d_spherical_kms.squeeze().transpose()\n",
    "    assert d_spherical_kms.shape == (3, N)\n",
    "    \n",
    "    #for reference, how we transform pm_ra_cosdec in mas/year to km/s\n",
    "    #v_ra = (pm_ra_cosdec.to(u.radian/u.year)*distance*(1/u.radian)).to(u.km/u.s)\n",
    "    \n",
    "    #convert to mas/year for proper motions\n",
    "    d_spherical = {'radial_velocity': d_spherical_kms[0],\n",
    "                   'pm_ra_cosdec':  (d_spherical_kms[1]/distance)*mas_per_radian/seconds_per_year,\n",
    "                   'pm_dec': (d_spherical_kms[2]/distance)*mas_per_radian/seconds_per_year}\n",
    "    \n",
    "    return d_spherical"
   ]
  },
  {
   "cell_type": "code",
   "execution_count": null,
   "metadata": {},
   "outputs": [],
   "source": [
    "#cartesian motion in km/s\n",
    "search_results_rv_dxyz = np.array([pm_to_dxyz(s.ra, s.dec, s.r_est, s.pmra, s.pmdec, s.radial_velocity)\\\n",
    "                                   for s in search_results_rv.objs.itertuples()]).T"
   ]
  },
  {
   "cell_type": "code",
   "execution_count": null,
   "metadata": {},
   "outputs": [],
   "source": [
    "search_results_rv_dxyz.shape"
   ]
  },
  {
   "cell_type": "markdown",
   "metadata": {},
   "source": [
    "```\n",
    "def spherical_to_cartesian(ra, dec, r):\n",
    "    alpha = np.radians(ra)\n",
    "    delta = np.radians(dec)\n",
    "    \n",
    "    x = r * np.cos(delta)*np.cos(alpha)\n",
    "    y = r * np.cos(delta)*np.sin(alpha)\n",
    "    z = r * np.sin(delta)\n",
    "    \n",
    "    xyz = np.array([x, y, z])\n",
    "    return xyz\n",
    "   ```\n"
   ]
  },
  {
   "cell_type": "code",
   "execution_count": null,
   "metadata": {},
   "outputs": [],
   "source": [
    "objs = search_results_rv.objs\n",
    "search_results_rv_xyz = spherical_to_cartesian(objs.ra, objs.dec, objs.r_est)\n",
    "\n",
    "#cartesian motion in km/s\n",
    "search_results_rv_dxyz = np.array([pm_to_dxyz(s.ra, s.dec, s.r_est, s.pmra, s.pmdec, s.radial_velocity)\\\n",
    "                                   for s in objs.itertuples()]).T\n",
    "\n",
    "look_back_time = -1.0*10e6 # years, negative for look BACK time\n",
    "\n",
    "#conversion factors\n",
    "degree_per_mas = 1/(1000*60*60)\n",
    "seconds_per_year = (1.0*u.year).to_value(u.second)\n",
    "pc_per_km = (1.0*u.km).to_value(u.pc)\n",
    "\n",
    "delta_xyz = search_results_rv_dxyz*look_back_time*seconds_per_year*pc_per_km\n",
    "lbt_xyz = search_results_rv_xyz + delta_xyz\n",
    "\n"
   ]
  },
  {
   "cell_type": "markdown",
   "metadata": {},
   "source": [
    "```\n",
    "def cartesian_to_spherical(xyz):\n",
    "    #xyz: one column for each star; one row for x, y and z\n",
    "    r = np.sqrt((xyz**2).sum(axis=0))\n",
    "    delta = np.arctan(xyz[2]/np.sqrt(xyz[0]**2+xyz[1]**2))\n",
    "    alpha = np.arctan2(xyz[1], xyz[0])\n",
    "    alpha = np.where(alpha<0, alpha+2.0*np.pi, alpha)\n",
    "    \n",
    "    spherical = {'distance':r,\n",
    "                 'alpha': np.rad2deg(alpha),\n",
    "                 'delta': np.rad2deg(delta)\n",
    "    }\n",
    "    \n",
    "    return spherical\n",
    "```"
   ]
  },
  {
   "cell_type": "code",
   "execution_count": null,
   "metadata": {},
   "outputs": [],
   "source": [
    "spherical = cartesian_to_spherical(lbt_xyz)"
   ]
  },
  {
   "cell_type": "code",
   "execution_count": null,
   "metadata": {},
   "outputs": [],
   "source": [
    "spherical['alpha'][:10]"
   ]
  },
  {
   "cell_type": "code",
   "execution_count": null,
   "metadata": {},
   "outputs": [],
   "source": [
    "spherical['delta'][:10]"
   ]
  },
  {
   "cell_type": "code",
   "execution_count": null,
   "metadata": {},
   "outputs": [],
   "source": [
    "fig = plt.figure(figsize=(12,12))\n",
    "ax = fig.add_subplot()\n",
    "\n",
    "ax.scatter(search_results.objs.ra, search_results.objs.dec, s=1, label='Search Results', color='lightgrey')\n",
    "\n",
    "ax.scatter(orion_bright.RA_deg, orion_bright.Dec_deg,s=100, marker='+')\n",
    "for s in orion_bright.itertuples():\n",
    "    ax.annotate(s.Name,(s.RA_deg+offset, s.Dec_deg+offset))\n",
    "    \n",
    "ax.scatter(witchhead[0], witchhead[1], s=500,color='red', marker='*')\n",
    "ax.annotate('Witchhead Nebula', (witchhead[0]+offset, witchhead[1]+offset))\n",
    "\n",
    "ax.scatter(cone_search_center[0], cone_search_center[1], s=500, color='blue', marker='X')\n",
    "ax.annotate('Search Center',(cone_search_center[0]+offset, cone_search_center[1]-6*offset),va='bottom')\n",
    "\n",
    "ax.scatter(spherical['alpha'], spherical['delta'], color='red',label='previous position',s=2)\n",
    "\n",
    "ax.invert_xaxis()\n",
    "ax.grid(); ax.legend()\n",
    "ax.set_aspect('equal')\n",
    "\n",
    "ax.set_xlabel('Right Ascension')\n",
    "ax.set_ylabel('Declination')"
   ]
  },
  {
   "cell_type": "code",
   "execution_count": null,
   "metadata": {},
   "outputs": [],
   "source": [
    "fig = plt.figure(figsize=(8,8))\n",
    "ax = fig.add_subplot()\n",
    "\n",
    "zz=ax.hist2d(spherical['alpha'], spherical['delta'], bins=(90,45))\n",
    "ax.invert_xaxis()"
   ]
  },
  {
   "cell_type": "code",
   "execution_count": null,
   "metadata": {},
   "outputs": [],
   "source": [
    "orion_stars = pd.DataFrame([\n",
    "    dict(Name='M42', ra_hours='05h35m17.3s', dec_dms ='-05d23m28s', r_est = 412, pmra = 1.67, pmdec=-0.3, radial_velocity=27.8),\n",
    "    dict(Name='Rigel', ra_hours=\"05h14m32.27210s\", dec_dms =\"-08d12m05.8981s\", r_est=1000.0/3.78, pmra=1.31, pmdec=0.50, radial_velocity=17.8)\n",
    "])\n",
    "    \n",
    "ra = Angle(orion_stars.ra_hours, unit='hour')\n",
    "dec = Angle(orion_stars.dec_dms, unit='degree')\n",
    "\n",
    "orion_stars['ra']= ra.to_value(u.degree)\n",
    "orion_stars['dec'] = dec.to_value(u.degree)\n",
    "\n",
    "orion_stars.set_index('Name', inplace=True)\n",
    "\n",
    "orion_stars\n",
    "    "
   ]
  },
  {
   "cell_type": "code",
   "execution_count": null,
   "metadata": {},
   "outputs": [],
   "source": [
    "\n",
    "orion_stars_xyz = spherical_to_cartesian(orion_stars.ra, orion_stars.dec, orion_stars.r_est)\n",
    "\n",
    "#cartesian motion in km/s\n",
    "orion_stars_dxyz = np.array([pm_to_dxyz(s.ra, s.dec, s.r_est, s.pmra, s.pmdec, s.radial_velocity)\\\n",
    "                                   for s in orion_stars.itertuples()]).T\n",
    "\n",
    "\n",
    "orion_delta_xyz = orion_stars_dxyz*look_back_time*seconds_per_year*pc_per_km\n",
    "orion_lbt_xyz = orion_stars_xyz + orion_delta_xyz\n",
    "orion_lbt_spherical = cartesian_to_spherical(orion_lbt_xyz)"
   ]
  },
  {
   "cell_type": "code",
   "execution_count": null,
   "metadata": {},
   "outputs": [],
   "source": [
    "orion_lbt_spherical"
   ]
  },
  {
   "cell_type": "code",
   "execution_count": null,
   "metadata": {},
   "outputs": [],
   "source": [
    "def plot_full_sky_contour(ra, dec, ax, gridsize=1):\n",
    "    ra_rng = np.arange(0,360+gridsize, gridsize)\n",
    "    dec_rng = np.arange(-90, 90+gridsize, gridsize)\n",
    "    RA, DEC = np.meshgrid(ra_rng, dec_rng)\n",
    "    star_counts = np.histogram2d(ra, dec, bins=(ra_rng, dec_rng))\n",
    "    print(f\"ra_rng shape: {ra_rng.shape}, dec_rng shape: {dec_rng.shape}\")\n",
    "    print(f'star_counts shape: {star_counts[0].shape}')\n",
    "    pcm = ax.contourf(ra_rng[:-1], dec_rng[:-1], star_counts[0].T)\n",
    "    if not ax.xaxis_inverted():\n",
    "        ax.invert_xaxis()\n",
    "    #ax.set_aspect('equal')\n",
    "    ax.set_xlabel('Right Ascension')\n",
    "    ax.set_ylabel('Declination')\n",
    "    return (pcm)"
   ]
  },
  {
   "cell_type": "code",
   "execution_count": null,
   "metadata": {},
   "outputs": [],
   "source": [
    "orion_lbt_spherical"
   ]
  },
  {
   "cell_type": "code",
   "execution_count": null,
   "metadata": {},
   "outputs": [],
   "source": [
    "orion_stars"
   ]
  },
  {
   "cell_type": "code",
   "execution_count": null,
   "metadata": {},
   "outputs": [],
   "source": [
    "fig = plt.figure(figsize=(8,8))\n",
    "ax = fig.add_subplot()\n",
    "\n",
    "pcm = plot_full_sky_contour(spherical['alpha'], spherical['delta'], ax, gridsize=5)\n",
    "for i, (s, c) in enumerate(zip(orion_stars.index, ['orange','white'])):\n",
    "    ax.scatter(orion_stars.loc[s].ra, orion_stars.loc[s].dec, marker='*', s=50,color=c,label=f'{s} Current Position')\n",
    "    ax.scatter(orion_lbt_spherical['alpha'][i], orion_lbt_spherical['delta'][i], marker=\"+\",s=50, color=c, label=f'{s} LBT Position')\n",
    "ax.legend()\n",
    "fig.colorbar(pcm, label='Stars per 25 square degrees')"
   ]
  },
  {
   "cell_type": "markdown",
   "metadata": {},
   "source": [
    "## Aside: Radial Velocity Experiment\n",
    "\n",
    "What happens to a stars tragectory given a a fixed set of proper motions but varying radial velocities?"
   ]
  },
  {
   "cell_type": "code",
   "execution_count": null,
   "metadata": {},
   "outputs": [],
   "source": [
    "def pos_lbt(init_xyz, d_xyz, lbts):\n",
    "    #make sure everybody is a column vector\n",
    "    assert init_xyz.shape==(3,1)\n",
    "    assert d_xyz.shape==(3,1)\n",
    "    \n",
    "    seconds_per_year = (1.0*u.year).to_value(u.second)\n",
    "    pc_per_km = (1.0*u.km).to_value(u.pc)\n",
    "        \n",
    "    delta_xyz = d_xyz.dot(lbts.reshape(1,-1)) * seconds_per_year * pc_per_km\n",
    "    assert delta_xyz.shape == (3, len(lbts))\n",
    "    \n",
    "    return init_xyz + delta_xyz"
   ]
  },
  {
   "cell_type": "code",
   "execution_count": null,
   "metadata": {},
   "outputs": [],
   "source": [
    "rv_vals = np.array([-10.0, -5.0, 0, 5.0, 10.0])\n",
    "n_rv = len(rv_vals)\n",
    "look_back_times = np.arange(-20e6, 10e4, 10e4)\n",
    "#random star\n",
    "star_i = 33\n",
    "s = search_results.objs.iloc[star_i]\n",
    "\n",
    "#go 3d\n",
    "s_xyz = spherical_to_cartesian(s.ra, s.dec, s.dec).reshape(3,-1)\n",
    "s_dxyz = pm_to_dxyz(s.ra, s.dec, s.r_est, s.pmra, s.pmdec, rv_vals)\n",
    "#s_dxyz.shape is 3x rv_vals\n",
    "\n",
    "#compute trajectory over the look back times for each rv\n",
    "s_trajectory = np.array([pos_lbt(s_xyz, s_dxyz[:,[i]], look_back_times) for i in range(n_rv)])\n",
    "#s_trajectory.shape = (n_rv, {x,y,z}, look_back_times)\n",
    "\n",
    "trajectory_spherical = {}\n",
    "for i in range(n_rv):\n",
    "    trajectory_spherical[f'RV: {rv_vals[i]}'] = cartesian_to_spherical(s_trajectory[i])\n",
    "\n"
   ]
  },
  {
   "cell_type": "code",
   "execution_count": null,
   "metadata": {},
   "outputs": [],
   "source": [
    "markers = list('+x1234')\n",
    "#offset = 0.75\n",
    "offset=0\n",
    "lbt = -1.0*look_back_times.min()\n",
    "fig = plt.figure(figsize=(6,6))\n",
    "ax = fig.add_subplot(projection='polar')\n",
    "for i, (t, m) in enumerate(zip(trajectory_spherical, markers)):\n",
    "    ax.plot(np.radians(trajectory_spherical[t]['alpha']), trajectory_spherical[t]['delta']+offset*i, label=t,marker=m,lw=1, ms=15)\n",
    "               #c=look_back_times, cmap='gnuplot_r')\n",
    "    \n",
    "ax.set_ylabel('Declination (degree)')\n",
    "ax.set_xlabel('Right Ascension (degree)')\n",
    "ax.set_title(f'{lbt:.2e} Year Lookback Trajectories Given Varying Radial Velocities\\nFixed Proper Motions')\n",
    "ax.invert_xaxis()\n",
    "ax.set_theta_zero_location(\"N\")\n",
    "ax.legend()"
   ]
  },
  {
   "cell_type": "markdown",
   "metadata": {},
   "source": [
    "Plot above shows that the star follows same trajectory in \\{RA, Dec\\} space regardless of the radial velocity.  How fast a star gets to any given point on its trajectory is determined by its radial velocity."
   ]
  },
  {
   "cell_type": "markdown",
   "metadata": {},
   "source": [
    "## All Search Results"
   ]
  },
  {
   "cell_type": "code",
   "execution_count": null,
   "metadata": {},
   "outputs": [],
   "source": [
    "objs = search_results.objs\n",
    "search_results_xyz = spherical_to_cartesian(objs.ra, objs.dec, objs.r_est)\n",
    "\n",
    "#cartesian motion in km/s; plug number for rv\n",
    "search_results_dxyz = np.array([pm_to_dxyz(s.ra, s.dec, s.r_est, s.pmra, s.pmdec, rv_mean)\\\n",
    "                                   for s in objs.itertuples()]).T\n",
    "\n",
    "look_back_time = -1.0*10e6 # years, negative for look BACK time\n",
    "\n",
    "#conversion factors\n",
    "degree_per_mas = 1/(1000*60*60)\n",
    "seconds_per_year = (1.0*u.year).to_value(u.second)\n",
    "pc_per_km = (1.0*u.km).to_value(u.pc)\n",
    "\n",
    "delta_xyz = search_results_dxyz*look_back_time*seconds_per_year*pc_per_km\n",
    "lbt_xyz = search_results_xyz + delta_xyz\n",
    "\n",
    "spherical = cartesian_to_spherical(lbt_xyz)"
   ]
  },
  {
   "cell_type": "code",
   "execution_count": null,
   "metadata": {},
   "outputs": [],
   "source": [
    "fig = plt.figure(figsize=(8,8))\n",
    "ax = fig.add_subplot()\n",
    "\n",
    "pcm = plot_full_sky_contour(spherical['alpha'], spherical['delta'], ax, gridsize=2)\n",
    "for i, (s, c) in enumerate(zip(orion_stars.index, ['orange','white'])):\n",
    "    ax.scatter(orion_stars.loc[s].ra, orion_stars.loc[s].dec, marker='*', s=50,color=c,label=f'{s} Current Position')\n",
    "    ax.scatter(orion_lbt_spherical['alpha'][i], orion_lbt_spherical['delta'][i], marker=\"+\",s=50, color=c, label=f'{s} LBT Position')\n",
    "ax.legend()\n",
    "fig.colorbar(pcm, label='Stars per 4 square degree')"
   ]
  },
  {
   "cell_type": "code",
   "execution_count": null,
   "metadata": {},
   "outputs": [],
   "source": [
    "#conversion factors\n",
    "degree_per_mas = 1/(1000*60*60)\n",
    "seconds_per_year = (1.0*u.year).to_value(u.second)\n",
    "pc_per_km = (1.0*u.km).to_value(u.pc)\n",
    "degree_per_mas, seconds_per_year, pc_per_km"
   ]
  },
  {
   "cell_type": "code",
   "execution_count": null,
   "metadata": {},
   "outputs": [],
   "source": [
    "def get_pos_lbt(s, lbt, radial_velocity=0.0):\n",
    "    \n",
    "    #conversion factors:\n",
    "    #import astropy.units as u\n",
    "    #degree_per_mas = 1/(1000*60*60)\n",
    "    #seconds_per_year = (1.0*u.year).to_value(u.second)\n",
    "    #pc_per_km = (1.0*u.km).to_value(u.pc)\n",
    "    \n",
    "    degree_per_mas = 2.7777777777777776e-07\n",
    "    seconds_per_year = 31557600.0\n",
    "    pc_per_km = 3.240779289469756e-14\n",
    "    \n",
    "    s_xyz = spherical_to_cartesian(s.ra, s.dec, s.r_est).reshape(3,-1)\n",
    "    \n",
    "    rv = s.radial_velocity if np.isfinite(s.radial_velocity) else radial_velocity\n",
    "    s_dxyz = pm_to_dxyz(s.ra, s.dec, s.r_est, s.pmra, s.pmdec, rv).reshape(3,1)\n",
    "    delta_xyz = s_dxyz.dot( lbt.reshape(1,-1)) * seconds_per_year * pc_per_km\n",
    "    \n",
    "    pos = s_xyz + delta_xyz\n",
    "    #print (pos, s_xyz, s_dxyz, delta_xyz)\n",
    "    return pos  "
   ]
  },
  {
   "cell_type": "markdown",
   "metadata": {},
   "source": [
    "## Orion Runaways"
   ]
  },
  {
   "cell_type": "code",
   "execution_count": null,
   "metadata": {},
   "outputs": [],
   "source": [
    "len(np.linspace(-10e6,0,10001))"
   ]
  },
  {
   "cell_type": "code",
   "execution_count": null,
   "metadata": {},
   "outputs": [],
   "source": [
    "#trajectories for ONC and two runaways\n",
    "look_back_times = np.linspace(-10e6, 0, 10001)\n",
    "trajectories = {}\n",
    "xyz_onc = get_pos_lbt(ONC, look_back_times)\n",
    "trajectories['ONC'] = {'trajectory':cartesian_to_spherical(xyz_onc),'look_back_time':None, 'min_dist':None, 'min_dist_i':0}\n",
    "\n",
    "\n",
    "for ora in orion_runaways_gaiaedr3ids:\n",
    "    trajectories[ora] = {}\n",
    "    s = orion_runaways.objs.loc[orion_runaways_gaiaedr3ids[ora]]\n",
    "    xyz = get_pos_lbt(s, look_back_times)\n",
    "    trajectories[ora]['trajectory'] = cartesian_to_spherical(xyz)\n",
    "    dist_onc = np.sqrt(((xyz-xyz_onc)**2).sum(axis=0))\n",
    "    min_dist_i = dist_onc.argmin()\n",
    "    trajectories[ora]['look_back_time']=look_back_times[min_dist_i]\n",
    "    trajectories[ora]['min_dist'] = dist_onc[min_dist_i]\n",
    "    trajectories[ora]['min_dist_i'] = min_dist_i\n",
    "    \n",
    "   "
   ]
  },
  {
   "cell_type": "code",
   "execution_count": null,
   "metadata": {},
   "outputs": [],
   "source": [
    "for ora in orion_runaways_gaiaedr3ids:\n",
    "    lbt_x = trajectories[ora]['look_back_time']\n",
    "    min_dist = trajectories[ora]['min_dist']\n",
    "    print(f'Star: {ora}, Min Dist: {min_dist:.2f} pc, look back time at min_dist: {lbt_x:.2e} years')"
   ]
  },
  {
   "cell_type": "code",
   "execution_count": null,
   "metadata": {},
   "outputs": [],
   "source": [
    "\n",
    "fig = plt.figure(figsize=(6,6))\n",
    "ax = fig.add_subplot()\n",
    "i=10001\n",
    "for ora,col in zip(orion_runaways_gaiaedr3ids, ['blue','orange']):\n",
    "    min_dist_i = trajectories[ora]['min_dist_i']\n",
    "    i = min(i, min_dist_i)\n",
    "    traj = trajectories[ora]['trajectory']\n",
    "    ax.scatter(traj['alpha'][min_dist_i:],traj['delta'][min_dist_i:], s=1,  label=ora, color=col)\n",
    "    ax.scatter(traj['alpha'][-1],traj['delta'][-1], s=100, marker='*',color=col)\n",
    "\n",
    "    \n",
    "traj = trajectories['ONC']['trajectory']\n",
    "ax.scatter(traj['alpha'][i:],traj['delta'][i:], s=1, label='ONC', color='green')\n",
    "ax.scatter(traj['alpha'][-1],traj['delta'][-1], s=100, marker='*', color='green')\n",
    "\n",
    "ax.set_xlabel('Right Ascension')\n",
    "ax.set_ylabel('Declination')\n",
    "ax.set_title('Current Position and Reverse Trajectories')\n",
    "ax.legend()\n",
    "\n",
    "ax.invert_xaxis()"
   ]
  },
  {
   "cell_type": "markdown",
   "metadata": {},
   "source": [
    "NGC1980 relationship to ONC;\n",
    "\n",
    "2012 Alves, Buoy Orion Revisited\n",
    "look for group much futher in foreground distance= 200pc or less\n",
    "\n",
    "grosschettle 2021"
   ]
  },
  {
   "cell_type": "code",
   "execution_count": null,
   "metadata": {},
   "outputs": [],
   "source": [
    "i"
   ]
  },
  {
   "cell_type": "code",
   "execution_count": null,
   "metadata": {},
   "outputs": [],
   "source": [
    "def get_pos_lbt_rv(s, lbt, ntrials, rv_mean, rv_sd):\n",
    "    \n",
    "    #conversion factors:\n",
    "    #import astropy.units as u\n",
    "    #degree_per_mas = 1/(1000*60*60)\n",
    "    #seconds_per_year = (1.0*u.year).to_value(u.second)\n",
    "    #pc_per_km = (1.0*u.km).to_value(u.pc)\n",
    "    \n",
    "    degree_per_mas = 2.7777777777777776e-07\n",
    "    seconds_per_year = 31557600.0\n",
    "    pc_per_km = 3.240779289469756e-14\n",
    "    \n",
    "    s_xyz = spherical_to_cartesian(s.ra, s.dec, s.r_est).reshape(3,-1)\n",
    "    \n",
    "    if np.isfinite(s.radial_velocity):\n",
    "        rv = np.full(ntrials, s.radial_velocity)\n",
    "    else:\n",
    "        rv =  np.random.normal(rv_mean, rv_sd, ntrials)\n",
    "        \n",
    "    s_dxyz = pm_to_dxyz(s.ra, s.dec, s.r_est, s.pmra, s.pmdec, rv)\n",
    "    delta_xyz = s_dxyz * lbt * seconds_per_year * pc_per_km\n",
    "    \n",
    "    pos = s_xyz + delta_xyz\n",
    "    #print (pos, s_xyz, s_dxyz, delta_xyz)\n",
    "    return pos  "
   ]
  },
  {
   "cell_type": "code",
   "execution_count": null,
   "metadata": {},
   "outputs": [],
   "source": [
    "#mean and standard deviation for this population\n",
    "f'rv_mean={rv_mean:.3f}, rv_sd={rv_sd:.3f}'"
   ]
  },
  {
   "cell_type": "code",
   "execution_count": null,
   "metadata": {},
   "outputs": [],
   "source": [
    "xyz=get_pos_lbt_rv(search_results.objs.iloc[133], -10e6, 10000, rv_mean=20.006, rv_sd=31.897 )\n",
    "#xyz=get_pos_lbt_rv(orion_runaways.objs.iloc[1], -10e6, 10000, rv_mean=20.006, rv_sd=31.897 )\n",
    "xyz_s = cartesian_to_spherical(xyz)"
   ]
  },
  {
   "cell_type": "code",
   "execution_count": null,
   "metadata": {},
   "outputs": [],
   "source": [
    "fig = plt.figure(figsize=(8,8))\n",
    "ax = fig.add_subplot()\n",
    "\n",
    "pcm = plot_full_sky_contour(xyz_s['alpha'], xyz_s['delta'], ax, gridsize=2)\n",
    "for i, (s, c) in enumerate(zip(orion_stars.index, ['orange','white'])):\n",
    "    ax.scatter(orion_stars.loc[s].ra, orion_stars.loc[s].dec, marker='*', s=50,color=c,label=f'{s} Current Position')\n",
    "    ax.scatter(orion_lbt_spherical['alpha'][i], orion_lbt_spherical['delta'][i], marker=\"+\",s=50, color=c, label=f'{s} LBT Position')\n",
    "ax.legend(loc='lower left')"
   ]
  },
  {
   "cell_type": "code",
   "execution_count": null,
   "metadata": {},
   "outputs": [],
   "source": [
    "def dist_lbt(star2, star1=None, lbt=-10e6,\n",
    "                                maxpc=3, ntrials=10000, rv_mean=20.006, rv_sd=31.897):\n",
    "    #presumably, star1 has full astrometry, incl radial_velocity\n",
    "    #star2 full astrometry except radial_velocity\n",
    "    \n",
    "    pos1 = get_pos_lbt_rv(star1, lbt=lbt, ntrials=1, rv_mean=None, rv_sd=None)\n",
    "    assert pos1.shape == (3,1)\n",
    "    \n",
    "    pos2 = get_pos_lbt_rv(star2, lbt=lbt, ntrials=ntrials, rv_mean=rv_mean, rv_sd=rv_sd)\n",
    "    assert pos2.shape == (3, ntrials)\n",
    "    \n",
    "    #calc distances (broadcast pos1 across pos2)\n",
    "    delta_xyz = pos2 - pos1\n",
    "    distsq = (delta_xyz**2).sum(axis=0)\n",
    "    assert distsq.shape == (ntrials,)\n",
    "    dist = np.sqrt(distsq)\n",
    "    \n",
    "    n_within_thresh = (dist <= maxpc).sum()\n",
    "    return n_within_thresh"
   ]
  },
  {
   "cell_type": "code",
   "execution_count": null,
   "metadata": {},
   "outputs": [],
   "source": [
    "xyz=get_pos_lbt_rv(orion_stars.loc['M42'], -10e6, 1, rv_mean=20.006, rv_sd=31.897 )\n",
    "xyz_s = cartesian_to_spherical(xyz)\n",
    "xyz_s"
   ]
  },
  {
   "cell_type": "code",
   "execution_count": null,
   "metadata": {},
   "outputs": [],
   "source": [
    "orion_lbt_spherical"
   ]
  },
  {
   "cell_type": "code",
   "execution_count": null,
   "metadata": {},
   "outputs": [],
   "source": [
    "s = orion_stars.loc['M42']\n",
    "spherical_to_cartesian(s.ra, s.dec, s.r_est)"
   ]
  },
  {
   "cell_type": "code",
   "execution_count": null,
   "metadata": {},
   "outputs": [],
   "source": [
    "n  = dist_lbt( search_results.objs.iloc[28], star1=orion_stars.loc['M42'], ntrials=5)"
   ]
  },
  {
   "cell_type": "code",
   "execution_count": null,
   "metadata": {},
   "outputs": [],
   "source": [
    "n"
   ]
  },
  {
   "cell_type": "code",
   "execution_count": null,
   "metadata": {},
   "outputs": [],
   "source": [
    "xyz=get_pos_lbt_rv(orion_stars.loc['M42'], -10e6, 1, rv_mean=20.006, rv_sd=31.897 )\n",
    "xyz"
   ]
  },
  {
   "cell_type": "code",
   "execution_count": null,
   "metadata": {},
   "outputs": [],
   "source": [
    "get_pos_lbt_rv(orion_stars.loc['M42'], lbt=-10e6, ntrials=1, rv_mean=None, rv_sd=None)"
   ]
  },
  {
   "cell_type": "code",
   "execution_count": null,
   "metadata": {},
   "outputs": [],
   "source": [
    "orion_stars.loc['M42']"
   ]
  },
  {
   "cell_type": "code",
   "execution_count": null,
   "metadata": {},
   "outputs": [],
   "source": [
    "np.random.seed(1234)\n",
    "encounters = search_results.objs.apply(dist_lbt,axis=1, star1= orion_stars.loc['Rigel'], maxpc=10)"
   ]
  },
  {
   "cell_type": "code",
   "execution_count": null,
   "metadata": {},
   "outputs": [],
   "source": [
    "(encounters>0).sum()"
   ]
  },
  {
   "cell_type": "code",
   "execution_count": null,
   "metadata": {},
   "outputs": [],
   "source": [
    "encounters[encounters>0]"
   ]
  },
  {
   "cell_type": "code",
   "execution_count": null,
   "metadata": {},
   "outputs": [],
   "source": [
    "star_id = 3210820346789796352                \n",
    "xyz=get_pos_lbt_rv(search_results.objs.loc[star_id], -10e6, 10000, rv_mean=20.006, rv_sd=31.897 )\n",
    "#xyz=get_pos_lbt_rv(orion_runaways.objs.iloc[1], -10e6, 10000, rv_mean=20.006, rv_sd=31.897 )\n",
    "xyz_s = cartesian_to_spherical(xyz)\n",
    "\n",
    "fig = plt.figure(figsize=(8,8))\n",
    "ax = fig.add_subplot()\n",
    "\n",
    "pcm = plot_full_sky_contour(xyz_s['alpha'], xyz_s['delta'], ax, gridsize=2)\n",
    "for i, (s, c) in enumerate(zip(orion_stars.index, ['orange','white'])):\n",
    "    ax.scatter(orion_stars.loc[s].ra, orion_stars.loc[s].dec, marker='*', s=50,color=c,label=f'{s} Current Position')\n",
    "    ax.scatter(orion_lbt_spherical['alpha'][i], orion_lbt_spherical['delta'][i], marker=\"+\",s=50, color=c, label=f'{s} LBT Position')\n",
    "ax.legend(loc='lower left')"
   ]
  },
  {
   "cell_type": "code",
   "execution_count": null,
   "metadata": {},
   "outputs": [],
   "source": [
    "orion_stars.loc['Rigel']"
   ]
  },
  {
   "cell_type": "code",
   "execution_count": null,
   "metadata": {},
   "outputs": [],
   "source": []
  }
 ],
 "metadata": {
  "kernelspec": {
   "display_name": "astro",
   "language": "python",
   "name": "astro"
  },
  "language_info": {
   "codemirror_mode": {
    "name": "ipython",
    "version": 3
   },
   "file_extension": ".py",
   "mimetype": "text/x-python",
   "name": "python",
   "nbconvert_exporter": "python",
   "pygments_lexer": "ipython3",
   "version": "3.7.7"
  }
 },
 "nbformat": 4,
 "nbformat_minor": 4
}
