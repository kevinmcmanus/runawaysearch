{
 "cells": [
  {
   "cell_type": "code",
   "execution_count": 1,
   "metadata": {},
   "outputs": [
    {
     "output_type": "stream",
     "name": "stdout",
     "text": [
      "Created TAP+ (v1.2.1) - Connection:\n\tHost: gea.esac.esa.int\n\tUse HTTPS: True\n\tPort: 443\n\tSSL Port: 443\nCreated TAP+ (v1.2.1) - Connection:\n\tHost: geadata.esac.esa.int\n\tUse HTTPS: True\n\tPort: 443\n\tSSL Port: 443\n"
     ]
    }
   ],
   "source": [
    "import numpy as np\n",
    "import pandas as pd\n",
    "import matplotlib.pyplot as plt\n",
    "#matplotlib inline\n",
    "\n",
    "from matplotlib.ticker import FormatStrFormatter\n",
    "from mpl_toolkits.axes_grid1 import make_axes_locatable\n",
    "\n",
    "import sys\n",
    "sys.path.append('./src')\n",
    "\n",
    "from data_queries import  getClusterInfo, getGAIAKnownMembers\n",
    "from gaiastars import gaiastars as gs\n",
    "\n",
    "import astropy.units as u"
   ]
  },
  {
   "cell_type": "code",
   "execution_count": 2,
   "metadata": {},
   "outputs": [
    {
     "output_type": "stream",
     "name": "stdout",
     "text": [
      "INFO: Query finished. [astroquery.utils.tap.core]\n",
      "INFO: Query finished. [astroquery.utils.tap.core]\n",
      "------ Pleiades -------\n",
      "Pleiades cone search    107919\n",
      "both                      1225\n",
      "Pleiades                   101\n",
      "Name: which, dtype: int64\n",
      "------ alphaPer -------\n",
      "alphaPer cone search    291664\n",
      "both                       699\n",
      "alphaPer                    41\n",
      "Name: which, dtype: int64\n",
      "Pleiades: Maxsep: 3.328984626197819 deg\n",
      "alphaPer: Maxsep: 2.5454915501451394 deg\n"
     ]
    }
   ],
   "source": [
    "from  gaiastars import gaiadr2xdr3\n",
    "known_cluster_members, cluster_names = getGAIAKnownMembers()\n",
    "# just deal with Pleiades and alphaPer for now\n",
    "cluster_names = ['Pleiades', 'alphaPer']\n",
    "xmatches = {}\n",
    "cluster_members={}\n",
    "#for cl in cluster_names:\n",
    "for cl in cluster_names:\n",
    "    known_members_dr2 = list(known_cluster_members.query('Cluster == @cl').index)\n",
    "    xmatches[cl] = gaiadr2xdr3(known_members_dr2)\n",
    "    cluster_members[cl]  = gs(name = cl, description=f'{cl} sources from Table 1a records from Gaia archive')\n",
    "    cluster_members[cl].from_source_idlist(list(xmatches[cl].dr3_source_id),schema='gaiaedr3', query_type='sync')\n",
    "\n",
    "#construct a dict mapping cluster name in Table1a to its name in Simabad\n",
    "cluster_info = getClusterInfo()\n",
    "\n",
    "search_results = {}\n",
    "\n",
    "from gaiastars import from_pickle\n",
    "\n",
    "for cl in cluster_names:\n",
    "    search_results[cl] = from_pickle(f'./data/search_results_{cl}.pkl')\n",
    "\n",
    "#exclude the known members returned from the search\n",
    "for cl in cluster_names:\n",
    "    merged_fs = search_results[cl].merge(cluster_members[cl])\n",
    "    print(f'------ {cl} -------')\n",
    "    print(merged_fs.objs.which.value_counts())\n",
    "    fs = merged_fs.query('which == \\'{} cone search\\''.format(cl))\n",
    "    fs.name = 'Search Results, Known Members excluded'\n",
    "    search_results[cl] = fs\n",
    "\n",
    "for cl in cluster_names:\n",
    "    maxsep = cluster_members[cl].maxsep() /2.0\n",
    "    print(f'{cl}: Maxsep: {maxsep}')\n",
    "    search_results[cl].points_to(cluster_info.loc[cl]['coords'],maxsep.value, inplace=True, allcalcs=True)"
   ]
  },
  {
   "cell_type": "code",
   "execution_count": 3,
   "metadata": {},
   "outputs": [
    {
     "output_type": "execute_result",
     "data": {
      "text/plain": [
       "'/home/kevin_leo_mcmanus/repos/runawaysearch'"
      ]
     },
     "metadata": {},
     "execution_count": 3
    }
   ],
   "source": [
    "import os\n",
    "os.getcwd()"
   ]
  },
  {
   "cell_type": "code",
   "execution_count": 4,
   "metadata": {},
   "outputs": [
    {
     "output_type": "execute_result",
     "data": {
      "text/plain": [
       "<Angle 3.32898463 deg>"
      ],
      "text/latex": "$3^\\circ19{}^\\prime44.3447{}^{\\prime\\prime}$"
     },
     "metadata": {},
     "execution_count": 4
    }
   ],
   "source": [
    "maxsep = cluster_members['Pleiades'].maxsep() /2.0\n",
    "maxsep"
   ]
  },
  {
   "cell_type": "code",
   "execution_count": 5,
   "metadata": {},
   "outputs": [],
   "source": [
    "from explain_pt import explain_pt"
   ]
  },
  {
   "cell_type": "code",
   "execution_count": 6,
   "metadata": {},
   "outputs": [
    {
     "output_type": "stream",
     "name": "stdout",
     "text": [
      "Input:\n               ra        dec  pm_ra_cosdec      pm_dec\nWhich                                                 \nStar     44.54928   2.170299     77.164331 -120.947563\nCluster  56.44000  23.860000     19.997000  -45.548000\n\nColatitude Star (radian): 1.5329\nColatitude Center (radian): 1.1544\nPolar Angle, Star-to-Center (radian): -0.2075\n\nStep 1: Calculate Theta, angle from star to center wrt. Meridian\n----------------------------------------------------------------\nStep 1a: Calculate Great Circle Distance Star-to-Center (radian)\n\tcos(star_cen_dist) = cos(colat_star)*cos(colat_center) + sin(colat_star)*sin(colat_center)*cos(polar_angle)\n\tcos(star_cen_dist) = cos(1.5329)*cos(1.1544) + sin(1.5329)*sin(1.1544)*cos(-0.2075)\n\tcos(star_cen_dist) = 0.9096\n\tstar_cen_dist = 0.4285 radian\nStep 1b: Calculate theta: angle from star to center wrt. meridian\n\tcos(colat_center) = cos(star_cen_dist)*cos(colat_star) + sin(star_cen_dist)*sin(colat_star)*cos(theta)\n\tSolve for theta:\n\tcos(theta) = (cos(colat_center)-cos(star_cen_dist)*cos(colat_star))/(sin(star_center_dist)*sin(colat_star))\n\tcos(theta) = (cos(1.1544)-cos(0.4285)*cos(1.5329))/(sin(0.4285)*sin(1.5329))\n\tcos(theta) = 0.8913\n\ttheta = 0.4707 radian\n\nStep 2: Calculate gamma: Angle from Star to outer edge of Center\n----------------------------------------------------------------\nLet cen_rad be center radius in radians:\nCenter Radius: 3.328984626197819 degrees = 0.0581 radians\nAngle \"r\" between arc(star<->center) and arc(center<->outer_edge) = 90 degrees => cos(r) = 0.0\nStep 2a: Calculate hypot: length of arc connecting star to outer edge of center:\n\tcos(hypot) = cos(star_cen_dist)*cos(cen_rad) + sin(star_cen_dist)*sin(cen_rad)*cos(r)\n\tcos(hypot) = cos(star_cen_dist)*cos(cen_rad) since cos(r)=0\n\tcos(hypot) = cos(0.4285)*cos(0.0581)\n\tcos(hypot) = 0.9081\n\thypot = 0.4322 radian\nStep 2b: calculate gamma\n\tcos(cen_rad) = cos(hypot)*cos(star_cen_dist) + sin(hypot)*sin(star_cen_dist)*cos(gamma)\n\tSolve for gamma:\n\tcos(gamma) = (cos(cen_rad)-cos(hypot)*cos(star_cen_dist))/(sin(hypot)*sin(star_cen_dist))\n\tcos(gamma) = (cos(0.0581)-cos(0.4322)*cos(0.4285))/(sin(0.4322)*sin(0.4285))\n\tcos(gamma) = 0.9903\n\tgamma = 0.1391\n\nStep 3: Calculate Direction of Star Proper Motion in Center Reference Frame\n---------------------------------------------------------------------------\nPM_RA_COSDEC (mas/year): Star: 77.16, Center:20.00, Difference: 57.17  \nPM_DEC (mas/year): Star: -120.95, Center:-45.55, Difference: -75.40  \n\tphi = arctan2(pm_ra_cosdec, pm_dec)\n\tphi = arctan2(57.17, -75.40)\n\tphi = 2.4929 radian\n\tNeed phi', opposite direction of phi\n\tphi' = phi - pi\n\tphi' = 2.4929 - 3.1416\n\tphi' = 5.6345\n\nStep 4: Calculate points_to\n---------------------------\n\tPoints_to = theta - gamma <= phi' <= theta + gamma\n\tPoints_to = 0.4707 - 0.1391 <= 5.6345 <= 0.4707 + 0.1391\n\tPoints_to = 0.3316 <= 5.6345 <= 0.6098\n\tPoints_to = False\n"
     ]
    }
   ],
   "source": [
    "explain_pt(search_results['Pleiades'].objs.iloc[222], cluster_info.loc['Pleiades']['coords'], maxsep.degree)"
   ]
  },
  {
   "cell_type": "code",
   "execution_count": 7,
   "metadata": {},
   "outputs": [
    {
     "output_type": "execute_result",
     "data": {
      "text/plain": [
       "_merge                         left_only\n",
       "which               Pleiades cone search\n",
       "ra                               44.5493\n",
       "dec                               2.1703\n",
       "parallax                          6.6092\n",
       "pmra                             77.1643\n",
       "pmdec                           -120.948\n",
       "radial_velocity                      NaN\n",
       "phot_g_mean_mag                  16.7115\n",
       "phot_bp_mean_mag                 17.6973\n",
       "phot_rp_mean_mag                 15.0903\n",
       "ruwe                             1.14379\n",
       "r_est                            151.304\n",
       "cen_dist                        0.428502\n",
       "theta                           0.470697\n",
       "c                               0.432181\n",
       "gamma                           0.139087\n",
       "delta_pm_ra                      57.1673\n",
       "delta_pm_dec                    -75.3996\n",
       "pm_dir                           2.49287\n",
       "pm_dir_prime                     5.63446\n",
       "points_to                          False\n",
       "Name: 1282756408103936, dtype: object"
      ]
     },
     "metadata": {},
     "execution_count": 7
    }
   ],
   "source": [
    "search_results['Pleiades'].objs.iloc[222]"
   ]
  },
  {
   "cell_type": "code",
   "execution_count": 8,
   "metadata": {},
   "outputs": [
    {
     "output_type": "execute_result",
     "data": {
      "text/plain": [
       "                     _merge                 which         ra       dec  \\\n",
       "source_id                                                                \n",
       "621228365371520   left_only  Pleiades cone search  46.443202  1.760904   \n",
       "621297084847872   left_only  Pleiades cone search  46.439646  1.767968   \n",
       "824294419098240   left_only  Pleiades cone search  47.210041  2.729455   \n",
       "911632578530944   left_only  Pleiades cone search  45.945342  2.521983   \n",
       "1021759835513088  left_only  Pleiades cone search  46.698325  2.766141   \n",
       "\n",
       "                   parallax       pmra       pmdec  radial_velocity  \\\n",
       "source_id                                                             \n",
       "621228365371520    6.709978 -13.442013 -133.510406              NaN   \n",
       "621297084847872    6.726454 -13.464543 -133.151323              NaN   \n",
       "824294419098240   12.909211   4.891285  -92.906115              NaN   \n",
       "911632578530944    8.495969  10.539835  -70.220999              NaN   \n",
       "1021759835513088   8.174193 -15.796483 -114.005202              NaN   \n",
       "\n",
       "                  phot_g_mean_mag  phot_bp_mean_mag  ...       r_est  \\\n",
       "source_id                                            ...               \n",
       "621228365371520         15.443704         16.635983  ...  149.031779   \n",
       "621297084847872         16.428431         17.805946  ...  148.666739   \n",
       "824294419098240         14.395027         15.821107  ...   77.464065   \n",
       "911632578530944         15.493484         16.859322  ...  117.702884   \n",
       "1021759835513088        17.052393         18.809666  ...  122.336233   \n",
       "\n",
       "                  cen_dist     theta         c     gamma  delta_pm_ra  \\\n",
       "source_id                                                               \n",
       "621228365371520   0.421060  0.398914  0.424812  0.141363   -33.439013   \n",
       "621297084847872   0.420971  0.399147  0.424724  0.141391   -33.461543   \n",
       "824294419098240   0.400326  0.385905  0.404295  0.148161   -15.105715   \n",
       "911632578530944   0.412388  0.428617  0.416228  0.144122    -9.457165   \n",
       "1021759835513088  0.403174  0.405433  0.407112  0.147185   -35.793483   \n",
       "\n",
       "                  delta_pm_dec    pm_dir  pm_dir_prime  points_to  \n",
       "source_id                                                          \n",
       "621228365371520     -87.962406 -2.778314      0.363279       True  \n",
       "621297084847872     -87.603323 -2.776728      0.364864       True  \n",
       "824294419098240     -47.358115 -2.832826      0.308766       True  \n",
       "911632578530944     -24.672999 -2.775565      0.366028       True  \n",
       "1021759835513088    -68.457202 -2.659825      0.481767       True  \n",
       "\n",
       "[5 rows x 22 columns]"
      ],
      "text/html": "<div>\n<style scoped>\n    .dataframe tbody tr th:only-of-type {\n        vertical-align: middle;\n    }\n\n    .dataframe tbody tr th {\n        vertical-align: top;\n    }\n\n    .dataframe thead th {\n        text-align: right;\n    }\n</style>\n<table border=\"1\" class=\"dataframe\">\n  <thead>\n    <tr style=\"text-align: right;\">\n      <th></th>\n      <th>_merge</th>\n      <th>which</th>\n      <th>ra</th>\n      <th>dec</th>\n      <th>parallax</th>\n      <th>pmra</th>\n      <th>pmdec</th>\n      <th>radial_velocity</th>\n      <th>phot_g_mean_mag</th>\n      <th>phot_bp_mean_mag</th>\n      <th>...</th>\n      <th>r_est</th>\n      <th>cen_dist</th>\n      <th>theta</th>\n      <th>c</th>\n      <th>gamma</th>\n      <th>delta_pm_ra</th>\n      <th>delta_pm_dec</th>\n      <th>pm_dir</th>\n      <th>pm_dir_prime</th>\n      <th>points_to</th>\n    </tr>\n    <tr>\n      <th>source_id</th>\n      <th></th>\n      <th></th>\n      <th></th>\n      <th></th>\n      <th></th>\n      <th></th>\n      <th></th>\n      <th></th>\n      <th></th>\n      <th></th>\n      <th></th>\n      <th></th>\n      <th></th>\n      <th></th>\n      <th></th>\n      <th></th>\n      <th></th>\n      <th></th>\n      <th></th>\n      <th></th>\n      <th></th>\n    </tr>\n  </thead>\n  <tbody>\n    <tr>\n      <th>621228365371520</th>\n      <td>left_only</td>\n      <td>Pleiades cone search</td>\n      <td>46.443202</td>\n      <td>1.760904</td>\n      <td>6.709978</td>\n      <td>-13.442013</td>\n      <td>-133.510406</td>\n      <td>NaN</td>\n      <td>15.443704</td>\n      <td>16.635983</td>\n      <td>...</td>\n      <td>149.031779</td>\n      <td>0.421060</td>\n      <td>0.398914</td>\n      <td>0.424812</td>\n      <td>0.141363</td>\n      <td>-33.439013</td>\n      <td>-87.962406</td>\n      <td>-2.778314</td>\n      <td>0.363279</td>\n      <td>True</td>\n    </tr>\n    <tr>\n      <th>621297084847872</th>\n      <td>left_only</td>\n      <td>Pleiades cone search</td>\n      <td>46.439646</td>\n      <td>1.767968</td>\n      <td>6.726454</td>\n      <td>-13.464543</td>\n      <td>-133.151323</td>\n      <td>NaN</td>\n      <td>16.428431</td>\n      <td>17.805946</td>\n      <td>...</td>\n      <td>148.666739</td>\n      <td>0.420971</td>\n      <td>0.399147</td>\n      <td>0.424724</td>\n      <td>0.141391</td>\n      <td>-33.461543</td>\n      <td>-87.603323</td>\n      <td>-2.776728</td>\n      <td>0.364864</td>\n      <td>True</td>\n    </tr>\n    <tr>\n      <th>824294419098240</th>\n      <td>left_only</td>\n      <td>Pleiades cone search</td>\n      <td>47.210041</td>\n      <td>2.729455</td>\n      <td>12.909211</td>\n      <td>4.891285</td>\n      <td>-92.906115</td>\n      <td>NaN</td>\n      <td>14.395027</td>\n      <td>15.821107</td>\n      <td>...</td>\n      <td>77.464065</td>\n      <td>0.400326</td>\n      <td>0.385905</td>\n      <td>0.404295</td>\n      <td>0.148161</td>\n      <td>-15.105715</td>\n      <td>-47.358115</td>\n      <td>-2.832826</td>\n      <td>0.308766</td>\n      <td>True</td>\n    </tr>\n    <tr>\n      <th>911632578530944</th>\n      <td>left_only</td>\n      <td>Pleiades cone search</td>\n      <td>45.945342</td>\n      <td>2.521983</td>\n      <td>8.495969</td>\n      <td>10.539835</td>\n      <td>-70.220999</td>\n      <td>NaN</td>\n      <td>15.493484</td>\n      <td>16.859322</td>\n      <td>...</td>\n      <td>117.702884</td>\n      <td>0.412388</td>\n      <td>0.428617</td>\n      <td>0.416228</td>\n      <td>0.144122</td>\n      <td>-9.457165</td>\n      <td>-24.672999</td>\n      <td>-2.775565</td>\n      <td>0.366028</td>\n      <td>True</td>\n    </tr>\n    <tr>\n      <th>1021759835513088</th>\n      <td>left_only</td>\n      <td>Pleiades cone search</td>\n      <td>46.698325</td>\n      <td>2.766141</td>\n      <td>8.174193</td>\n      <td>-15.796483</td>\n      <td>-114.005202</td>\n      <td>NaN</td>\n      <td>17.052393</td>\n      <td>18.809666</td>\n      <td>...</td>\n      <td>122.336233</td>\n      <td>0.403174</td>\n      <td>0.405433</td>\n      <td>0.407112</td>\n      <td>0.147185</td>\n      <td>-35.793483</td>\n      <td>-68.457202</td>\n      <td>-2.659825</td>\n      <td>0.481767</td>\n      <td>True</td>\n    </tr>\n  </tbody>\n</table>\n<p>5 rows × 22 columns</p>\n</div>"
     },
     "metadata": {},
     "execution_count": 8
    }
   ],
   "source": [
    "search_results['Pleiades'].objs.query('points_to').head()"
   ]
  },
  {
   "cell_type": "code",
   "execution_count": 9,
   "metadata": {},
   "outputs": [
    {
     "output_type": "stream",
     "name": "stdout",
     "text": [
      "Input:\n                ra        dec  pm_ra_cosdec      pm_dec\nWhich                                                  \nStar     46.698325   2.766141    -15.796483 -114.005202\nCluster  56.440000  23.860000     19.997000  -45.548000\n\nColatitude Star (radian): 1.5225\nColatitude Center (radian): 1.1544\nPolar Angle, Star-to-Center (radian): -0.1700\n\nStep 1: Calculate Theta, angle from star to center wrt. Meridian\n----------------------------------------------------------------\nStep 1a: Calculate Great Circle Distance Star-to-Center (radian)\n\tcos(star_cen_dist) = cos(colat_star)*cos(colat_center) + sin(colat_star)*sin(colat_center)*cos(polar_angle)\n\tcos(star_cen_dist) = cos(1.5225)*cos(1.1544) + sin(1.5225)*sin(1.1544)*cos(-0.1700)\n\tcos(star_cen_dist) = 0.9198\n\tstar_cen_dist = 0.4032 radian\nStep 1b: Calculate theta: angle from star to center wrt. meridian\n\tcos(colat_center) = cos(star_cen_dist)*cos(colat_star) + sin(star_cen_dist)*sin(colat_star)*cos(theta)\n\tSolve for theta:\n\tcos(theta) = (cos(colat_center)-cos(star_cen_dist)*cos(colat_star))/(sin(star_center_dist)*sin(colat_star))\n\tcos(theta) = (cos(1.1544)-cos(0.4032)*cos(1.5225))/(sin(0.4032)*sin(1.5225))\n\tcos(theta) = 0.9189\n\ttheta = 0.4054 radian\n\nStep 2: Calculate gamma: Angle from Star to outer edge of Center\n----------------------------------------------------------------\nLet cen_rad be center radius in radians:\nCenter Radius: 3.328984626197819 degrees = 0.0581 radians\nAngle \"r\" between arc(star<->center) and arc(center<->outer_edge) = 90 degrees => cos(r) = 0.0\nStep 2a: Calculate hypot: length of arc connecting star to outer edge of center:\n\tcos(hypot) = cos(star_cen_dist)*cos(cen_rad) + sin(star_cen_dist)*sin(cen_rad)*cos(r)\n\tcos(hypot) = cos(star_cen_dist)*cos(cen_rad) since cos(r)=0\n\tcos(hypot) = cos(0.4032)*cos(0.0581)\n\tcos(hypot) = 0.9183\n\thypot = 0.4071 radian\nStep 2b: calculate gamma\n\tcos(cen_rad) = cos(hypot)*cos(star_cen_dist) + sin(hypot)*sin(star_cen_dist)*cos(gamma)\n\tSolve for gamma:\n\tcos(gamma) = (cos(cen_rad)-cos(hypot)*cos(star_cen_dist))/(sin(hypot)*sin(star_cen_dist))\n\tcos(gamma) = (cos(0.0581)-cos(0.4071)*cos(0.4032))/(sin(0.4071)*sin(0.4032))\n\tcos(gamma) = 0.9892\n\tgamma = 0.1472\n\nStep 3: Calculate Direction of Star Proper Motion in Center Reference Frame\n---------------------------------------------------------------------------\nPM_RA_COSDEC (mas/year): Star: -15.80, Center:20.00, Difference: -35.79  \nPM_DEC (mas/year): Star: -114.01, Center:-45.55, Difference: -68.46  \n\tphi = arctan2(pm_ra_cosdec, pm_dec)\n\tphi = arctan2(-35.79, -68.46)\n\tphi = 3.6234 radian\n\tNeed phi', opposite direction of phi\n\tphi' = phi - pi\n\tphi' = 3.6234 - 3.1416\n\tphi' = 0.4818\n\nStep 4: Calculate points_to\n---------------------------\n\tPoints_to = theta - gamma <= phi' <= theta + gamma\n\tPoints_to = 0.4054 - 0.1472 <= 0.4818 <= 0.4054 + 0.1472\n\tPoints_to = 0.2582 <= 0.4818 <= 0.5526\n\tPoints_to = True\n"
     ]
    }
   ],
   "source": [
    "explain_pt(search_results['Pleiades'].objs.loc[1021759835513088], cluster_info.loc['Pleiades']['coords'], maxsep.degree)"
   ]
  },
  {
   "cell_type": "code",
   "execution_count": 10,
   "metadata": {},
   "outputs": [
    {
     "output_type": "execute_result",
     "data": {
      "text/plain": [
       "_merge                         left_only\n",
       "which               Pleiades cone search\n",
       "ra                               46.6983\n",
       "dec                              2.76614\n",
       "parallax                         8.17419\n",
       "pmra                            -15.7965\n",
       "pmdec                           -114.005\n",
       "radial_velocity                      NaN\n",
       "phot_g_mean_mag                  17.0524\n",
       "phot_bp_mean_mag                 18.8097\n",
       "phot_rp_mean_mag                 15.7962\n",
       "ruwe                             1.05491\n",
       "r_est                            122.336\n",
       "cen_dist                        0.403174\n",
       "theta                           0.405433\n",
       "c                               0.407112\n",
       "gamma                           0.147185\n",
       "delta_pm_ra                     -35.7935\n",
       "delta_pm_dec                    -68.4572\n",
       "pm_dir                          -2.65983\n",
       "pm_dir_prime                    0.481767\n",
       "points_to                           True\n",
       "Name: 1021759835513088, dtype: object"
      ]
     },
     "metadata": {},
     "execution_count": 10
    }
   ],
   "source": [
    "search_results['Pleiades'].objs.loc[1021759835513088]"
   ]
  },
  {
   "source": [
    "## Star RA > Center RA"
   ],
   "cell_type": "markdown",
   "metadata": {}
  },
  {
   "cell_type": "code",
   "execution_count": 11,
   "metadata": {},
   "outputs": [
    {
     "output_type": "execute_result",
     "data": {
      "text/plain": [
       "<SkyCoord (ICRS): (ra, dec, distance) in (deg, deg, pc)\n",
       "    (56.44, 23.86, 135.79576317)\n",
       " (pm_ra_cosdec, pm_dec, radial_velocity) in (mas / yr, mas / yr, km / s)\n",
       "    (19.997, -45.548, 5.65)>"
      ]
     },
     "metadata": {},
     "execution_count": 11
    }
   ],
   "source": [
    "cluster_info.loc['Pleiades']['coords']"
   ]
  },
  {
   "cell_type": "code",
   "execution_count": 12,
   "metadata": {},
   "outputs": [
    {
     "output_type": "execute_result",
     "data": {
      "text/plain": [
       "                        _merge                 which         ra        dec  \\\n",
       "source_id                                                                    \n",
       "3449147738451308416  left_only  Pleiades cone search  82.352867  33.546045   \n",
       "3449148223780771840  left_only  Pleiades cone search  82.455613  33.539545   \n",
       "3449150732044356736  left_only  Pleiades cone search  82.587119  33.551089   \n",
       "3449158291184012160  left_only  Pleiades cone search  82.587722  33.783645   \n",
       "3449182549161746560  left_only  Pleiades cone search  82.634579  33.855486   \n",
       "\n",
       "                     parallax        pmra      pmdec  radial_velocity  \\\n",
       "source_id                                                               \n",
       "3449147738451308416  5.532237    4.096252 -21.762671              NaN   \n",
       "3449148223780771840  5.369250   -3.505266  -0.527862              NaN   \n",
       "3449150732044356736  7.593882  -15.165790 -88.632166              NaN   \n",
       "3449158291184012160  5.471653    6.113794  -2.158403              NaN   \n",
       "3449182549161746560  8.155049 -124.381307 -90.466599              NaN   \n",
       "\n",
       "                     phot_g_mean_mag  phot_bp_mean_mag  ...       r_est  \\\n",
       "source_id                                               ...               \n",
       "3449147738451308416        20.338305         21.092461  ...  180.758692   \n",
       "3449148223780771840        20.645977         20.577534  ...  186.245762   \n",
       "3449150732044356736        13.191804         13.960330  ...  131.684949   \n",
       "3449158291184012160        20.650612         20.344765  ...  182.760141   \n",
       "3449182549161746560        16.208384         17.708820  ...  122.623418   \n",
       "\n",
       "                     cen_dist     theta         c     gamma  delta_pm_ra  \\\n",
       "source_id                                                                  \n",
       "3449147738451308416  0.429651  1.856600  0.433319  0.138742   -15.900748   \n",
       "3449148223780771840  0.431053  1.854457  0.434708  0.138324   -23.502266   \n",
       "3449150732044356736  0.432947  1.852451  0.436583  0.137765   -35.162790   \n",
       "3449158291184012160  0.434099  1.860853  0.437725  0.137426   -13.883206   \n",
       "3449182549161746560  0.435110  1.862566  0.438726  0.137131  -144.378307   \n",
       "\n",
       "                     delta_pm_dec    pm_dir  pm_dir_prime  points_to  \n",
       "source_id                                                             \n",
       "3449147738451308416     23.785329 -0.589278      2.552314      False  \n",
       "3449148223780771840     45.020138 -0.481123      2.660470      False  \n",
       "3449150732044356736    -43.084166 -2.457086      0.684506      False  \n",
       "3449158291184012160     43.389597 -0.309672      2.831920      False  \n",
       "3449182549161746560    -44.918599 -1.872421      1.269172      False  \n",
       "\n",
       "[5 rows x 22 columns]"
      ],
      "text/html": "<div>\n<style scoped>\n    .dataframe tbody tr th:only-of-type {\n        vertical-align: middle;\n    }\n\n    .dataframe tbody tr th {\n        vertical-align: top;\n    }\n\n    .dataframe thead th {\n        text-align: right;\n    }\n</style>\n<table border=\"1\" class=\"dataframe\">\n  <thead>\n    <tr style=\"text-align: right;\">\n      <th></th>\n      <th>_merge</th>\n      <th>which</th>\n      <th>ra</th>\n      <th>dec</th>\n      <th>parallax</th>\n      <th>pmra</th>\n      <th>pmdec</th>\n      <th>radial_velocity</th>\n      <th>phot_g_mean_mag</th>\n      <th>phot_bp_mean_mag</th>\n      <th>...</th>\n      <th>r_est</th>\n      <th>cen_dist</th>\n      <th>theta</th>\n      <th>c</th>\n      <th>gamma</th>\n      <th>delta_pm_ra</th>\n      <th>delta_pm_dec</th>\n      <th>pm_dir</th>\n      <th>pm_dir_prime</th>\n      <th>points_to</th>\n    </tr>\n    <tr>\n      <th>source_id</th>\n      <th></th>\n      <th></th>\n      <th></th>\n      <th></th>\n      <th></th>\n      <th></th>\n      <th></th>\n      <th></th>\n      <th></th>\n      <th></th>\n      <th></th>\n      <th></th>\n      <th></th>\n      <th></th>\n      <th></th>\n      <th></th>\n      <th></th>\n      <th></th>\n      <th></th>\n      <th></th>\n      <th></th>\n    </tr>\n  </thead>\n  <tbody>\n    <tr>\n      <th>3449147738451308416</th>\n      <td>left_only</td>\n      <td>Pleiades cone search</td>\n      <td>82.352867</td>\n      <td>33.546045</td>\n      <td>5.532237</td>\n      <td>4.096252</td>\n      <td>-21.762671</td>\n      <td>NaN</td>\n      <td>20.338305</td>\n      <td>21.092461</td>\n      <td>...</td>\n      <td>180.758692</td>\n      <td>0.429651</td>\n      <td>1.856600</td>\n      <td>0.433319</td>\n      <td>0.138742</td>\n      <td>-15.900748</td>\n      <td>23.785329</td>\n      <td>-0.589278</td>\n      <td>2.552314</td>\n      <td>False</td>\n    </tr>\n    <tr>\n      <th>3449148223780771840</th>\n      <td>left_only</td>\n      <td>Pleiades cone search</td>\n      <td>82.455613</td>\n      <td>33.539545</td>\n      <td>5.369250</td>\n      <td>-3.505266</td>\n      <td>-0.527862</td>\n      <td>NaN</td>\n      <td>20.645977</td>\n      <td>20.577534</td>\n      <td>...</td>\n      <td>186.245762</td>\n      <td>0.431053</td>\n      <td>1.854457</td>\n      <td>0.434708</td>\n      <td>0.138324</td>\n      <td>-23.502266</td>\n      <td>45.020138</td>\n      <td>-0.481123</td>\n      <td>2.660470</td>\n      <td>False</td>\n    </tr>\n    <tr>\n      <th>3449150732044356736</th>\n      <td>left_only</td>\n      <td>Pleiades cone search</td>\n      <td>82.587119</td>\n      <td>33.551089</td>\n      <td>7.593882</td>\n      <td>-15.165790</td>\n      <td>-88.632166</td>\n      <td>NaN</td>\n      <td>13.191804</td>\n      <td>13.960330</td>\n      <td>...</td>\n      <td>131.684949</td>\n      <td>0.432947</td>\n      <td>1.852451</td>\n      <td>0.436583</td>\n      <td>0.137765</td>\n      <td>-35.162790</td>\n      <td>-43.084166</td>\n      <td>-2.457086</td>\n      <td>0.684506</td>\n      <td>False</td>\n    </tr>\n    <tr>\n      <th>3449158291184012160</th>\n      <td>left_only</td>\n      <td>Pleiades cone search</td>\n      <td>82.587722</td>\n      <td>33.783645</td>\n      <td>5.471653</td>\n      <td>6.113794</td>\n      <td>-2.158403</td>\n      <td>NaN</td>\n      <td>20.650612</td>\n      <td>20.344765</td>\n      <td>...</td>\n      <td>182.760141</td>\n      <td>0.434099</td>\n      <td>1.860853</td>\n      <td>0.437725</td>\n      <td>0.137426</td>\n      <td>-13.883206</td>\n      <td>43.389597</td>\n      <td>-0.309672</td>\n      <td>2.831920</td>\n      <td>False</td>\n    </tr>\n    <tr>\n      <th>3449182549161746560</th>\n      <td>left_only</td>\n      <td>Pleiades cone search</td>\n      <td>82.634579</td>\n      <td>33.855486</td>\n      <td>8.155049</td>\n      <td>-124.381307</td>\n      <td>-90.466599</td>\n      <td>NaN</td>\n      <td>16.208384</td>\n      <td>17.708820</td>\n      <td>...</td>\n      <td>122.623418</td>\n      <td>0.435110</td>\n      <td>1.862566</td>\n      <td>0.438726</td>\n      <td>0.137131</td>\n      <td>-144.378307</td>\n      <td>-44.918599</td>\n      <td>-1.872421</td>\n      <td>1.269172</td>\n      <td>False</td>\n    </tr>\n  </tbody>\n</table>\n<p>5 rows × 22 columns</p>\n</div>"
     },
     "metadata": {},
     "execution_count": 12
    }
   ],
   "source": [
    "search_results['Pleiades'].objs.query('ra > 56.44').tail()"
   ]
  },
  {
   "cell_type": "code",
   "execution_count": null,
   "metadata": {},
   "outputs": [],
   "source": []
  }
 ],
 "metadata": {
  "kernelspec": {
   "display_name": "astro",
   "language": "python",
   "name": "astro"
  },
  "language_info": {
   "codemirror_mode": {
    "name": "ipython",
    "version": 3
   },
   "file_extension": ".py",
   "mimetype": "text/x-python",
   "name": "python",
   "nbconvert_exporter": "python",
   "pygments_lexer": "ipython3",
   "version": "3.7.7-final"
  }
 },
 "nbformat": 4,
 "nbformat_minor": 4
}