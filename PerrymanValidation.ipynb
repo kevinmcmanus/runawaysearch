{
 "cells": [
  {
   "cell_type": "markdown",
   "metadata": {},
   "source": [
    "# Perryman 1998\n",
    "\n",
    "Differences:\n",
    "1.  This work will be in equitorial coordinates\n",
    "2.  No projection  of center motion to candidate members since cluster is so far away at 2kpc\n",
    "3.  Working only with tangental velocity"
   ]
  },
  {
   "cell_type": "code",
   "execution_count": 1,
   "metadata": {},
   "outputs": [
    {
     "name": "stdout",
     "output_type": "stream",
     "text": [
      "Created TAP+ (v1.2.1) - Connection:\n",
      "\tHost: gea.esac.esa.int\n",
      "\tUse HTTPS: True\n",
      "\tPort: 443\n",
      "\tSSL Port: 443\n",
      "Created TAP+ (v1.2.1) - Connection:\n",
      "\tHost: geadata.esac.esa.int\n",
      "\tUse HTTPS: True\n",
      "\tPort: 443\n",
      "\tSSL Port: 443\n"
     ]
    }
   ],
   "source": [
    "import numpy as np\n",
    "import pandas as pd\n",
    "import matplotlib.pyplot as plt\n",
    "#matplotlib inline\n",
    "\n",
    "from matplotlib.ticker import FormatStrFormatter\n",
    "from mpl_toolkits.axes_grid1 import make_axes_locatable\n",
    "\n",
    "import sys\n",
    "sys.path.append('./src')\n",
    "\n",
    "from data_queries import  getClusterInfo, getGAIAKnownMembers\n",
    "from coeval import coeval\n",
    "from gaiastars import gaiastars as gs,gaiadr2xdr3\n",
    "\n",
    "import astropy.units as u\n",
    "from astropy.coordinates import SkyCoord"
   ]
  },
  {
   "cell_type": "code",
   "execution_count": 2,
   "metadata": {},
   "outputs": [],
   "source": [
    "    #trumpler meta data\n",
    "    trumpler_df = pd.DataFrame([\n",
    "        ['Trumpler14', '10:43:55.4','-59:32:16', 2.37,0.15, 264, -6.58, 0.06, 2.185, 0.084],\n",
    "        ['Trumpler15', '10:44:40.8', '-59:22:10', 2.36, 0.09, 320, np.nan, np.nan, np.nan, np.nan],\n",
    "        ['Trumpler16', '10:45:10.6', '-59:42:28', 2.32,0.12, 320, -6.931,0.063, 2.612, 0.058]\n",
    "    ], columns=['ClusterName','ra', 'dec','distance','disterr','radius','pm_ra_cosdec','pm_ra_cosdec_error','pm_dec','pm_dec_error']\n",
    "    ).set_index('ClusterName')\n",
    "    tc = SkyCoord(ra=trumpler_df.ra, dec=trumpler_df.dec,\n",
    "        pm_ra_cosdec = list(trumpler_df.pm_ra_cosdec)*u.mas/u.year,\n",
    "        pm_dec = list(trumpler_df.pm_dec)*u.mas/u.year,\n",
    "        unit=(u.hourangle, u.deg),\n",
    "        distance = list(trumpler_df.distance)*u.kpc)\n",
    "    \n",
    "    trumpler_coords = {}\n",
    "    for i, cl in enumerate(trumpler_df.index):\n",
    "        trumpler_coords[cl]=tc[i]\n"
   ]
  },
  {
   "cell_type": "code",
   "execution_count": 3,
   "metadata": {},
   "outputs": [
    {
     "data": {
      "text/plain": [
       "<SkyCoord (ICRS): (ra, dec, distance) in (deg, deg, kpc)\n",
       "    (161.17, -59.36944444, 2.36)\n",
       " (pm_ra_cosdec, pm_dec) in mas / yr\n",
       "    (nan, nan)>"
      ]
     },
     "execution_count": 3,
     "metadata": {},
     "output_type": "execute_result"
    }
   ],
   "source": [
    "trumpler_coords['Trumpler15']"
   ]
  },
  {
   "cell_type": "code",
   "execution_count": 4,
   "metadata": {},
   "outputs": [],
   "source": [
    "carina_known_members = pd.read_csv('./data/carina_members.csv', comment='#')"
   ]
  },
  {
   "cell_type": "code",
   "execution_count": 5,
   "metadata": {},
   "outputs": [],
   "source": [
    "errorcolumns = [\n",
    "    'ra_error', 'dec_error', 'parallax_error', 'pmra_error', 'pmdec_error','dr2_radial_velocity_error',\n",
    "    'ra_dec_corr', 'ra_parallax_corr','ra_pmra_corr', 'ra_pmdec_corr',\n",
    "    'dec_parallax_corr', 'dec_pmra_corr', 'dec_pmdec_corr',\n",
    "    'parallax_pmra_corr', 'parallax_pmdec_corr',\n",
    "    'pmra_pmdec_corr'\n",
    "]\n",
    "#add table to query to get the ruwe parameter\n",
    "fixme = gs(name='fixme')\n",
    "fixme.add_table_columns(errorcolumns)"
   ]
  },
  {
   "cell_type": "code",
   "execution_count": 6,
   "metadata": {},
   "outputs": [
    {
     "name": "stdout",
     "output_type": "stream",
     "text": [
      "Fetching Bochum11\n",
      "Fetching Other\n",
      "Fetching Trumpler14\n",
      "Fetching Trumpler15\n",
      "Fetching Trumpler16\n"
     ]
    }
   ],
   "source": [
    "\n",
    "carina_members={}\n",
    "#for cl in cluster_names:\n",
    "for cl, cluster in carina_known_members.groupby('Cluster'):\n",
    "    known_members = list(cluster['Gaia Number'])\n",
    "    print(f'Fetching {cl}')\n",
    "    carina_members[cl]  = gs(name = cl, description=f'{cl} sources from Shull table from Gaia eDR3')\n",
    "    carina_members[cl].from_source_idlist(known_members,schema='gaiaedr3', query_type='sync')"
   ]
  },
  {
   "cell_type": "code",
   "execution_count": 7,
   "metadata": {},
   "outputs": [
    {
     "data": {
      "text/plain": [
       "Index(['source_id', 'ra', 'dec', 'parallax', 'pmra', 'pmdec',\n",
       "       'radial_velocity', 'phot_g_mean_mag', 'phot_bp_mean_mag',\n",
       "       'phot_rp_mean_mag', 'ruwe', 'ra_error', 'dec_error', 'parallax_error',\n",
       "       'pmra_error', 'pmdec_error', 'radial_velocity_error', 'ra_dec_corr',\n",
       "       'ra_parallax_corr', 'ra_pmra_corr', 'ra_pmdec_corr',\n",
       "       'dec_parallax_corr', 'dec_pmra_corr', 'dec_pmdec_corr',\n",
       "       'parallax_pmra_corr', 'parallax_pmdec_corr', 'pmra_pmdec_corr',\n",
       "       'r_est'],\n",
       "      dtype='object')"
      ]
     },
     "execution_count": 7,
     "metadata": {},
     "output_type": "execute_result"
    }
   ],
   "source": [
    "carina_members[cl].objs.columns"
   ]
  },
  {
   "cell_type": "code",
   "execution_count": 8,
   "metadata": {},
   "outputs": [],
   "source": [
    "#carina_cluster_names = list(carina_members.keys())\n",
    "# can only deal with the Trumplers at the momemnt\n",
    "carina_cluster_names = ['Trumpler14', 'Trumpler15', 'Trumpler16']"
   ]
  },
  {
   "cell_type": "code",
   "execution_count": 9,
   "metadata": {},
   "outputs": [],
   "source": [
    "for cl in carina_cluster_names:\n",
    "\n",
    "    center=trumpler_coords[cl]\n",
    "    coords = carina_members[cl].get_coords()\n",
    "    cen_dists = center.separation_3d(coords).to_value(u.pc)\n",
    "    cen_seps = center.separation(coords).to_value(u.arcsecond)\n",
    "    carina_members[cl].objs['DistanceFromCenter'] = cen_dists\n",
    "    carina_members[cl].objs['SeparationFromCenter'] = cen_seps"
   ]
  },
  {
   "cell_type": "code",
   "execution_count": 10,
   "metadata": {},
   "outputs": [
    {
     "name": "stdout",
     "output_type": "stream",
     "text": [
      "\n",
      "--- Min/Max distance of Known Members from Cluster Center ---\n",
      "\n",
      "Cluster: Trumpler14, Min distance: 11.60 pc, Max distance: 685.98 pc\n",
      "Cluster: Trumpler15, Min distance: 23.14 pc, Max distance: 161.58 pc\n",
      "Cluster: Trumpler16, Min distance: 3.68 pc, Max distance: 390.31 pc\n"
     ]
    }
   ],
   "source": [
    "print('\\n--- Min/Max distance of Known Members from Cluster Center ---\\n')\n",
    "for cl in carina_cluster_names:\n",
    "    print(f'Cluster: {cl}, Min distance: {carina_members[cl].objs.DistanceFromCenter.min():.2f} pc, Max distance: {carina_members[cl].objs.DistanceFromCenter.max():.2f} pc' )"
   ]
  },
  {
   "cell_type": "code",
   "execution_count": 11,
   "metadata": {},
   "outputs": [
    {
     "name": "stdout",
     "output_type": "stream",
     "text": [
      "\n",
      "--- Min/Max distance of Known Members from Cluster Center ---\n",
      "\n",
      "Cluster: Trumpler14, Min Separation: 32.84 as, Max Separation: 322.12 as\n",
      "Cluster: Trumpler15, Min Separation: 50.63 as, Max Separation: 1248.25 as\n",
      "Cluster: Trumpler16, Min Separation: 43.13 as, Max Separation: 910.22 as\n"
     ]
    }
   ],
   "source": [
    "print('\\n--- Min/Max distance of Known Members from Cluster Center ---\\n')\n",
    "for cl in carina_cluster_names:\n",
    "    print(f'Cluster: {cl}, Min Separation: {carina_members[cl].objs.SeparationFromCenter.min():.2f} as, Max Separation: {carina_members[cl].objs.SeparationFromCenter.max():.2f} as' )"
   ]
  },
  {
   "cell_type": "code",
   "execution_count": 12,
   "metadata": {},
   "outputs": [],
   "source": [
    "from gaiastars import from_pickle\n",
    "\n",
    "carina_search_results = from_pickle(f'./data/carina_search_results')"
   ]
  },
  {
   "cell_type": "code",
   "execution_count": 13,
   "metadata": {},
   "outputs": [],
   "source": [
    "# compute distance relative to Trumpler 15\n",
    "cl='Trumpler15'\n",
    "\n",
    "center=trumpler_coords[cl]\n",
    "coords = carina_search_results.get_coords()\n",
    "cen_dists = center.separation_3d(coords).to_value(u.pc)\n",
    "cen_seps = center.separation(coords).to_value(u.arcsecond)\n",
    "carina_search_results.objs['DistanceFromCenter'] = cen_dists\n",
    "carina_search_results.objs['SeparationCenter']= cen_seps\n",
    "# known members\n",
    "coords = carina_members[cl].get_coords()\n",
    "cen_dists = center.separation_3d(coords).to_value(u.pc)\n",
    "cen_seps = center.separation(coords).to_value(u.arcsecond)\n",
    "carina_members[cl].objs['DistanceFromCenter'] = cen_dists\n",
    "carina_members[cl].objs['SeparationCenter']= cen_seps\n"
   ]
  },
  {
   "cell_type": "code",
   "execution_count": 14,
   "metadata": {},
   "outputs": [],
   "source": [
    "from src.perryman import perryman"
   ]
  },
  {
   "cell_type": "code",
   "execution_count": 15,
   "metadata": {},
   "outputs": [
    {
     "name": "stdout",
     "output_type": "stream",
     "text": [
      "Model initialized with 16 members; Missing members: 4\n",
      "calculating velocities and errors\n",
      "Tangental Velocity Shape: (107081, 2, 1)\n",
      "Covariance.shape: (107081, 3, 3)\n",
      "Tangental_velocity_error_covar.shape: (107081, 2, 2)\n",
      "R.shape: (107081, 3, 2)\n",
      "objs_dxyz.shape: (107081, 3, 1)\n",
      "objs_xyz.shape: (107081, 3, 1)\n",
      "objs_dxyz_covar.shape: (107081, 3, 3)\n"
     ]
    }
   ],
   "source": [
    "t14 = perryman(carina_search_results.objs, list(carina_members['Trumpler14'].objs.index))"
   ]
  },
  {
   "cell_type": "code",
   "execution_count": 16,
   "metadata": {},
   "outputs": [],
   "source": [
    "from perryman import get_R, eq_to_cartesian, get_pm_jacobian, cartesian_to_eq"
   ]
  },
  {
   "cell_type": "markdown",
   "metadata": {},
   "source": [
    "## Some Validation Helper Routines"
   ]
  },
  {
   "cell_type": "code",
   "execution_count": 17,
   "metadata": {},
   "outputs": [],
   "source": [
    "import re\n",
    "def covar_to_err_corr(covar, labs):\n",
    "    err = np.sqrt(np.diag(covar))\n",
    "    dinv = np.diag(1/err)\n",
    "    corr = dinv.dot(covar.dot(dinv))\n",
    "    n = len(labs)\n",
    "    \n",
    "    corr_strs = ['{l1}_{l2}_corr'.format(l1=labs[i].replace('_error',''),\n",
    "                                               l2=labs[j].replace('_error',''))\\\n",
    "                 for i in range(n) for j in range(i+1,n)]\n",
    "    corrs = [corr[i,j] for i in range(n) for j in range(i+1,n)]\n",
    "    #print(corr_strs)\n",
    "    \n",
    "    errdict = {**{l:err[i] for i,l in enumerate(labs)}, **{l:c for l,c in zip(corr_strs, corrs)}}\n",
    "    return errdict"
   ]
  },
  {
   "cell_type": "markdown",
   "metadata": {},
   "source": [
    "## Let the Validation Begin!\n",
    "First, let's validate some of the calculations"
   ]
  },
  {
   "cell_type": "markdown",
   "metadata": {},
   "source": [
    "### Spherical to Cartesian"
   ]
  },
  {
   "cell_type": "code",
   "execution_count": 18,
   "metadata": {},
   "outputs": [
    {
     "data": {
      "text/plain": [
       "(array([[-1115.40290872],\n",
       "        [  363.73769014],\n",
       "        [-1966.87408371]]),\n",
       " array([[ 1.21096096],\n",
       "        [83.47911333],\n",
       "        [14.75121906]]),\n",
       " array([[ 0.11765386,  0.68051986,  0.05912898],\n",
       "        [ 0.68051986, 43.94395143,  7.74071797],\n",
       "        [ 0.05912898,  7.74071797,  1.3979737 ]]))"
      ]
     },
     "execution_count": 18,
     "metadata": {},
     "output_type": "execute_result"
    }
   ],
   "source": [
    "#search_results.objs and t14.objs assumed to be isomorphic\n",
    "t14_coords = carina_search_results.get_coords()\n",
    "star_i = 34334\n",
    "s = t14.objs.iloc[star_i]\n",
    "xyz, d_xyz, d_xyz_covar,pm_error, pm_covar, tang_v, tang_v_covar, pm_jacobian, R = eq_to_cartesian(None,s)\n",
    "xyz, d_xyz, d_xyz_covar"
   ]
  },
  {
   "cell_type": "code",
   "execution_count": 19,
   "metadata": {},
   "outputs": [
    {
     "data": {
      "text/plain": [
       "array([[-1115.40290872],\n",
       "       [  363.73769014],\n",
       "       [-1966.87408371]])"
      ]
     },
     "execution_count": 19,
     "metadata": {},
     "output_type": "execute_result"
    }
   ],
   "source": [
    "t14_coords[star_i].cartesian.xyz.value.reshape(-1,1)"
   ]
  },
  {
   "cell_type": "code",
   "execution_count": 20,
   "metadata": {},
   "outputs": [
    {
     "data": {
      "text/plain": [
       "True"
      ]
     },
     "execution_count": 20,
     "metadata": {},
     "output_type": "execute_result"
    }
   ],
   "source": [
    "np.allclose(t14_coords[star_i].cartesian.xyz.value.reshape(-1,1),xyz)"
   ]
  },
  {
   "cell_type": "code",
   "execution_count": 21,
   "metadata": {},
   "outputs": [
    {
     "data": {
      "text/plain": [
       "array([[ 1.21096096],\n",
       "       [83.47911333],\n",
       "       [14.75121906]])"
      ]
     },
     "execution_count": 21,
     "metadata": {},
     "output_type": "execute_result"
    }
   ],
   "source": [
    "t14_coords[star_i].velocity.d_xyz.value.reshape(-1,1)"
   ]
  },
  {
   "cell_type": "code",
   "execution_count": 22,
   "metadata": {},
   "outputs": [
    {
     "data": {
      "text/plain": [
       "True"
      ]
     },
     "execution_count": 22,
     "metadata": {},
     "output_type": "execute_result"
    }
   ],
   "source": [
    "np.allclose(t14_coords[star_i].velocity.d_xyz.value.reshape(-1,1),d_xyz)"
   ]
  },
  {
   "cell_type": "markdown",
   "metadata": {},
   "source": [
    "Transformations from spherical coordinates to cartesian agree with Astropy. **!YAY!**"
   ]
  },
  {
   "cell_type": "markdown",
   "metadata": {},
   "source": [
    "### Retrieve Motion Error & Correlations from Motion Covariance Matrix"
   ]
  },
  {
   "cell_type": "code",
   "execution_count": 23,
   "metadata": {},
   "outputs": [
    {
     "data": {
      "text/plain": [
       "ra                        161.938630\n",
       "dec                       -59.184512\n",
       "parallax                    0.436643\n",
       "pmra                       -7.344922\n",
       "pmdec                       2.652342\n",
       "radial_velocity                  NaN\n",
       "phot_g_mean_mag            15.802890\n",
       "phot_bp_mean_mag           16.345383\n",
       "phot_rp_mean_mag           15.052031\n",
       "ruwe                        1.144181\n",
       "ra_error                    0.030158\n",
       "dec_error                   0.026451\n",
       "parallax_error              0.034282\n",
       "pmra_error                  0.038519\n",
       "pmdec_error                 0.032923\n",
       "radial_velocity_error            NaN\n",
       "ra_dec_corr                 0.065900\n",
       "ra_parallax_corr           -0.109937\n",
       "ra_pmra_corr               -0.114580\n",
       "ra_pmdec_corr               0.057084\n",
       "dec_parallax_corr           0.061034\n",
       "dec_pmra_corr               0.061835\n",
       "dec_pmdec_corr             -0.055852\n",
       "parallax_pmra_corr          0.145616\n",
       "parallax_pmdec_corr        -0.054600\n",
       "pmra_pmdec_corr             0.080253\n",
       "r_est                    2290.201392\n",
       "e_bp_min_rp_val_est         0.757500\n",
       "a_g_val_est                 1.509620\n",
       "DistanceFromCenter         71.986289\n",
       "SeparationCenter         1562.573023\n",
       "Name: 5350444994913745536, dtype: float64"
      ]
     },
     "execution_count": 23,
     "metadata": {},
     "output_type": "execute_result"
    }
   ],
   "source": [
    "s"
   ]
  },
  {
   "cell_type": "code",
   "execution_count": 24,
   "metadata": {},
   "outputs": [
    {
     "data": {
      "text/plain": [
       "array([[ 1.17522148e-03,  1.92285773e-04, -6.16239593e-05,\n",
       "         0.00000000e+00],\n",
       "       [ 1.92285773e-04,  1.48373680e-03,  1.01773103e-04,\n",
       "         0.00000000e+00],\n",
       "       [-6.16239593e-05,  1.01773103e-04,  1.08389657e-03,\n",
       "         0.00000000e+00],\n",
       "       [ 0.00000000e+00,  0.00000000e+00,  0.00000000e+00,\n",
       "         0.00000000e+00]])"
      ]
     },
     "execution_count": 24,
     "metadata": {},
     "output_type": "execute_result"
    }
   ],
   "source": [
    "pm_covar"
   ]
  },
  {
   "cell_type": "code",
   "execution_count": 25,
   "metadata": {},
   "outputs": [
    {
     "name": "stderr",
     "output_type": "stream",
     "text": [
      "/home/kevin_leo_mcmanus/anaconda3/envs/astro/lib/python3.7/site-packages/ipykernel_launcher.py:4: RuntimeWarning: divide by zero encountered in true_divide\n",
      "  after removing the cwd from sys.path.\n"
     ]
    },
    {
     "data": {
      "text/plain": [
       "{'parallax_error': 0.03428150340914726,\n",
       " 'pmra_error': 0.03851930424571037,\n",
       " 'pmdec_error': 0.03292258456349373,\n",
       " 'radial_velocity_error': 0.0,\n",
       " 'parallax_pmra_corr': 0.14561592042446136,\n",
       " 'parallax_pmdec_corr': -0.05460039898753166,\n",
       " 'parallax_radial_velocity_corr': nan,\n",
       " 'pmra_pmdec_corr': 0.08025288581848143,\n",
       " 'pmra_radial_velocity_corr': nan,\n",
       " 'pmdec_radial_velocity_corr': nan}"
      ]
     },
     "execution_count": 25,
     "metadata": {},
     "output_type": "execute_result"
    }
   ],
   "source": [
    "covar_to_err_corr(pm_covar,labs=['parallax_error','pmra_error','pmdec_error','radial_velocity_error'])"
   ]
  },
  {
   "cell_type": "markdown",
   "metadata": {},
   "source": [
    "### Tangental Velocity and Error"
   ]
  },
  {
   "cell_type": "code",
   "execution_count": 26,
   "metadata": {},
   "outputs": [
    {
     "data": {
      "text/plain": [
       "(array([[-79.74111908],\n",
       "        [ 28.79550625],\n",
       "        [  0.        ]]),\n",
       " array([[ 40.13245737, -14.40168944,   0.        ],\n",
       "        [-14.40168944,   5.32712162,   0.        ],\n",
       "        [  0.        ,   0.        ,   0.        ]]))"
      ]
     },
     "execution_count": 26,
     "metadata": {},
     "output_type": "execute_result"
    }
   ],
   "source": [
    "tang_v, tang_v_covar"
   ]
  },
  {
   "cell_type": "code",
   "execution_count": 27,
   "metadata": {},
   "outputs": [
    {
     "name": "stderr",
     "output_type": "stream",
     "text": [
      "/home/kevin_leo_mcmanus/anaconda3/envs/astro/lib/python3.7/site-packages/ipykernel_launcher.py:4: RuntimeWarning: divide by zero encountered in true_divide\n",
      "  after removing the cwd from sys.path.\n"
     ]
    },
    {
     "data": {
      "text/plain": [
       "{'VRA_error': 6.335018340221204,\n",
       " 'VDec_error': 2.3080558096518393,\n",
       " 'VR': 0.0,\n",
       " 'VRA_VDec_corr': -0.9849615082104841,\n",
       " 'VRA_VR_corr': nan,\n",
       " 'VDec_VR_corr': nan}"
      ]
     },
     "execution_count": 27,
     "metadata": {},
     "output_type": "execute_result"
    }
   ],
   "source": [
    "covar_to_err_corr(tang_v_covar,['VRA_error','VDec_error','VR'])"
   ]
  },
  {
   "cell_type": "markdown",
   "metadata": {},
   "source": [
    "Notice loss of precision in VRA and VDec compared to PMRA and PMDec. RA goes from $0.034282\\ /\\ 7.344922 = 0.00467$ to $6.33501834\\ /\\ 79.74111908 = 0.07944 $"
   ]
  },
  {
   "cell_type": "markdown",
   "metadata": {},
   "source": [
    "### No Inverse Transform from Tangental Velocity Covariance to PM Covariance\n",
    "\n",
    "The transformation from Proper Motion errors and correlations to that of Tangental Velocity is given by\n",
    "$$\n",
    "C_{tang\\_v} = J C_{PM} J^T\n",
    "$$\n",
    "where $C_{PM}$ is the covariance matrix derived the errors and correlation on the observed proper motions and $C_{tang\\_v}$ is the covariance matrix of of the tangental velocities. $J$ is the Jacobian of the transformation from \n",
    "$(\\varpi, \\mu_{\\alpha*}, \\mu_\\delta, V_R)$ to $(V_{\\alpha*}, V_{\\delta}, V_R)$ .\n",
    "$J$ is given in Perryman98 in Equation 15.\n",
    "\n",
    "In general, $J$ is singular, i.e. not square, so the equation above cannot be inverted.\n",
    "In the case at hand, $J$ is of dimension $(3,4)$"
   ]
  },
  {
   "cell_type": "markdown",
   "metadata": {},
   "source": [
    "## Retreive Tangental Velocity Covariance from Space Velocity Covariance"
   ]
  },
  {
   "cell_type": "code",
   "execution_count": 28,
   "metadata": {},
   "outputs": [
    {
     "data": {
      "text/plain": [
       "array([[ 40.13245737, -14.40168944,   0.        ],\n",
       "       [-14.40168944,   5.32712162,   0.        ],\n",
       "       [  0.        ,   0.        ,   0.        ]])"
      ]
     },
     "execution_count": 28,
     "metadata": {},
     "output_type": "execute_result"
    }
   ],
   "source": [
    "tang_v_covar"
   ]
  },
  {
   "cell_type": "code",
   "execution_count": 29,
   "metadata": {},
   "outputs": [
    {
     "data": {
      "text/plain": [
       "array([[ 0.11765386,  0.68051986,  0.05912898],\n",
       "       [ 0.68051986, 43.94395143,  7.74071797],\n",
       "       [ 0.05912898,  7.74071797,  1.3979737 ]])"
      ]
     },
     "execution_count": 29,
     "metadata": {},
     "output_type": "execute_result"
    }
   ],
   "source": [
    "d_xyz_covar"
   ]
  },
  {
   "cell_type": "code",
   "execution_count": 30,
   "metadata": {},
   "outputs": [
    {
     "data": {
      "text/plain": [
       "{'x_error': 0.34300708838128613,\n",
       " 'y_error': 6.629023414548858,\n",
       " 'z_error': 1.182359377723125,\n",
       " 'x_y_corr': 0.29928720744544957,\n",
       " 'x_z_corr': 0.14579673515728556,\n",
       " 'y_z_corr': 0.9876025236568243}"
      ]
     },
     "execution_count": 30,
     "metadata": {},
     "output_type": "execute_result"
    }
   ],
   "source": [
    "covar_to_err_corr(d_xyz_covar,labs=['x_error','y_error','z_error'])"
   ]
  },
  {
   "cell_type": "code",
   "execution_count": 31,
   "metadata": {},
   "outputs": [
    {
     "data": {
      "text/plain": [
       "array([[ 1.21096096],\n",
       "       [83.47911333],\n",
       "       [14.75121906]])"
      ]
     },
     "execution_count": 31,
     "metadata": {},
     "output_type": "execute_result"
    }
   ],
   "source": [
    "d_xyz"
   ]
  },
  {
   "cell_type": "code",
   "execution_count": 32,
   "metadata": {},
   "outputs": [
    {
     "data": {
      "text/plain": [
       "array([[ 36.15813944, -11.13822214, -14.39146143],\n",
       "       [-11.13822214,   3.54940821,   4.37984912],\n",
       "       [-14.39146143,   4.37984912,   5.75203135]])"
      ]
     },
     "execution_count": 32,
     "metadata": {},
     "output_type": "execute_result"
    }
   ],
   "source": [
    "R.dot(d_xyz_covar.dot(R.T))"
   ]
  },
  {
   "cell_type": "code",
   "execution_count": 49,
   "metadata": {},
   "outputs": [
    {
     "data": {
      "text/plain": [
       "True"
      ]
     },
     "execution_count": 49,
     "metadata": {},
     "output_type": "execute_result"
    }
   ],
   "source": [
    "np.allclose(tang_v_covar, R.T.dot(d_xyz_covar.dot(R)))"
   ]
  },
  {
   "cell_type": "markdown",
   "metadata": {},
   "source": [
    "Yes, we can retrieve Tangental Velocity Covariance from Space Velocity Covariance because the transformation matrix ($R$) is square $(3,3)$ and thus invertable."
   ]
  },
  {
   "cell_type": "markdown",
   "metadata": {},
   "source": [
    "## Validated So Far:\n",
    "\n",
    "1. Transformation from Equatorial to Cartesian Coords is correct\n",
    "2. Transfomration from Proper Motion to Space Velocity is correct\n",
    "3. Inverse transformation from Covariance to standard errors and correlations\n",
    "4. Inability to transform from Space Velocity Covariance matrix to PM Covariance and thus to PM errors and correlations\n",
    "    "
   ]
  },
  {
   "cell_type": "markdown",
   "metadata": {},
   "source": [
    "## Compare to Model Calculations"
   ]
  },
  {
   "cell_type": "code",
   "execution_count": 34,
   "metadata": {},
   "outputs": [],
   "source": [
    "info = t14.get_info(star_i)"
   ]
  },
  {
   "cell_type": "markdown",
   "metadata": {},
   "source": [
    "### Position and Velocity"
   ]
  },
  {
   "cell_type": "code",
   "execution_count": 35,
   "metadata": {},
   "outputs": [
    {
     "data": {
      "text/plain": [
       "array([[-0.31003551, -0.81650301],\n",
       "       [-0.95072498,  0.26626514],\n",
       "       [ 0.        ,  0.51227504]])"
      ]
     },
     "execution_count": 35,
     "metadata": {},
     "output_type": "execute_result"
    }
   ],
   "source": [
    "info['R']"
   ]
  },
  {
   "cell_type": "code",
   "execution_count": 36,
   "metadata": {},
   "outputs": [
    {
     "data": {
      "text/plain": [
       "array([[-0.31003551, -0.81650301, -0.48703267],\n",
       "       [-0.95072498,  0.26626514,  0.15882345],\n",
       "       [ 0.        ,  0.51227504, -0.85882145]])"
      ]
     },
     "execution_count": 36,
     "metadata": {},
     "output_type": "execute_result"
    }
   ],
   "source": [
    "R"
   ]
  },
  {
   "cell_type": "code",
   "execution_count": 37,
   "metadata": {},
   "outputs": [
    {
     "data": {
      "text/plain": [
       "True"
      ]
     },
     "execution_count": 37,
     "metadata": {},
     "output_type": "execute_result"
    }
   ],
   "source": [
    "np.allclose(info['R'], R[:,:2] )"
   ]
  },
  {
   "cell_type": "code",
   "execution_count": 38,
   "metadata": {},
   "outputs": [
    {
     "data": {
      "text/plain": [
       "True"
      ]
     },
     "execution_count": 38,
     "metadata": {},
     "output_type": "execute_result"
    }
   ],
   "source": [
    "np.allclose(info['space_pos'], xyz)"
   ]
  },
  {
   "cell_type": "code",
   "execution_count": 39,
   "metadata": {},
   "outputs": [
    {
     "data": {
      "text/plain": [
       "True"
      ]
     },
     "execution_count": 39,
     "metadata": {},
     "output_type": "execute_result"
    }
   ],
   "source": [
    "np.allclose(info['space_velocity'],d_xyz)"
   ]
  },
  {
   "cell_type": "code",
   "execution_count": 40,
   "metadata": {},
   "outputs": [
    {
     "data": {
      "text/plain": [
       "True"
      ]
     },
     "execution_count": 40,
     "metadata": {},
     "output_type": "execute_result"
    }
   ],
   "source": [
    "np.allclose(info['tangental_velocity'],tang_v[:2])"
   ]
  },
  {
   "cell_type": "markdown",
   "metadata": {},
   "source": [
    "### Tangental Velocity Covariances"
   ]
  },
  {
   "cell_type": "code",
   "execution_count": 41,
   "metadata": {},
   "outputs": [
    {
     "data": {
      "text/plain": [
       "array([[ 40.13245737, -14.40168944,   0.        ],\n",
       "       [-14.40168944,   5.32712162,   0.        ],\n",
       "       [  0.        ,   0.        ,   0.        ]])"
      ]
     },
     "execution_count": 41,
     "metadata": {},
     "output_type": "execute_result"
    }
   ],
   "source": [
    "tang_v_covar"
   ]
  },
  {
   "cell_type": "code",
   "execution_count": 42,
   "metadata": {},
   "outputs": [
    {
     "data": {
      "text/plain": [
       "array([[ 40.13245737, -14.40168944],\n",
       "       [-14.40168944,   5.32712162]])"
      ]
     },
     "execution_count": 42,
     "metadata": {},
     "output_type": "execute_result"
    }
   ],
   "source": [
    "info['tangental_velocity_covar']"
   ]
  },
  {
   "cell_type": "code",
   "execution_count": 43,
   "metadata": {},
   "outputs": [
    {
     "data": {
      "text/plain": [
       "True"
      ]
     },
     "execution_count": 43,
     "metadata": {},
     "output_type": "execute_result"
    }
   ],
   "source": [
    "np.allclose(info['tangental_velocity_covar'], tang_v_covar[:2,:2])"
   ]
  },
  {
   "cell_type": "markdown",
   "metadata": {},
   "source": [
    "### Proper Motion Covariances"
   ]
  },
  {
   "cell_type": "code",
   "execution_count": 44,
   "metadata": {},
   "outputs": [
    {
     "data": {
      "text/plain": [
       "array([[ 1.17522148e-03,  1.92285773e-04, -6.16239593e-05],\n",
       "       [ 1.92285773e-04,  1.48373680e-03,  1.01773103e-04],\n",
       "       [-6.16239593e-05,  1.01773103e-04,  1.08389657e-03]])"
      ]
     },
     "execution_count": 44,
     "metadata": {},
     "output_type": "execute_result"
    }
   ],
   "source": [
    "pm_covar[:3,:3]"
   ]
  },
  {
   "cell_type": "code",
   "execution_count": 45,
   "metadata": {},
   "outputs": [
    {
     "data": {
      "text/plain": [
       "array([[ 1.17522148e-03,  1.92285773e-04, -6.16239593e-05],\n",
       "       [ 1.92285773e-04,  1.48373680e-03,  1.01773103e-04],\n",
       "       [-6.16239593e-05,  1.01773103e-04,  1.08389657e-03]])"
      ]
     },
     "execution_count": 45,
     "metadata": {},
     "output_type": "execute_result"
    }
   ],
   "source": [
    "#permute the rows & columns\n",
    "colperm = [2,0,1]\n",
    "info['PM_covar'][colperm][:,colperm]"
   ]
  },
  {
   "cell_type": "code",
   "execution_count": 46,
   "metadata": {},
   "outputs": [
    {
     "data": {
      "text/plain": [
       "True"
      ]
     },
     "execution_count": 46,
     "metadata": {},
     "output_type": "execute_result"
    }
   ],
   "source": [
    "np.allclose(info['PM_covar'][colperm][:,colperm],pm_covar[:3,:3])"
   ]
  },
  {
   "cell_type": "markdown",
   "metadata": {},
   "source": [
    "### Space Velocity Covariance"
   ]
  },
  {
   "cell_type": "code",
   "execution_count": 47,
   "metadata": {},
   "outputs": [
    {
     "data": {
      "text/plain": [
       "(array([[ 0.11765386,  0.68051986,  0.05912898],\n",
       "        [ 0.68051986, 43.94395143,  7.74071797],\n",
       "        [ 0.05912898,  7.74071797,  1.3979737 ]]),\n",
       " array([[ 0.11765386,  0.68051986,  0.05912898],\n",
       "        [ 0.68051986, 43.94395143,  7.74071797],\n",
       "        [ 0.05912898,  7.74071797,  1.3979737 ]]))"
      ]
     },
     "execution_count": 47,
     "metadata": {},
     "output_type": "execute_result"
    }
   ],
   "source": [
    "info['space_velocity_covar'], d_xyz_covar"
   ]
  },
  {
   "cell_type": "code",
   "execution_count": 48,
   "metadata": {},
   "outputs": [
    {
     "data": {
      "text/plain": [
       "True"
      ]
     },
     "execution_count": 48,
     "metadata": {},
     "output_type": "execute_result"
    }
   ],
   "source": [
    "np.allclose(info['space_velocity_covar'], d_xyz_covar)"
   ]
  },
  {
   "cell_type": "markdown",
   "metadata": {},
   "source": [
    "All the model set-up calculations check out! **!Yay!**"
   ]
  },
  {
   "cell_type": "code",
   "execution_count": null,
   "metadata": {},
   "outputs": [],
   "source": []
  }
 ],
 "metadata": {
  "kernelspec": {
   "display_name": "astro",
   "language": "python",
   "name": "astro"
  },
  "language_info": {
   "codemirror_mode": {
    "name": "ipython",
    "version": 3
   },
   "file_extension": ".py",
   "mimetype": "text/x-python",
   "name": "python",
   "nbconvert_exporter": "python",
   "pygments_lexer": "ipython3",
   "version": "3.7.7"
  }
 },
 "nbformat": 4,
 "nbformat_minor": 4
}
